{
  "cells": [
    {
      "cell_type": "code",
      "execution_count": 1,
      "metadata": {
        "colab": {
          "base_uri": "https://localhost:8080/"
        },
        "id": "akMOsC_K-P68",
        "outputId": "9b0cfba4-7ef6-47e6-cc6c-112d5c266f14"
      },
      "outputs": [
        {
          "name": "stdout",
          "output_type": "stream",
          "text": [
            "2.7.1+cpu\n"
          ]
        }
      ],
      "source": [
        "import numpy as np\n",
        "import torch\n",
        "import pandas as pd\n",
        "import matplotlib.pyplot as plt\n",
        "print(torch.__version__)"
      ]
    },
    {
      "cell_type": "markdown",
      "metadata": {
        "id": "i4n73orp_c63"
      },
      "source": [
        "#introduction to tensors\n"
      ]
    },
    {
      "cell_type": "markdown",
      "metadata": {
        "id": "N0uyrU_2M8Zh"
      },
      "source": []
    },
    {
      "cell_type": "code",
      "execution_count": 2,
      "metadata": {
        "colab": {
          "base_uri": "https://localhost:8080/"
        },
        "id": "rmkNM_yy-92z",
        "outputId": "dab3ede8-a7b0-44b9-db10-9dbab5786c9e"
      },
      "outputs": [
        {
          "data": {
            "text/plain": [
              "tensor(7)"
            ]
          },
          "execution_count": 2,
          "metadata": {},
          "output_type": "execute_result"
        }
      ],
      "source": [
        "#scalar\n",
        "scalar = torch.tensor(7)\n",
        "scalar\n"
      ]
    },
    {
      "cell_type": "markdown",
      "metadata": {
        "id": "Z4pVDDeFPsb2"
      },
      "source": [
        "pytorch tensors are created using torch.Tensors() => read assignment"
      ]
    },
    {
      "cell_type": "code",
      "execution_count": 3,
      "metadata": {
        "colab": {
          "base_uri": "https://localhost:8080/"
        },
        "id": "LYB3ZgTSP4A4",
        "outputId": "4c66090e-83fe-42f6-a0ec-86bad71bfa38"
      },
      "outputs": [
        {
          "data": {
            "text/plain": [
              "0"
            ]
          },
          "execution_count": 3,
          "metadata": {},
          "output_type": "execute_result"
        }
      ],
      "source": [
        "scalar.ndim"
      ]
    },
    {
      "cell_type": "code",
      "execution_count": 4,
      "metadata": {
        "colab": {
          "base_uri": "https://localhost:8080/"
        },
        "id": "mgOywg6MPSuy",
        "outputId": "ab3a3500-0dd6-4f6c-8279-0bf0488f1185"
      },
      "outputs": [
        {
          "data": {
            "text/plain": [
              "7"
            ]
          },
          "execution_count": 4,
          "metadata": {},
          "output_type": "execute_result"
        }
      ],
      "source": [
        "#get tensor back as python int\n",
        "scalar.item()"
      ]
    },
    {
      "cell_type": "code",
      "execution_count": 5,
      "metadata": {
        "colab": {
          "base_uri": "https://localhost:8080/"
        },
        "id": "IX5m3McNQRkX",
        "outputId": "f2253033-bf7f-45a8-e3cd-b933b852e333"
      },
      "outputs": [
        {
          "data": {
            "text/plain": [
              "tensor([7, 7])"
            ]
          },
          "execution_count": 5,
          "metadata": {},
          "output_type": "execute_result"
        }
      ],
      "source": [
        "#vector\n",
        "vector = torch.tensor([7,7])\n",
        "vector"
      ]
    },
    {
      "cell_type": "code",
      "execution_count": 6,
      "metadata": {
        "colab": {
          "base_uri": "https://localhost:8080/"
        },
        "id": "j3BDD5zuQsRY",
        "outputId": "55ed3224-dd5a-4ef4-c19b-3441d97da50d"
      },
      "outputs": [
        {
          "data": {
            "text/plain": [
              "1"
            ]
          },
          "execution_count": 6,
          "metadata": {},
          "output_type": "execute_result"
        }
      ],
      "source": [
        "vector.ndim"
      ]
    },
    {
      "cell_type": "code",
      "execution_count": 7,
      "metadata": {
        "colab": {
          "base_uri": "https://localhost:8080/"
        },
        "id": "KQ2gMh_5QwEm",
        "outputId": "60bc6b87-f8eb-4642-f01d-97275f209a9a"
      },
      "outputs": [
        {
          "data": {
            "text/plain": [
              "torch.Size([2])"
            ]
          },
          "execution_count": 7,
          "metadata": {},
          "output_type": "execute_result"
        }
      ],
      "source": [
        "vector.shape"
      ]
    },
    {
      "cell_type": "code",
      "execution_count": 8,
      "metadata": {
        "colab": {
          "base_uri": "https://localhost:8080/"
        },
        "id": "hq2b381sQ3uT",
        "outputId": "a66c13a4-1053-498c-8bcd-e4d7741c600c"
      },
      "outputs": [
        {
          "data": {
            "text/plain": [
              "tensor([[2, 3],\n",
              "        [6, 9]])"
            ]
          },
          "execution_count": 8,
          "metadata": {},
          "output_type": "execute_result"
        }
      ],
      "source": [
        "#matrix\n",
        "MATRIX = torch.tensor([[2,3],[6,9]])\n",
        "MATRIX"
      ]
    },
    {
      "cell_type": "code",
      "execution_count": 9,
      "metadata": {
        "colab": {
          "base_uri": "https://localhost:8080/"
        },
        "id": "Qbpfbxi_RHow",
        "outputId": "56268bd8-847d-4878-b891-d5e4646ddb8b"
      },
      "outputs": [
        {
          "data": {
            "text/plain": [
              "2"
            ]
          },
          "execution_count": 9,
          "metadata": {},
          "output_type": "execute_result"
        }
      ],
      "source": [
        "MATRIX.ndim"
      ]
    },
    {
      "cell_type": "code",
      "execution_count": 10,
      "metadata": {
        "colab": {
          "base_uri": "https://localhost:8080/"
        },
        "id": "NcyKdCk9RSPO",
        "outputId": "922fe387-48ed-45b2-99f5-142c4ad68cda"
      },
      "outputs": [
        {
          "data": {
            "text/plain": [
              "torch.Size([2, 2])"
            ]
          },
          "execution_count": 10,
          "metadata": {},
          "output_type": "execute_result"
        }
      ],
      "source": [
        "MATRIX.shape"
      ]
    },
    {
      "cell_type": "code",
      "execution_count": 11,
      "metadata": {
        "colab": {
          "base_uri": "https://localhost:8080/"
        },
        "id": "yy7nqzeuRX_Y",
        "outputId": "2f8931cd-ac3f-4fb0-e079-eac0c715bba7"
      },
      "outputs": [
        {
          "data": {
            "text/plain": [
              "tensor([[[[5, 5, 5],\n",
              "          [5, 5, 5]],\n",
              "\n",
              "         [[6, 6, 5],\n",
              "          [6, 6, 5]],\n",
              "\n",
              "         [[1, 1, 1],\n",
              "          [1, 1, 1]]]])"
            ]
          },
          "execution_count": 11,
          "metadata": {},
          "output_type": "execute_result"
        }
      ],
      "source": [
        "#tensor\n",
        "TENSOR = torch.tensor([[[[5,5,5],[5,5,5]], [[6,6,5], [6,6,5]], [[1,1,1], [1,1,1]]]])\n",
        "TENSOR"
      ]
    },
    {
      "cell_type": "code",
      "execution_count": 12,
      "metadata": {
        "colab": {
          "base_uri": "https://localhost:8080/"
        },
        "id": "SQUhJDWwRoLk",
        "outputId": "48ec7c91-dbdf-4d8d-9e2c-9a98acb31cc5"
      },
      "outputs": [
        {
          "data": {
            "text/plain": [
              "4"
            ]
          },
          "execution_count": 12,
          "metadata": {},
          "output_type": "execute_result"
        }
      ],
      "source": [
        "TENSOR.ndim"
      ]
    },
    {
      "cell_type": "code",
      "execution_count": 13,
      "metadata": {
        "colab": {
          "base_uri": "https://localhost:8080/"
        },
        "id": "snb4AneaRrK3",
        "outputId": "49f8e4c8-985b-4780-98a7-83d43e3be0e4"
      },
      "outputs": [
        {
          "data": {
            "text/plain": [
              "torch.Size([1, 3, 2, 3])"
            ]
          },
          "execution_count": 13,
          "metadata": {},
          "output_type": "execute_result"
        }
      ],
      "source": [
        "TENSOR.shape"
      ]
    },
    {
      "cell_type": "markdown",
      "metadata": {
        "id": "BUEW5lGPYuPV"
      },
      "source": [
        "1 batch, 3 matrices, 2 rows, 3 columns. => 4D tensor.\n",
        "\n",
        "\n",
        "---\n",
        "\n"
      ]
    },
    {
      "cell_type": "markdown",
      "metadata": {
        "id": "Pplza31XZKPZ"
      },
      "source": [
        "###Random tensor\n",
        "\n",
        "\n",
        "- why random tensors?\n",
        "- cus the way many NN kearns => start of tensors of rands, adjust em th represent data\n",
        "\n",
        "steps?\n",
        "\n",
        "`start w rand => look @data => update rand => look @data => update rand`\n",
        "\n",
        "t2: ==> read randoms from documentation>>>"
      ]
    },
    {
      "cell_type": "code",
      "execution_count": 14,
      "metadata": {
        "colab": {
          "base_uri": "https://localhost:8080/"
        },
        "id": "1vCOnCxkYshK",
        "outputId": "2eefdb4d-dcef-420a-915f-d021f9577e42"
      },
      "outputs": [
        {
          "data": {
            "text/plain": [
              "tensor([[0.5296, 0.0805, 0.0525, 0.1052],\n",
              "        [0.2052, 0.1716, 0.2288, 0.4170],\n",
              "        [0.4376, 0.8735, 0.7321, 0.9864]])"
            ]
          },
          "execution_count": 14,
          "metadata": {},
          "output_type": "execute_result"
        }
      ],
      "source": [
        "#random tensors => shape (3,4)\n",
        "\n",
        "random_ten = torch.rand(3,4)\n",
        "random_ten"
      ]
    },
    {
      "cell_type": "code",
      "execution_count": 15,
      "metadata": {
        "colab": {
          "base_uri": "https://localhost:8080/"
        },
        "id": "UgMPQVfvauA-",
        "outputId": "265e8cb2-f068-4d87-d99f-93efa78acf25"
      },
      "outputs": [
        {
          "data": {
            "text/plain": [
              "2"
            ]
          },
          "execution_count": 15,
          "metadata": {},
          "output_type": "execute_result"
        }
      ],
      "source": [
        "random_ten.ndim"
      ]
    },
    {
      "cell_type": "code",
      "execution_count": 16,
      "metadata": {
        "colab": {
          "base_uri": "https://localhost:8080/"
        },
        "collapsed": true,
        "id": "B-9ZcOFwa1wM",
        "outputId": "67118e66-6898-4136-c338-e6a2b1aa15b8"
      },
      "outputs": [
        {
          "data": {
            "text/plain": [
              "tensor([[0.7684, 0.4564, 0.8761, 0.5513, 0.4093, 0.9943, 0.3301, 0.4018, 0.7527,\n",
              "         0.6644],\n",
              "        [0.6310, 0.4707, 0.3950, 0.2472, 0.8013, 0.1111, 0.8026, 0.3912, 0.6141,\n",
              "         0.3975],\n",
              "        [0.9726, 0.1932, 0.9792, 0.7268, 0.3242, 0.7529, 0.3430, 0.5894, 0.1700,\n",
              "         0.8594],\n",
              "        [0.7831, 0.9335, 0.1758, 0.0377, 0.7145, 0.8127, 0.8792, 0.6861, 0.0261,\n",
              "         0.3922],\n",
              "        [0.9587, 0.7605, 0.3676, 0.3856, 0.9598, 0.9806, 0.5540, 0.2949, 0.9900,\n",
              "         0.9588],\n",
              "        [0.1544, 0.7748, 0.0486, 0.2056, 0.5264, 0.1344, 0.2934, 0.0362, 0.9608,\n",
              "         0.3282],\n",
              "        [0.5749, 0.6678, 0.9777, 0.2019, 0.4470, 0.4054, 0.8132, 0.8745, 0.2080,\n",
              "         0.8868],\n",
              "        [0.0821, 0.4382, 0.4401, 0.6651, 0.8749, 0.0676, 0.9582, 0.8224, 0.6343,\n",
              "         0.8011],\n",
              "        [0.5337, 0.0197, 0.7985, 0.1808, 0.8834, 0.7629, 0.5529, 0.8108, 0.7012,\n",
              "         0.7973],\n",
              "        [0.6932, 0.4194, 0.3438, 0.7289, 0.9153, 0.8325, 0.4250, 0.4106, 0.3318,\n",
              "         0.0553]])"
            ]
          },
          "execution_count": 16,
          "metadata": {},
          "output_type": "execute_result"
        }
      ],
      "source": [
        "ran_ten = torch.rand(10,10)\n",
        "ran_ten"
      ]
    },
    {
      "cell_type": "code",
      "execution_count": 17,
      "metadata": {
        "colab": {
          "base_uri": "https://localhost:8080/"
        },
        "id": "hl9G0tvYbBNb",
        "outputId": "c4484986-73cd-478b-dc04-2ce870aa95b1"
      },
      "outputs": [
        {
          "data": {
            "text/plain": [
              "2"
            ]
          },
          "execution_count": 17,
          "metadata": {},
          "output_type": "execute_result"
        }
      ],
      "source": [
        "ran_ten.ndim"
      ]
    },
    {
      "cell_type": "code",
      "execution_count": 18,
      "metadata": {
        "colab": {
          "base_uri": "https://localhost:8080/"
        },
        "id": "7Vc6w6XIbFnF",
        "outputId": "2a666b06-ebd4-4808-8751-a85cbcf3104d"
      },
      "outputs": [
        {
          "data": {
            "text/plain": [
              "3"
            ]
          },
          "execution_count": 18,
          "metadata": {},
          "output_type": "execute_result"
        }
      ],
      "source": [
        "ran_tenn = torch.rand(3,3,3)\n",
        "ran_tenn\n",
        "ran_tenn.ndim"
      ]
    },
    {
      "cell_type": "markdown",
      "metadata": {
        "id": "95F4NmJybfgq"
      },
      "source": [
        "### Random tensor similar shape as image tensor:"
      ]
    },
    {
      "cell_type": "code",
      "execution_count": 19,
      "metadata": {
        "colab": {
          "base_uri": "https://localhost:8080/"
        },
        "id": "vwj-C9XPbYej",
        "outputId": "6390e20f-21b5-4c72-e27f-a165d809e746"
      },
      "outputs": [
        {
          "data": {
            "text/plain": [
              "(torch.Size([244, 244, 3]), 3)"
            ]
          },
          "execution_count": 19,
          "metadata": {},
          "output_type": "execute_result"
        }
      ],
      "source": [
        "rand_img_tens = torch.rand(size=(244,244,3))\n",
        "#heigt, width, color channel(rgb)\n",
        "rand_img_tens.shape, rand_img_tens.ndim"
      ]
    },
    {
      "cell_type": "code",
      "execution_count": 20,
      "metadata": {
        "colab": {
          "base_uri": "https://localhost:8080/"
        },
        "collapsed": true,
        "id": "ihlXcg5kpTNa",
        "outputId": "10b3678d-e4c0-4c65-ca26-8ebdcc4f7fd3"
      },
      "outputs": [
        {
          "data": {
            "text/plain": [
              "tensor([[[0.9109, 0.1024, 0.5079],\n",
              "         [0.8630, 0.4743, 0.6020],\n",
              "         [0.8515, 0.4294, 0.9699],\n",
              "         ...,\n",
              "         [0.4423, 0.5140, 0.9269],\n",
              "         [0.8861, 0.9366, 0.3107],\n",
              "         [0.5222, 0.2230, 0.0912]],\n",
              "\n",
              "        [[0.4290, 0.7388, 0.1044],\n",
              "         [0.6006, 0.3462, 0.9772],\n",
              "         [0.8380, 0.6416, 0.8803],\n",
              "         ...,\n",
              "         [0.5836, 0.6168, 0.2170],\n",
              "         [0.2009, 0.8957, 0.4226],\n",
              "         [0.5178, 0.8376, 0.9995]],\n",
              "\n",
              "        [[0.1481, 0.1370, 0.9106],\n",
              "         [0.9318, 0.0068, 0.0997],\n",
              "         [0.6246, 0.3446, 0.0168],\n",
              "         ...,\n",
              "         [0.8293, 0.9592, 0.5239],\n",
              "         [0.9625, 0.3471, 0.2902],\n",
              "         [0.8733, 0.3484, 0.5653]],\n",
              "\n",
              "        ...,\n",
              "\n",
              "        [[0.3796, 0.0241, 0.5106],\n",
              "         [0.9622, 0.4643, 0.6240],\n",
              "         [0.1993, 0.7758, 0.3852],\n",
              "         ...,\n",
              "         [0.3570, 0.4773, 0.1986],\n",
              "         [0.1220, 0.7337, 0.0591],\n",
              "         [0.0572, 0.4500, 0.3834]],\n",
              "\n",
              "        [[0.1605, 0.5377, 0.9626],\n",
              "         [0.7854, 0.4877, 0.6506],\n",
              "         [0.2484, 0.7271, 0.0070],\n",
              "         ...,\n",
              "         [0.5330, 0.5771, 0.2021],\n",
              "         [0.0464, 0.9740, 0.8498],\n",
              "         [0.2490, 0.9093, 0.4586]],\n",
              "\n",
              "        [[0.8415, 0.2220, 0.3848],\n",
              "         [0.4620, 0.5801, 0.8923],\n",
              "         [0.6741, 0.0899, 0.6788],\n",
              "         ...,\n",
              "         [0.3123, 0.1753, 0.0511],\n",
              "         [0.4019, 0.2942, 0.1544],\n",
              "         [0.2959, 0.2939, 0.6251]]])"
            ]
          },
          "execution_count": 20,
          "metadata": {},
          "output_type": "execute_result"
        }
      ],
      "source": [
        "rand_img_tens"
      ]
    },
    {
      "cell_type": "markdown",
      "metadata": {
        "id": "I7nc5rnMsaWj"
      },
      "source": [
        "Zeros and Ones\n"
      ]
    },
    {
      "cell_type": "code",
      "execution_count": 21,
      "metadata": {
        "colab": {
          "base_uri": "https://localhost:8080/"
        },
        "id": "jMTjrZJKDnqL",
        "outputId": "ee0d66c7-64a2-45a0-c061-7e9c58434cec"
      },
      "outputs": [
        {
          "data": {
            "text/plain": [
              "tensor([[0., 0., 0., 0.],\n",
              "        [0., 0., 0., 0.],\n",
              "        [0., 0., 0., 0.]])"
            ]
          },
          "execution_count": 21,
          "metadata": {},
          "output_type": "execute_result"
        }
      ],
      "source": [
        "#tensor of zeros\n",
        "zero = torch.zeros(3,4)\n",
        "zero"
      ]
    },
    {
      "cell_type": "code",
      "execution_count": 22,
      "metadata": {
        "colab": {
          "base_uri": "https://localhost:8080/"
        },
        "id": "Iq3llN-RD-vR",
        "outputId": "aea1be0b-b87d-4300-a425-10cbba695e13"
      },
      "outputs": [
        {
          "data": {
            "text/plain": [
              "tensor([[0., 0., 0., 0.],\n",
              "        [0., 0., 0., 0.],\n",
              "        [0., 0., 0., 0.]])"
            ]
          },
          "execution_count": 22,
          "metadata": {},
          "output_type": "execute_result"
        }
      ],
      "source": [
        "zero * random_ten"
      ]
    },
    {
      "cell_type": "code",
      "execution_count": 23,
      "metadata": {
        "colab": {
          "base_uri": "https://localhost:8080/"
        },
        "id": "eXjKcz1gEQjw",
        "outputId": "21b1ffa8-dc0d-436a-e25e-7e1ea1f2810b"
      },
      "outputs": [
        {
          "data": {
            "text/plain": [
              "tensor([[1., 1., 1., 1.],\n",
              "        [1., 1., 1., 1.],\n",
              "        [1., 1., 1., 1.]])"
            ]
          },
          "execution_count": 23,
          "metadata": {},
          "output_type": "execute_result"
        }
      ],
      "source": [
        "#tensor of ones\n",
        "ones = torch.ones(3,4)\n",
        "ones"
      ]
    },
    {
      "cell_type": "code",
      "execution_count": 24,
      "metadata": {
        "colab": {
          "base_uri": "https://localhost:8080/"
        },
        "id": "ZFUi4ztcEcb7",
        "outputId": "d66f6a0c-c1bd-47a4-cb25-d1ca079f27ac"
      },
      "outputs": [
        {
          "data": {
            "text/plain": [
              "torch.float32"
            ]
          },
          "execution_count": 24,
          "metadata": {},
          "output_type": "execute_result"
        }
      ],
      "source": [
        "ones.dtype"
      ]
    },
    {
      "cell_type": "code",
      "execution_count": 25,
      "metadata": {
        "colab": {
          "base_uri": "https://localhost:8080/"
        },
        "id": "llDqT5vSEzJm",
        "outputId": "9a9e13d2-6d01-4f76-9af9-f7225a7b0dd3"
      },
      "outputs": [
        {
          "data": {
            "text/plain": [
              "torch.float32"
            ]
          },
          "execution_count": 25,
          "metadata": {},
          "output_type": "execute_result"
        }
      ],
      "source": [
        "random_ten.dtype"
      ]
    },
    {
      "cell_type": "markdown",
      "metadata": {
        "id": "SwcTY28vE0XF"
      },
      "source": [
        "### creating range of tensors & tensors alike"
      ]
    },
    {
      "cell_type": "code",
      "execution_count": 26,
      "metadata": {
        "colab": {
          "base_uri": "https://localhost:8080/"
        },
        "id": "CQDn77YNFYfe",
        "outputId": "0441c18d-23f4-4869-e422-c88f465d4ed4"
      },
      "outputs": [
        {
          "data": {
            "text/plain": [
              "tensor([0, 2, 4, 6, 8])"
            ]
          },
          "execution_count": 26,
          "metadata": {},
          "output_type": "execute_result"
        }
      ],
      "source": [
        "#using torch.range/arange\n",
        "one_ten = torch.arange(0,10,2)\n",
        "one_ten"
      ]
    },
    {
      "cell_type": "code",
      "execution_count": 27,
      "metadata": {
        "colab": {
          "base_uri": "https://localhost:8080/"
        },
        "id": "_37_KHrgFsyT",
        "outputId": "edd5ecad-5d33-4c41-8c35-11aa436efaf3"
      },
      "outputs": [
        {
          "data": {
            "text/plain": [
              "tensor([0, 0, 0, 0, 0])"
            ]
          },
          "execution_count": 27,
          "metadata": {},
          "output_type": "execute_result"
        }
      ],
      "source": [
        "#tensor like\n",
        "ten_zero = torch.zeros_like(one_ten)\n",
        "ten_zero"
      ]
    },
    {
      "cell_type": "code",
      "execution_count": 28,
      "metadata": {
        "colab": {
          "base_uri": "https://localhost:8080/"
        },
        "id": "2tC3BG8eHOSP",
        "outputId": "5669ba19-eeb5-41d0-9b83-efe9e295d3f5"
      },
      "outputs": [
        {
          "data": {
            "text/plain": [
              "tensor([[1.4607, 1.7411, 1.5373, 1.5159, 1.8342, 1.0022, 1.9489, 1.4445, 1.0423,\n",
              "         1.6130, 1.9687, 1.4364, 1.8394, 1.1160, 1.0711, 1.4397, 1.7246, 1.2093,\n",
              "         1.2812, 1.4393]])"
            ]
          },
          "execution_count": 28,
          "metadata": {},
          "output_type": "execute_result"
        }
      ],
      "source": [
        "ten_shape = torch.arange(1,100,5)\n",
        "#ten_shape\n",
        "ten1_shape = torch.ones_like(ten_shape)\n",
        "ten2_shape = torch.zeros_like(ten_shape)\n",
        "rten = torch.rand(1,20)\n",
        "ten1_shape + ten2_shape + rten"
      ]
    },
    {
      "cell_type": "markdown",
      "metadata": {
        "id": "h2xH_B7UIO_2"
      },
      "source": [
        "###Tensor datatypes"
      ]
    },
    {
      "cell_type": "code",
      "execution_count": 29,
      "metadata": {
        "colab": {
          "base_uri": "https://localhost:8080/"
        },
        "id": "ErjE_yBNIYGh",
        "outputId": "ca445b05-7e72-4b64-a267-a24cbaa9886b"
      },
      "outputs": [
        {
          "data": {
            "text/plain": [
              "tensor([3., 6., 9.])"
            ]
          },
          "execution_count": 29,
          "metadata": {},
          "output_type": "execute_result"
        }
      ],
      "source": [
        "#float 32 tensor\n",
        "f32_ten = torch.tensor([3.0,6.0,9.0], #anything else is auto assigned, no need t add manually.\n",
        "                       dtype=None,\n",
        "                       device = None, #dev ur tensor on + track gradient w this op\n",
        "                       requires_grad = False) #\n",
        "f32_ten"
      ]
    },
    {
      "cell_type": "code",
      "execution_count": 30,
      "metadata": {
        "colab": {
          "base_uri": "https://localhost:8080/"
        },
        "id": "AXKmx-jeI922",
        "outputId": "17574d4f-fd5c-4f21-864a-f8665a6a2e8e"
      },
      "outputs": [
        {
          "data": {
            "text/plain": [
              "torch.float32"
            ]
          },
          "execution_count": 30,
          "metadata": {},
          "output_type": "execute_result"
        }
      ],
      "source": [
        "f32_ten.dtype"
      ]
    },
    {
      "cell_type": "markdown",
      "metadata": {
        "id": "q_2Kss97JVtC"
      },
      "source": [
        "### problems with tensors:\n",
        "1. not right data type => f16 in f32\n",
        "2. not right shape => matrix mult\n",
        "3. not right device => device =\"cpu\" / \"cuda\" -> operations on tensors on diff devices."
      ]
    },
    {
      "cell_type": "code",
      "execution_count": 31,
      "metadata": {
        "colab": {
          "base_uri": "https://localhost:8080/"
        },
        "id": "H2Xzh1Z9K3dR",
        "outputId": "1c52dbdd-01fb-43d7-b02d-480a898a8915"
      },
      "outputs": [
        {
          "data": {
            "text/plain": [
              "tensor([3., 6., 9.], dtype=torch.float16)"
            ]
          },
          "execution_count": 31,
          "metadata": {},
          "output_type": "execute_result"
        }
      ],
      "source": [
        "f16_Ten = f32_ten.type(torch.float16)\n",
        "f16_Ten #conversion to not run into \"not right shape\" problem."
      ]
    },
    {
      "cell_type": "code",
      "execution_count": 32,
      "metadata": {
        "colab": {
          "base_uri": "https://localhost:8080/"
        },
        "id": "8BUbfd8TfXde",
        "outputId": "701f1c4d-d70a-4acb-99ce-9394b5117ba7"
      },
      "outputs": [
        {
          "data": {
            "text/plain": [
              "tensor([ 9., 36., 81.])"
            ]
          },
          "execution_count": 32,
          "metadata": {},
          "output_type": "execute_result"
        }
      ],
      "source": [
        "f16_Ten * f32_ten"
      ]
    },
    {
      "cell_type": "code",
      "execution_count": 33,
      "metadata": {
        "colab": {
          "base_uri": "https://localhost:8080/"
        },
        "id": "BhzVqEy3i0sA",
        "outputId": "cfa71fcf-8cdc-4c76-92d3-5fbbc663f907"
      },
      "outputs": [
        {
          "data": {
            "text/plain": [
              "tensor([3, 6, 9], dtype=torch.int32)"
            ]
          },
          "execution_count": 33,
          "metadata": {},
          "output_type": "execute_result"
        }
      ],
      "source": [
        "int32 = torch.tensor([3,6,9], dtype = torch.int32)\n",
        "int32\n"
      ]
    },
    {
      "cell_type": "code",
      "execution_count": 34,
      "metadata": {
        "colab": {
          "base_uri": "https://localhost:8080/"
        },
        "id": "STEr3bzLvwG8",
        "outputId": "3586c60f-bae7-451e-f22a-736285b7d061"
      },
      "outputs": [
        {
          "data": {
            "text/plain": [
              "tensor([ 9., 36., 81.], dtype=torch.float16)"
            ]
          },
          "execution_count": 34,
          "metadata": {},
          "output_type": "execute_result"
        }
      ],
      "source": [
        "int32 * f16_Ten"
      ]
    },
    {
      "cell_type": "markdown",
      "metadata": {
        "id": "JfJ8GUByv1wS"
      },
      "source": [
        "### getting info from tensors"
      ]
    },
    {
      "cell_type": "markdown",
      "metadata": {
        "id": "qGBgGNEFwTd4"
      },
      "source": [
        "- data type check => to get data type: use tensor.dtype\n",
        "- shape check => tensor.shape\n",
        "- device => tensor.device\n"
      ]
    },
    {
      "cell_type": "code",
      "execution_count": 35,
      "metadata": {
        "colab": {
          "base_uri": "https://localhost:8080/"
        },
        "id": "k9rw4xm9w_yQ",
        "outputId": "0dcfd504-03db-49c1-cf18-353eb6513540"
      },
      "outputs": [
        {
          "data": {
            "text/plain": [
              "tensor([[0.0914, 0.9410, 0.1424, 0.8009],\n",
              "        [0.4792, 0.1743, 0.8004, 0.5843],\n",
              "        [0.5090, 0.0293, 0.3775, 0.6541]])"
            ]
          },
          "execution_count": 35,
          "metadata": {},
          "output_type": "execute_result"
        }
      ],
      "source": [
        "some = torch.rand(3,4)\n",
        "some"
      ]
    },
    {
      "cell_type": "code",
      "execution_count": 36,
      "metadata": {
        "colab": {
          "base_uri": "https://localhost:8080/"
        },
        "id": "eO8ZWRrIxdEx",
        "outputId": "30a2bf2d-c603-4bbf-b444-e8b3574ae31b"
      },
      "outputs": [
        {
          "name": "stdout",
          "output_type": "stream",
          "text": [
            "tensor([[0.0914, 0.9410, 0.1424, 0.8009],\n",
            "        [0.4792, 0.1743, 0.8004, 0.5843],\n",
            "        [0.5090, 0.0293, 0.3775, 0.6541]])\n",
            "data type: torch.float32\n",
            "torch.Size([3, 4])\n",
            "torch.Size([3, 4])\n",
            "cpu\n",
            "cpu\n"
          ]
        }
      ],
      "source": [
        "#fetch details\n",
        "print(some)\n",
        "print(f\"data type: {some.dtype}\")\n",
        "print(some.size())\n",
        "print(some.shape)\n",
        "print(some.device)\n",
        "some = some.to('cpu')\n",
        "print(some.device)\n"
      ]
    },
    {
      "cell_type": "markdown",
      "metadata": {
        "id": "oA7br6uiykPf"
      },
      "source": [
        "### manipulating tensors\n",
        "- addition\n",
        "- subtraction\n",
        "* multiplication\n",
        "- division\n",
        "- MATRIX MULTIP"
      ]
    },
    {
      "cell_type": "code",
      "execution_count": 37,
      "metadata": {
        "id": "BFNMusbdA_hy"
      },
      "outputs": [],
      "source": [
        "# addition\n",
        "tensor = torch.tensor([1,2,3])\n",
        "#tensor + 10\n",
        "#tensor *10\n",
        "#tensor -10\n",
        "#tensor/10\n"
      ]
    },
    {
      "cell_type": "code",
      "execution_count": 38,
      "metadata": {
        "colab": {
          "base_uri": "https://localhost:8080/"
        },
        "id": "PLgEiZarBoeN",
        "outputId": "7a2e78a5-b280-4bb7-bf7e-d2b6edfee4c5"
      },
      "outputs": [
        {
          "data": {
            "text/plain": [
              "tensor([10, 20, 30])"
            ]
          },
          "execution_count": 38,
          "metadata": {},
          "output_type": "execute_result"
        }
      ],
      "source": [
        "#there's built-in functions:\n",
        "torch.mul(tensor, 10)"
      ]
    },
    {
      "cell_type": "code",
      "execution_count": 39,
      "metadata": {
        "colab": {
          "base_uri": "https://localhost:8080/"
        },
        "id": "SRDDB2HtKg4Y",
        "outputId": "593dcf7e-6e5c-4543-fa94-4365cc504d12"
      },
      "outputs": [
        {
          "name": "stdout",
          "output_type": "stream",
          "text": [
            "tensor([1, 4, 9])\n"
          ]
        }
      ],
      "source": [
        "#MATRIX MUL\n",
        "#1. element wiste\n",
        "print(tensor * tensor)\n"
      ]
    },
    {
      "cell_type": "code",
      "execution_count": 40,
      "metadata": {
        "colab": {
          "base_uri": "https://localhost:8080/"
        },
        "id": "DKaqFrHGaRer",
        "outputId": "2be30659-e6ed-4751-f8ec-62dab1e8545b"
      },
      "outputs": [
        {
          "name": "stdout",
          "output_type": "stream",
          "text": [
            "CPU times: total: 0 ns\n",
            "Wall time: 24.3 μs\n"
          ]
        },
        {
          "data": {
            "text/plain": [
              "tensor(14)"
            ]
          },
          "execution_count": 40,
          "metadata": {},
          "output_type": "execute_result"
        }
      ],
      "source": [
        "#2. dot product\n",
        "%time\n",
        "\n",
        "torch.matmul(tensor, tensor)"
      ]
    },
    {
      "cell_type": "code",
      "execution_count": 41,
      "metadata": {
        "colab": {
          "base_uri": "https://localhost:8080/"
        },
        "id": "Qfr5MnQgaX_M",
        "outputId": "a87cac61-0663-469d-d3a1-cfb22521aa4b"
      },
      "outputs": [
        {
          "name": "stdout",
          "output_type": "stream",
          "text": [
            "CPU times: total: 0 ns\n",
            "Wall time: 27.4 μs\n"
          ]
        },
        {
          "data": {
            "text/plain": [
              "tensor(14)"
            ]
          },
          "execution_count": 41,
          "metadata": {},
          "output_type": "execute_result"
        }
      ],
      "source": [
        "#MATRIX MUL by hand\n",
        "#1*1 + 2*2 + 3*3\n",
        "\n",
        "%time\n",
        "sum =0\n",
        "for i in tensor:\n",
        "  sum += i*i\n",
        "\n",
        "sum"
      ]
    },
    {
      "cell_type": "markdown",
      "metadata": {
        "id": "DwnMUHCZciLr"
      },
      "source": [
        "### one of the most common errors in matrix multiplication => shape error\n",
        "-- inner dimensions MUST match"
      ]
    },
    {
      "cell_type": "code",
      "execution_count": 42,
      "metadata": {
        "colab": {
          "base_uri": "https://localhost:8080/",
          "height": 193
        },
        "collapsed": true,
        "id": "tDoy8JjKc2oC",
        "outputId": "4ea759c2-8f6c-4a8f-a86b-941309fb067c"
      },
      "outputs": [],
      "source": [
        "# shapes for mat mul\n",
        "tensor_a = torch.tensor([[1,2], [3,4],[5,6]])\n",
        "tensor_b = torch.tensor([[1,2], [3,4],[5,6]])\n",
        "\n",
        "#torch.mm(tensor_a, tensor_b) #alias for matmul\n",
        "#RuntimeError: mat1 and mat2 shapes cannot be multiplied (3x2 and 3x2)"
      ]
    },
    {
      "cell_type": "markdown",
      "metadata": {
        "id": "ytLMb5Zze1v9"
      },
      "source": [
        "### to fix the shape issues => **transpose**\n",
        "transpose -> switches axes or dimensions of a given tensor\n"
      ]
    },
    {
      "cell_type": "code",
      "execution_count": 43,
      "metadata": {
        "colab": {
          "base_uri": "https://localhost:8080/"
        },
        "id": "yvkC7NbXfTQ-",
        "outputId": "c62d7054-1e16-4939-8d6a-cbb5976b7a28"
      },
      "outputs": [
        {
          "data": {
            "text/plain": [
              "(tensor([[1, 3, 5],\n",
              "         [2, 4, 6]]),\n",
              " torch.Size([2, 3]))"
            ]
          },
          "execution_count": 43,
          "metadata": {},
          "output_type": "execute_result"
        }
      ],
      "source": [
        "tensor_b.T, tensor_b.T.shape\n",
        "#makes a copy, doesn't change the original tensor_b"
      ]
    },
    {
      "cell_type": "code",
      "execution_count": 44,
      "metadata": {
        "colab": {
          "base_uri": "https://localhost:8080/"
        },
        "id": "A_vymhMbflD4",
        "outputId": "cddec6eb-b9ab-41a3-d10e-2c8c1a3b9d82"
      },
      "outputs": [
        {
          "data": {
            "text/plain": [
              "tensor([[ 5, 11, 17],\n",
              "        [11, 25, 39],\n",
              "        [17, 39, 61]])"
            ]
          },
          "execution_count": 44,
          "metadata": {},
          "output_type": "execute_result"
        }
      ],
      "source": [
        "#works when b is transposed\n",
        "torch.mm(tensor_a, tensor_b.T)"
      ]
    },
    {
      "cell_type": "markdown",
      "metadata": {
        "id": "8FpoK6kJfs0T"
      },
      "source": [
        "## Tensor aggregation\n"
      ]
    },
    {
      "cell_type": "code",
      "execution_count": 45,
      "metadata": {
        "colab": {
          "base_uri": "https://localhost:8080/"
        },
        "id": "FeR30IqFjnaf",
        "outputId": "31444e9a-51eb-4283-9303-540e7df4efb5"
      },
      "outputs": [
        {
          "data": {
            "text/plain": [
              "tensor([ 1, 11, 21, 31, 41, 51, 61, 71, 81, 91])"
            ]
          },
          "execution_count": 45,
          "metadata": {},
          "output_type": "execute_result"
        }
      ],
      "source": [
        "x = torch.arange(1,100,10)\n",
        "x\n"
      ]
    },
    {
      "cell_type": "code",
      "execution_count": 46,
      "metadata": {
        "colab": {
          "base_uri": "https://localhost:8080/"
        },
        "id": "0rKXSmL_jwMR",
        "outputId": "c55bbb6e-a46d-48db-b64a-0699d5345d95"
      },
      "outputs": [
        {
          "data": {
            "text/plain": [
              "(tensor(1), tensor(1))"
            ]
          },
          "execution_count": 46,
          "metadata": {},
          "output_type": "execute_result"
        }
      ],
      "source": [
        "torch.min(x) , x.min()"
      ]
    },
    {
      "cell_type": "code",
      "execution_count": 47,
      "metadata": {
        "colab": {
          "base_uri": "https://localhost:8080/"
        },
        "id": "0qKL6UYRj3C-",
        "outputId": "46265803-260a-4daf-8fd0-5865bc6ae967"
      },
      "outputs": [
        {
          "data": {
            "text/plain": [
              "(tensor(91), tensor(91))"
            ]
          },
          "execution_count": 47,
          "metadata": {},
          "output_type": "execute_result"
        }
      ],
      "source": [
        "torch.max(x),  x.max()"
      ]
    },
    {
      "cell_type": "code",
      "execution_count": 48,
      "metadata": {
        "colab": {
          "base_uri": "https://localhost:8080/"
        },
        "collapsed": true,
        "id": "C-2RS0aJj7e_",
        "outputId": "894c5fd0-ec57-434a-9773-53237c8bf9d9"
      },
      "outputs": [
        {
          "data": {
            "text/plain": [
              "(tensor(46.), tensor(46.))"
            ]
          },
          "execution_count": 48,
          "metadata": {},
          "output_type": "execute_result"
        }
      ],
      "source": [
        "torch.mean(x.type(torch.float32)), x.type(torch.float32).mean()\n",
        "#RuntimeError: mean(): could not infer output dtype. Input dtype must be either a floating point or complex dtype. Got: Long\n",
        "#tensor NOT THE RIGHT DATA TYPE ==> HIDDEN"
      ]
    },
    {
      "cell_type": "code",
      "execution_count": 49,
      "metadata": {
        "colab": {
          "base_uri": "https://localhost:8080/"
        },
        "id": "3exs1DakkKTB",
        "outputId": "39234bf1-6e2d-4316-9c9d-17d9f9715aeb"
      },
      "outputs": [
        {
          "data": {
            "text/plain": [
              "torch.int64"
            ]
          },
          "execution_count": 49,
          "metadata": {},
          "output_type": "execute_result"
        }
      ],
      "source": [
        "x.dtype\n",
        "#long = int"
      ]
    },
    {
      "cell_type": "code",
      "execution_count": 50,
      "metadata": {
        "colab": {
          "base_uri": "https://localhost:8080/"
        },
        "id": "d4fQpUC2kNdn",
        "outputId": "fab0a186-3172-44ce-db9d-fd7f8f1fee0a"
      },
      "outputs": [
        {
          "data": {
            "text/plain": [
              "(tensor(460), tensor(460))"
            ]
          },
          "execution_count": 50,
          "metadata": {},
          "output_type": "execute_result"
        }
      ],
      "source": [
        "torch.sum(x), x.sum()"
      ]
    },
    {
      "cell_type": "markdown",
      "metadata": {
        "id": "xN-iTWMuk1M4"
      },
      "source": [
        "### positional min, max?\n",
        "- finding the position in tensor that has the min val with argmin, returns index position of target tensor when min val occures\n"
      ]
    },
    {
      "cell_type": "code",
      "execution_count": 51,
      "metadata": {
        "colab": {
          "base_uri": "https://localhost:8080/"
        },
        "id": "ST-KCoEBmSm8",
        "outputId": "d5ccb2d2-d682-4708-b770-f63682743d71"
      },
      "outputs": [
        {
          "data": {
            "text/plain": [
              "tensor(0)"
            ]
          },
          "execution_count": 51,
          "metadata": {},
          "output_type": "execute_result"
        }
      ],
      "source": [
        "x.argmin() #for the min val's INDEX VALUE"
      ]
    },
    {
      "cell_type": "code",
      "execution_count": 52,
      "metadata": {
        "colab": {
          "base_uri": "https://localhost:8080/"
        },
        "id": "0MN1V1wpUmUB",
        "outputId": "57bc3fab-c28d-4dca-faea-87036c61cb05"
      },
      "outputs": [
        {
          "data": {
            "text/plain": [
              "tensor(1)"
            ]
          },
          "execution_count": 52,
          "metadata": {},
          "output_type": "execute_result"
        }
      ],
      "source": [
        "x[0]"
      ]
    },
    {
      "cell_type": "code",
      "execution_count": 53,
      "metadata": {
        "colab": {
          "base_uri": "https://localhost:8080/"
        },
        "id": "GY2_tREfVEKO",
        "outputId": "4fed2953-ec73-4c3d-9a0f-c77edfbd8407"
      },
      "outputs": [
        {
          "data": {
            "text/plain": [
              "tensor(9)"
            ]
          },
          "execution_count": 53,
          "metadata": {},
          "output_type": "execute_result"
        }
      ],
      "source": [
        "x.argmax()"
      ]
    },
    {
      "cell_type": "code",
      "execution_count": 54,
      "metadata": {
        "colab": {
          "base_uri": "https://localhost:8080/"
        },
        "id": "4ltPzIytVJVx",
        "outputId": "2fff333f-ca39-43f3-9f3e-13451607bcd1"
      },
      "outputs": [
        {
          "data": {
            "text/plain": [
              "tensor(91)"
            ]
          },
          "execution_count": 54,
          "metadata": {},
          "output_type": "execute_result"
        }
      ],
      "source": [
        "x[9]"
      ]
    },
    {
      "cell_type": "markdown",
      "metadata": {
        "id": "CP4TbSgWVL4u"
      },
      "source": [
        "## reshaping, stacking, squeezing, unsqueezing\n",
        "\n",
        "- reshaping: -shape mismatch in MATRIX- => reshapes tensor in defined shape\n",
        "- view: return view of a tensor in some shape, but just a copy not the original one\n",
        "- stacking: combine multi tensors on top -vstack- or side by side -hstack- \n",
        "- squeeze: removes all `1` dimensions from tensor\n",
        "- unsqueeze: adds `1` dimension to a target tensor\n",
        "- permute: return view of input with dimensions (swapped) in a certain way"
      ]
    },
    {
      "cell_type": "code",
      "execution_count": null,
      "metadata": {
        "id": "XVUhRLI2ooQD"
      },
      "outputs": [
        {
          "data": {
            "text/plain": [
              "(tensor([1., 2., 3., 4., 5., 6., 7., 8., 9.]), torch.Size([9]))"
            ]
          },
          "execution_count": 55,
          "metadata": {},
          "output_type": "execute_result"
        }
      ],
      "source": [
        "x = torch.arange(1., 10.)\n",
        "x, x.shape "
      ]
    },
    {
      "cell_type": "code",
      "execution_count": null,
      "metadata": {},
      "outputs": [
        {
          "data": {
            "text/plain": [
              "(tensor([[1., 2., 3., 4., 5., 6., 7., 8., 9.]]), torch.Size([1, 9]))"
            ]
          },
          "execution_count": 60,
          "metadata": {},
          "output_type": "execute_result"
        }
      ],
      "source": [
        "#reshape: extra dim => gotta be compatible with original size\n",
        "x_reshaped = x.reshape(1,9)\n",
        "#(2,9) => 18 elements, 9/dim\n",
        "#(9,1) => 1 element, 9 dim \n",
        "x_reshaped, x_reshaped.shape "
      ]
    },
    {
      "cell_type": "code",
      "execution_count": 62,
      "metadata": {},
      "outputs": [
        {
          "data": {
            "text/plain": [
              "(tensor([[1., 2., 3., 4., 5., 6., 7., 8., 9.]]), torch.Size([1, 9]))"
            ]
          },
          "execution_count": 62,
          "metadata": {},
          "output_type": "execute_result"
        }
      ],
      "source": [
        "#view => shares memo with ORIGINAL tensor\n",
        "z = x.view(1,9)\n",
        "z, z.shape"
      ]
    },
    {
      "cell_type": "code",
      "execution_count": 63,
      "metadata": {},
      "outputs": [
        {
          "data": {
            "text/plain": [
              "(tensor([[5., 2., 3., 4., 5., 6., 7., 8., 9.]]),\n",
              " tensor([5., 2., 3., 4., 5., 6., 7., 8., 9.]))"
            ]
          },
          "execution_count": 63,
          "metadata": {},
          "output_type": "execute_result"
        }
      ],
      "source": [
        "#changing z => changes x\n",
        "z[:,0] = 5\n",
        "z,x"
      ]
    },
    {
      "cell_type": "code",
      "execution_count": null,
      "metadata": {},
      "outputs": [
        {
          "data": {
            "text/plain": [
              "tensor([[5., 2., 3., 4., 5., 6., 7., 8., 9.],\n",
              "        [5., 2., 3., 4., 5., 6., 7., 8., 9.],\n",
              "        [5., 2., 3., 4., 5., 6., 7., 8., 9.],\n",
              "        [5., 2., 3., 4., 5., 6., 7., 8., 9.]])"
            ]
          },
          "execution_count": 70,
          "metadata": {},
          "output_type": "execute_result"
        }
      ],
      "source": [
        "#stack => v:0, h:1 \n",
        "x_stack = torch.stack([x,x,x,x], dim=0)\n",
        "x_stack"
      ]
    },
    {
      "cell_type": "code",
      "execution_count": 72,
      "metadata": {},
      "outputs": [
        {
          "data": {
            "text/plain": [
              "tensor([[5., 2., 3., 4., 5., 6., 7., 8., 9.]])"
            ]
          },
          "execution_count": 72,
          "metadata": {},
          "output_type": "execute_result"
        }
      ],
      "source": [
        "#squeeze\n",
        "x_reshaped"
      ]
    },
    {
      "cell_type": "code",
      "execution_count": 77,
      "metadata": {},
      "outputs": [
        {
          "data": {
            "text/plain": [
              "tensor([5., 2., 3., 4., 5., 6., 7., 8., 9.])"
            ]
          },
          "execution_count": 77,
          "metadata": {},
          "output_type": "execute_result"
        }
      ],
      "source": [
        "x_squeezed = x_reshaped.squeeze()\n",
        "x_squeezed\n",
        "#shape=[9] => removes all 1 dimensions!"
      ]
    },
    {
      "cell_type": "code",
      "execution_count": 81,
      "metadata": {},
      "outputs": [
        {
          "data": {
            "text/plain": [
              "tensor([[5.],\n",
              "        [2.],\n",
              "        [3.],\n",
              "        [4.],\n",
              "        [5.],\n",
              "        [6.],\n",
              "        [7.],\n",
              "        [8.],\n",
              "        [9.]])"
            ]
          },
          "execution_count": 81,
          "metadata": {},
          "output_type": "execute_result"
        }
      ],
      "source": [
        "#unsqueeze\n",
        "x_unsqueezed = x_squeezed.unsqueeze(dim=1) #dim=0 aka adding the extra dimension to the zeroth index of the size/tensor or adding new dimension in new index => dim=1\n",
        "x_unsqueezed"
      ]
    },
    {
      "cell_type": "code",
      "execution_count": 84,
      "metadata": {},
      "outputs": [
        {
          "name": "stdout",
          "output_type": "stream",
          "text": [
            "prev shape: torch.Size([244, 244, 3])\n",
            "new shape: torch.Size([3, 244, 244])\n"
          ]
        }
      ],
      "source": [
        "#permute => rearrange dim of target tensor in specified order\n",
        "#try image example:\n",
        "x_original = torch.rand(size =(244,244,3) )\n",
        "\n",
        "#return view(shares original memo) => view that changes the SIZE DIM themselves\n",
        "x_perm = x_original.permute(2,0,1)\n",
        "\n",
        "print(f\"prev shape: {x_original.shape}\")\n",
        "print(f\"new shape: {x_perm.shape}\")\n",
        "#same data, different POV, share same memory even though diff shapes"
      ]
    },
    {
      "cell_type": "markdown",
      "metadata": {},
      "source": [
        "## indexing "
      ]
    },
    {
      "cell_type": "code",
      "execution_count": null,
      "metadata": {},
      "outputs": [],
      "source": []
    }
  ],
  "metadata": {
    "colab": {
      "gpuType": "T4",
      "provenance": []
    },
    "kernelspec": {
      "display_name": "Python 3",
      "name": "python3"
    },
    "language_info": {
      "codemirror_mode": {
        "name": "ipython",
        "version": 3
      },
      "file_extension": ".py",
      "mimetype": "text/x-python",
      "name": "python",
      "nbconvert_exporter": "python",
      "pygments_lexer": "ipython3",
      "version": "3.13.0"
    }
  },
  "nbformat": 4,
  "nbformat_minor": 0
}
