{
  "cells": [
    {
      "cell_type": "markdown",
      "metadata": {
        "id": "view-in-github",
        "colab_type": "text"
      },
      "source": [
        "<a href=\"https://colab.research.google.com/github/0xmennatullah/PyTorch/blob/main/colab_code.ipynb\" target=\"_parent\"><img src=\"https://colab.research.google.com/assets/colab-badge.svg\" alt=\"Open In Colab\"/></a>"
      ]
    },
    {
      "cell_type": "code",
      "execution_count": null,
      "metadata": {
        "colab": {
          "base_uri": "https://localhost:8080/"
        },
        "id": "akMOsC_K-P68",
        "outputId": "9b0cfba4-7ef6-47e6-cc6c-112d5c266f14"
      },
      "outputs": [
        {
          "name": "stdout",
          "output_type": "stream",
          "text": [
            "2.7.1+cpu\n"
          ]
        }
      ],
      "source": [
        "import numpy as np\n",
        "import torch\n",
        "import pandas as pd\n",
        "import matplotlib.pyplot as plt\n",
        "print(torch.__version__)"
      ]
    },
    {
      "cell_type": "markdown",
      "metadata": {
        "id": "i4n73orp_c63"
      },
      "source": [
        "#introduction to tensors\n"
      ]
    },
    {
      "cell_type": "markdown",
      "metadata": {
        "id": "N0uyrU_2M8Zh"
      },
      "source": []
    },
    {
      "cell_type": "code",
      "execution_count": null,
      "metadata": {
        "colab": {
          "base_uri": "https://localhost:8080/"
        },
        "id": "rmkNM_yy-92z",
        "outputId": "dab3ede8-a7b0-44b9-db10-9dbab5786c9e"
      },
      "outputs": [
        {
          "data": {
            "text/plain": [
              "tensor(7)"
            ]
          },
          "execution_count": 2,
          "metadata": {},
          "output_type": "execute_result"
        }
      ],
      "source": [
        "#scalar\n",
        "scalar = torch.tensor(7)\n",
        "scalar\n"
      ]
    },
    {
      "cell_type": "markdown",
      "metadata": {
        "id": "Z4pVDDeFPsb2"
      },
      "source": [
        "pytorch tensors are created using torch.Tensors() => read assignment"
      ]
    },
    {
      "cell_type": "code",
      "execution_count": null,
      "metadata": {
        "colab": {
          "base_uri": "https://localhost:8080/"
        },
        "id": "LYB3ZgTSP4A4",
        "outputId": "4c66090e-83fe-42f6-a0ec-86bad71bfa38"
      },
      "outputs": [
        {
          "data": {
            "text/plain": [
              "0"
            ]
          },
          "execution_count": 3,
          "metadata": {},
          "output_type": "execute_result"
        }
      ],
      "source": [
        "scalar.ndim"
      ]
    },
    {
      "cell_type": "code",
      "execution_count": null,
      "metadata": {
        "colab": {
          "base_uri": "https://localhost:8080/"
        },
        "id": "mgOywg6MPSuy",
        "outputId": "ab3a3500-0dd6-4f6c-8279-0bf0488f1185"
      },
      "outputs": [
        {
          "data": {
            "text/plain": [
              "7"
            ]
          },
          "execution_count": 4,
          "metadata": {},
          "output_type": "execute_result"
        }
      ],
      "source": [
        "#get tensor back as python int\n",
        "scalar.item()"
      ]
    },
    {
      "cell_type": "code",
      "execution_count": null,
      "metadata": {
        "colab": {
          "base_uri": "https://localhost:8080/"
        },
        "id": "IX5m3McNQRkX",
        "outputId": "f2253033-bf7f-45a8-e3cd-b933b852e333"
      },
      "outputs": [
        {
          "data": {
            "text/plain": [
              "tensor([7, 7])"
            ]
          },
          "execution_count": 5,
          "metadata": {},
          "output_type": "execute_result"
        }
      ],
      "source": [
        "#vector\n",
        "vector = torch.tensor([7,7])\n",
        "vector"
      ]
    },
    {
      "cell_type": "code",
      "execution_count": null,
      "metadata": {
        "colab": {
          "base_uri": "https://localhost:8080/"
        },
        "id": "j3BDD5zuQsRY",
        "outputId": "55ed3224-dd5a-4ef4-c19b-3441d97da50d"
      },
      "outputs": [
        {
          "data": {
            "text/plain": [
              "1"
            ]
          },
          "execution_count": 6,
          "metadata": {},
          "output_type": "execute_result"
        }
      ],
      "source": [
        "vector.ndim"
      ]
    },
    {
      "cell_type": "code",
      "execution_count": null,
      "metadata": {
        "colab": {
          "base_uri": "https://localhost:8080/"
        },
        "id": "KQ2gMh_5QwEm",
        "outputId": "60bc6b87-f8eb-4642-f01d-97275f209a9a"
      },
      "outputs": [
        {
          "data": {
            "text/plain": [
              "torch.Size([2])"
            ]
          },
          "execution_count": 7,
          "metadata": {},
          "output_type": "execute_result"
        }
      ],
      "source": [
        "vector.shape"
      ]
    },
    {
      "cell_type": "code",
      "execution_count": null,
      "metadata": {
        "colab": {
          "base_uri": "https://localhost:8080/"
        },
        "id": "hq2b381sQ3uT",
        "outputId": "a66c13a4-1053-498c-8bcd-e4d7741c600c"
      },
      "outputs": [
        {
          "data": {
            "text/plain": [
              "tensor([[2, 3],\n",
              "        [6, 9]])"
            ]
          },
          "execution_count": 8,
          "metadata": {},
          "output_type": "execute_result"
        }
      ],
      "source": [
        "#matrix\n",
        "MATRIX = torch.tensor([[2,3],[6,9]])\n",
        "MATRIX"
      ]
    },
    {
      "cell_type": "code",
      "execution_count": null,
      "metadata": {
        "colab": {
          "base_uri": "https://localhost:8080/"
        },
        "id": "Qbpfbxi_RHow",
        "outputId": "56268bd8-847d-4878-b891-d5e4646ddb8b"
      },
      "outputs": [
        {
          "data": {
            "text/plain": [
              "2"
            ]
          },
          "execution_count": 9,
          "metadata": {},
          "output_type": "execute_result"
        }
      ],
      "source": [
        "MATRIX.ndim"
      ]
    },
    {
      "cell_type": "code",
      "execution_count": null,
      "metadata": {
        "colab": {
          "base_uri": "https://localhost:8080/"
        },
        "id": "NcyKdCk9RSPO",
        "outputId": "922fe387-48ed-45b2-99f5-142c4ad68cda"
      },
      "outputs": [
        {
          "data": {
            "text/plain": [
              "torch.Size([2, 2])"
            ]
          },
          "execution_count": 10,
          "metadata": {},
          "output_type": "execute_result"
        }
      ],
      "source": [
        "MATRIX.shape"
      ]
    },
    {
      "cell_type": "code",
      "execution_count": null,
      "metadata": {
        "colab": {
          "base_uri": "https://localhost:8080/"
        },
        "id": "yy7nqzeuRX_Y",
        "outputId": "2f8931cd-ac3f-4fb0-e079-eac0c715bba7"
      },
      "outputs": [
        {
          "data": {
            "text/plain": [
              "tensor([[[[5, 5, 5],\n",
              "          [5, 5, 5]],\n",
              "\n",
              "         [[6, 6, 5],\n",
              "          [6, 6, 5]],\n",
              "\n",
              "         [[1, 1, 1],\n",
              "          [1, 1, 1]]]])"
            ]
          },
          "execution_count": 11,
          "metadata": {},
          "output_type": "execute_result"
        }
      ],
      "source": [
        "#tensor\n",
        "TENSOR = torch.tensor([[[[5,5,5],[5,5,5]], [[6,6,5], [6,6,5]], [[1,1,1], [1,1,1]]]])\n",
        "TENSOR"
      ]
    },
    {
      "cell_type": "code",
      "execution_count": null,
      "metadata": {
        "colab": {
          "base_uri": "https://localhost:8080/"
        },
        "id": "SQUhJDWwRoLk",
        "outputId": "48ec7c91-dbdf-4d8d-9e2c-9a98acb31cc5"
      },
      "outputs": [
        {
          "data": {
            "text/plain": [
              "4"
            ]
          },
          "execution_count": 12,
          "metadata": {},
          "output_type": "execute_result"
        }
      ],
      "source": [
        "TENSOR.ndim"
      ]
    },
    {
      "cell_type": "code",
      "execution_count": null,
      "metadata": {
        "colab": {
          "base_uri": "https://localhost:8080/"
        },
        "id": "snb4AneaRrK3",
        "outputId": "49f8e4c8-985b-4780-98a7-83d43e3be0e4"
      },
      "outputs": [
        {
          "data": {
            "text/plain": [
              "torch.Size([1, 3, 2, 3])"
            ]
          },
          "execution_count": 13,
          "metadata": {},
          "output_type": "execute_result"
        }
      ],
      "source": [
        "TENSOR.shape"
      ]
    },
    {
      "cell_type": "markdown",
      "metadata": {
        "id": "BUEW5lGPYuPV"
      },
      "source": [
        "1 batch, 3 matrices, 2 rows, 3 columns. => 4D tensor.\n",
        "\n",
        "\n",
        "---\n",
        "\n"
      ]
    },
    {
      "cell_type": "markdown",
      "metadata": {
        "id": "Pplza31XZKPZ"
      },
      "source": [
        "###Random tensor\n",
        "\n",
        "\n",
        "- why random tensors?\n",
        "- cus the way many NN kearns => start of tensors of rands, adjust em th represent data\n",
        "\n",
        "steps?\n",
        "\n",
        "`start w rand => look @data => update rand => look @data => update rand`\n",
        "\n",
        "t2: ==> read randoms from documentation>>>"
      ]
    },
    {
      "cell_type": "code",
      "execution_count": null,
      "metadata": {
        "colab": {
          "base_uri": "https://localhost:8080/"
        },
        "id": "1vCOnCxkYshK",
        "outputId": "2eefdb4d-dcef-420a-915f-d021f9577e42"
      },
      "outputs": [
        {
          "data": {
            "text/plain": [
              "tensor([[0.1013, 0.6285, 0.7975, 0.8212],\n",
              "        [0.4751, 0.8528, 0.7007, 0.3926],\n",
              "        [0.4635, 0.7436, 0.2341, 0.6906]])"
            ]
          },
          "execution_count": 14,
          "metadata": {},
          "output_type": "execute_result"
        }
      ],
      "source": [
        "#random tensors => shape (3,4)\n",
        "\n",
        "random_ten = torch.rand(3,4)\n",
        "random_ten"
      ]
    },
    {
      "cell_type": "code",
      "execution_count": null,
      "metadata": {
        "colab": {
          "base_uri": "https://localhost:8080/"
        },
        "id": "UgMPQVfvauA-",
        "outputId": "265e8cb2-f068-4d87-d99f-93efa78acf25"
      },
      "outputs": [
        {
          "data": {
            "text/plain": [
              "2"
            ]
          },
          "execution_count": 15,
          "metadata": {},
          "output_type": "execute_result"
        }
      ],
      "source": [
        "random_ten.ndim"
      ]
    },
    {
      "cell_type": "code",
      "execution_count": null,
      "metadata": {
        "colab": {
          "base_uri": "https://localhost:8080/"
        },
        "collapsed": true,
        "id": "B-9ZcOFwa1wM",
        "outputId": "67118e66-6898-4136-c338-e6a2b1aa15b8"
      },
      "outputs": [
        {
          "data": {
            "text/plain": [
              "tensor([[0.2831, 0.0975, 0.5050, 0.0110, 0.4011, 0.8133, 0.4288, 0.8804, 0.5896,\n",
              "         0.0980],\n",
              "        [0.7246, 0.6202, 0.2194, 0.2008, 0.4975, 0.3952, 0.2849, 0.5724, 0.6095,\n",
              "         0.6831],\n",
              "        [0.2567, 0.0709, 0.9081, 0.7624, 0.8887, 0.4980, 0.7016, 0.9556, 0.6208,\n",
              "         0.3079],\n",
              "        [0.6958, 0.9546, 0.0659, 0.4097, 0.2161, 0.7250, 0.0097, 0.1136, 0.9478,\n",
              "         0.4612],\n",
              "        [0.1145, 0.9804, 0.8941, 0.4239, 0.1046, 0.2279, 0.0319, 0.5436, 0.8912,\n",
              "         0.0760],\n",
              "        [0.6255, 0.6909, 0.8832, 0.3375, 0.4189, 0.6910, 0.9056, 0.2716, 0.0437,\n",
              "         0.5008],\n",
              "        [0.3171, 0.4473, 0.0549, 0.4194, 0.8501, 0.8332, 0.4794, 0.7314, 0.8226,\n",
              "         0.9696],\n",
              "        [0.8410, 0.6544, 0.9572, 0.1206, 0.4187, 0.3479, 0.3034, 0.7894, 0.4243,\n",
              "         0.3784],\n",
              "        [0.8500, 0.4645, 0.8271, 0.9427, 0.8099, 0.7366, 0.5402, 0.5497, 0.0387,\n",
              "         0.3424],\n",
              "        [0.2585, 0.5020, 0.1981, 0.2222, 0.2236, 0.6599, 0.2038, 0.1401, 0.4160,\n",
              "         0.7690]])"
            ]
          },
          "execution_count": 16,
          "metadata": {},
          "output_type": "execute_result"
        }
      ],
      "source": [
        "ran_ten = torch.rand(10,10)\n",
        "ran_ten"
      ]
    },
    {
      "cell_type": "code",
      "execution_count": null,
      "metadata": {
        "colab": {
          "base_uri": "https://localhost:8080/"
        },
        "id": "hl9G0tvYbBNb",
        "outputId": "c4484986-73cd-478b-dc04-2ce870aa95b1"
      },
      "outputs": [
        {
          "data": {
            "text/plain": [
              "2"
            ]
          },
          "execution_count": 17,
          "metadata": {},
          "output_type": "execute_result"
        }
      ],
      "source": [
        "ran_ten.ndim"
      ]
    },
    {
      "cell_type": "code",
      "execution_count": null,
      "metadata": {
        "colab": {
          "base_uri": "https://localhost:8080/"
        },
        "id": "7Vc6w6XIbFnF",
        "outputId": "2a666b06-ebd4-4808-8751-a85cbcf3104d"
      },
      "outputs": [
        {
          "data": {
            "text/plain": [
              "3"
            ]
          },
          "execution_count": 18,
          "metadata": {},
          "output_type": "execute_result"
        }
      ],
      "source": [
        "ran_tenn = torch.rand(3,3,3)\n",
        "ran_tenn\n",
        "ran_tenn.ndim"
      ]
    },
    {
      "cell_type": "markdown",
      "metadata": {
        "id": "95F4NmJybfgq"
      },
      "source": [
        "### Random tensor similar shape as image tensor:"
      ]
    },
    {
      "cell_type": "code",
      "execution_count": null,
      "metadata": {
        "colab": {
          "base_uri": "https://localhost:8080/"
        },
        "id": "vwj-C9XPbYej",
        "outputId": "6390e20f-21b5-4c72-e27f-a165d809e746"
      },
      "outputs": [
        {
          "data": {
            "text/plain": [
              "(torch.Size([244, 244, 3]), 3)"
            ]
          },
          "execution_count": 19,
          "metadata": {},
          "output_type": "execute_result"
        }
      ],
      "source": [
        "rand_img_tens = torch.rand(size=(244,244,3))\n",
        "#heigt, width, color channel(rgb)\n",
        "rand_img_tens.shape, rand_img_tens.ndim"
      ]
    },
    {
      "cell_type": "code",
      "execution_count": null,
      "metadata": {
        "colab": {
          "base_uri": "https://localhost:8080/"
        },
        "collapsed": true,
        "id": "ihlXcg5kpTNa",
        "outputId": "10b3678d-e4c0-4c65-ca26-8ebdcc4f7fd3"
      },
      "outputs": [
        {
          "data": {
            "text/plain": [
              "tensor([[[8.7816e-01, 8.3910e-01, 6.7955e-01],\n",
              "         [7.2536e-01, 9.3893e-02, 8.6912e-02],\n",
              "         [3.0037e-01, 2.1690e-01, 6.4866e-01],\n",
              "         ...,\n",
              "         [7.6079e-01, 2.8956e-01, 4.8806e-01],\n",
              "         [5.8589e-01, 5.7491e-01, 8.2580e-01],\n",
              "         [5.3368e-01, 2.5497e-02, 8.7491e-01]],\n",
              "\n",
              "        [[6.3283e-01, 1.6517e-01, 2.3855e-01],\n",
              "         [7.6873e-01, 3.2895e-01, 7.7051e-01],\n",
              "         [8.6380e-01, 2.8469e-01, 2.2785e-01],\n",
              "         ...,\n",
              "         [6.9485e-01, 4.7462e-01, 2.5957e-01],\n",
              "         [7.9263e-01, 5.8846e-01, 3.1318e-01],\n",
              "         [5.7586e-01, 2.5265e-03, 5.8351e-01]],\n",
              "\n",
              "        [[4.3373e-01, 4.1546e-01, 4.1786e-01],\n",
              "         [2.5562e-01, 9.9117e-01, 2.1325e-01],\n",
              "         [1.2225e-01, 6.6443e-01, 3.2832e-01],\n",
              "         ...,\n",
              "         [9.1377e-01, 1.1678e-01, 2.5024e-01],\n",
              "         [7.5759e-01, 4.5590e-01, 5.2340e-01],\n",
              "         [4.8469e-01, 3.1241e-01, 4.6486e-01]],\n",
              "\n",
              "        ...,\n",
              "\n",
              "        [[2.2992e-01, 8.2883e-01, 6.1026e-01],\n",
              "         [5.4318e-01, 2.8607e-01, 9.1523e-01],\n",
              "         [6.3812e-01, 9.4283e-01, 8.7042e-01],\n",
              "         ...,\n",
              "         [4.5412e-01, 2.9763e-01, 5.9084e-01],\n",
              "         [8.4520e-02, 8.6437e-01, 6.8014e-01],\n",
              "         [9.8455e-02, 1.3584e-04, 7.0717e-02]],\n",
              "\n",
              "        [[5.7112e-01, 8.9041e-02, 1.7487e-01],\n",
              "         [5.4633e-01, 6.4066e-01, 8.5827e-01],\n",
              "         [3.6281e-01, 2.5010e-01, 7.3058e-01],\n",
              "         ...,\n",
              "         [2.1109e-01, 2.4036e-01, 7.4952e-01],\n",
              "         [8.2650e-01, 8.0118e-01, 4.2959e-01],\n",
              "         [5.7288e-01, 7.8485e-01, 7.2649e-01]],\n",
              "\n",
              "        [[1.8881e-01, 3.9490e-01, 9.1397e-01],\n",
              "         [6.3446e-01, 4.1157e-01, 9.6054e-01],\n",
              "         [9.3640e-01, 6.0047e-01, 5.0727e-01],\n",
              "         ...,\n",
              "         [3.2236e-01, 4.3549e-01, 5.9027e-01],\n",
              "         [7.8182e-01, 7.6556e-01, 4.0352e-01],\n",
              "         [3.5549e-01, 5.1694e-01, 5.5724e-01]]])"
            ]
          },
          "execution_count": 20,
          "metadata": {},
          "output_type": "execute_result"
        }
      ],
      "source": [
        "rand_img_tens"
      ]
    },
    {
      "cell_type": "markdown",
      "metadata": {
        "id": "I7nc5rnMsaWj"
      },
      "source": [
        "Zeros and Ones\n"
      ]
    },
    {
      "cell_type": "code",
      "execution_count": null,
      "metadata": {
        "colab": {
          "base_uri": "https://localhost:8080/"
        },
        "id": "jMTjrZJKDnqL",
        "outputId": "ee0d66c7-64a2-45a0-c061-7e9c58434cec"
      },
      "outputs": [
        {
          "data": {
            "text/plain": [
              "tensor([[0., 0., 0., 0.],\n",
              "        [0., 0., 0., 0.],\n",
              "        [0., 0., 0., 0.]])"
            ]
          },
          "execution_count": 21,
          "metadata": {},
          "output_type": "execute_result"
        }
      ],
      "source": [
        "#tensor of zeros\n",
        "zero = torch.zeros(3,4)\n",
        "zero"
      ]
    },
    {
      "cell_type": "code",
      "execution_count": null,
      "metadata": {
        "colab": {
          "base_uri": "https://localhost:8080/"
        },
        "id": "Iq3llN-RD-vR",
        "outputId": "aea1be0b-b87d-4300-a425-10cbba695e13"
      },
      "outputs": [
        {
          "data": {
            "text/plain": [
              "tensor([[0., 0., 0., 0.],\n",
              "        [0., 0., 0., 0.],\n",
              "        [0., 0., 0., 0.]])"
            ]
          },
          "execution_count": 22,
          "metadata": {},
          "output_type": "execute_result"
        }
      ],
      "source": [
        "zero * random_ten"
      ]
    },
    {
      "cell_type": "code",
      "execution_count": null,
      "metadata": {
        "colab": {
          "base_uri": "https://localhost:8080/"
        },
        "id": "eXjKcz1gEQjw",
        "outputId": "21b1ffa8-dc0d-436a-e25e-7e1ea1f2810b"
      },
      "outputs": [
        {
          "data": {
            "text/plain": [
              "tensor([[1., 1., 1., 1.],\n",
              "        [1., 1., 1., 1.],\n",
              "        [1., 1., 1., 1.]])"
            ]
          },
          "execution_count": 23,
          "metadata": {},
          "output_type": "execute_result"
        }
      ],
      "source": [
        "#tensor of ones\n",
        "ones = torch.ones(3,4)\n",
        "ones"
      ]
    },
    {
      "cell_type": "code",
      "execution_count": null,
      "metadata": {
        "colab": {
          "base_uri": "https://localhost:8080/"
        },
        "id": "ZFUi4ztcEcb7",
        "outputId": "d66f6a0c-c1bd-47a4-cb25-d1ca079f27ac"
      },
      "outputs": [
        {
          "data": {
            "text/plain": [
              "torch.float32"
            ]
          },
          "execution_count": 24,
          "metadata": {},
          "output_type": "execute_result"
        }
      ],
      "source": [
        "ones.dtype"
      ]
    },
    {
      "cell_type": "code",
      "execution_count": null,
      "metadata": {
        "colab": {
          "base_uri": "https://localhost:8080/"
        },
        "id": "llDqT5vSEzJm",
        "outputId": "9a9e13d2-6d01-4f76-9af9-f7225a7b0dd3"
      },
      "outputs": [
        {
          "data": {
            "text/plain": [
              "torch.float32"
            ]
          },
          "execution_count": 25,
          "metadata": {},
          "output_type": "execute_result"
        }
      ],
      "source": [
        "random_ten.dtype"
      ]
    },
    {
      "cell_type": "markdown",
      "metadata": {
        "id": "SwcTY28vE0XF"
      },
      "source": [
        "### creating range of tensors & tensors alike"
      ]
    },
    {
      "cell_type": "code",
      "execution_count": null,
      "metadata": {
        "colab": {
          "base_uri": "https://localhost:8080/"
        },
        "id": "CQDn77YNFYfe",
        "outputId": "0441c18d-23f4-4869-e422-c88f465d4ed4"
      },
      "outputs": [
        {
          "data": {
            "text/plain": [
              "tensor([0, 2, 4, 6, 8])"
            ]
          },
          "execution_count": 26,
          "metadata": {},
          "output_type": "execute_result"
        }
      ],
      "source": [
        "#using torch.range/arange\n",
        "one_ten = torch.arange(0,10,2)\n",
        "one_ten"
      ]
    },
    {
      "cell_type": "code",
      "execution_count": null,
      "metadata": {
        "colab": {
          "base_uri": "https://localhost:8080/"
        },
        "id": "_37_KHrgFsyT",
        "outputId": "edd5ecad-5d33-4c41-8c35-11aa436efaf3"
      },
      "outputs": [
        {
          "data": {
            "text/plain": [
              "tensor([0, 0, 0, 0, 0])"
            ]
          },
          "execution_count": 27,
          "metadata": {},
          "output_type": "execute_result"
        }
      ],
      "source": [
        "#tensor like\n",
        "ten_zero = torch.zeros_like(one_ten)\n",
        "ten_zero"
      ]
    },
    {
      "cell_type": "code",
      "execution_count": null,
      "metadata": {
        "colab": {
          "base_uri": "https://localhost:8080/"
        },
        "id": "2tC3BG8eHOSP",
        "outputId": "5669ba19-eeb5-41d0-9b83-efe9e295d3f5"
      },
      "outputs": [
        {
          "data": {
            "text/plain": [
              "tensor([[1.1692, 1.6618, 1.2185, 1.0081, 1.7013, 1.2714, 1.4934, 1.0463, 1.7912,\n",
              "         1.6556, 1.3259, 1.2182, 1.6459, 1.1502, 1.7720, 1.4926, 1.5718, 1.7391,\n",
              "         1.1157, 1.0932]])"
            ]
          },
          "execution_count": 28,
          "metadata": {},
          "output_type": "execute_result"
        }
      ],
      "source": [
        "ten_shape = torch.arange(1,100,5)\n",
        "#ten_shape\n",
        "ten1_shape = torch.ones_like(ten_shape)\n",
        "ten2_shape = torch.zeros_like(ten_shape)\n",
        "rten = torch.rand(1,20)\n",
        "ten1_shape + ten2_shape + rten"
      ]
    },
    {
      "cell_type": "markdown",
      "metadata": {
        "id": "h2xH_B7UIO_2"
      },
      "source": [
        "###Tensor datatypes"
      ]
    },
    {
      "cell_type": "code",
      "execution_count": null,
      "metadata": {
        "colab": {
          "base_uri": "https://localhost:8080/"
        },
        "id": "ErjE_yBNIYGh",
        "outputId": "ca445b05-7e72-4b64-a267-a24cbaa9886b"
      },
      "outputs": [
        {
          "data": {
            "text/plain": [
              "tensor([3., 6., 9.])"
            ]
          },
          "execution_count": 29,
          "metadata": {},
          "output_type": "execute_result"
        }
      ],
      "source": [
        "#float 32 tensor\n",
        "f32_ten = torch.tensor([3.0,6.0,9.0], #anything else is auto assigned, no need t add manually.\n",
        "                       dtype=None,\n",
        "                       device = None, #dev ur tensor on + track gradient w this op\n",
        "                       requires_grad = False) #\n",
        "f32_ten"
      ]
    },
    {
      "cell_type": "code",
      "execution_count": null,
      "metadata": {
        "colab": {
          "base_uri": "https://localhost:8080/"
        },
        "id": "AXKmx-jeI922",
        "outputId": "17574d4f-fd5c-4f21-864a-f8665a6a2e8e"
      },
      "outputs": [
        {
          "data": {
            "text/plain": [
              "torch.float32"
            ]
          },
          "execution_count": 30,
          "metadata": {},
          "output_type": "execute_result"
        }
      ],
      "source": [
        "f32_ten.dtype"
      ]
    },
    {
      "cell_type": "markdown",
      "metadata": {
        "id": "q_2Kss97JVtC"
      },
      "source": [
        "### problems with tensors:\n",
        "1. not right data type => f16 in f32\n",
        "2. not right shape => matrix mult\n",
        "3. not right device => device =\"cpu\" / \"cuda\" -> operations on tensors on diff devices."
      ]
    },
    {
      "cell_type": "code",
      "execution_count": null,
      "metadata": {
        "colab": {
          "base_uri": "https://localhost:8080/"
        },
        "id": "H2Xzh1Z9K3dR",
        "outputId": "1c52dbdd-01fb-43d7-b02d-480a898a8915"
      },
      "outputs": [
        {
          "data": {
            "text/plain": [
              "tensor([3., 6., 9.], dtype=torch.float16)"
            ]
          },
          "execution_count": 31,
          "metadata": {},
          "output_type": "execute_result"
        }
      ],
      "source": [
        "f16_Ten = f32_ten.type(torch.float16)\n",
        "f16_Ten #conversion to not run into \"not right shape\" problem."
      ]
    },
    {
      "cell_type": "code",
      "execution_count": null,
      "metadata": {
        "colab": {
          "base_uri": "https://localhost:8080/"
        },
        "id": "8BUbfd8TfXde",
        "outputId": "701f1c4d-d70a-4acb-99ce-9394b5117ba7"
      },
      "outputs": [
        {
          "data": {
            "text/plain": [
              "tensor([ 9., 36., 81.])"
            ]
          },
          "execution_count": 32,
          "metadata": {},
          "output_type": "execute_result"
        }
      ],
      "source": [
        "f16_Ten * f32_ten"
      ]
    },
    {
      "cell_type": "code",
      "execution_count": null,
      "metadata": {
        "colab": {
          "base_uri": "https://localhost:8080/"
        },
        "id": "BhzVqEy3i0sA",
        "outputId": "cfa71fcf-8cdc-4c76-92d3-5fbbc663f907"
      },
      "outputs": [
        {
          "data": {
            "text/plain": [
              "tensor([3, 6, 9], dtype=torch.int32)"
            ]
          },
          "execution_count": 33,
          "metadata": {},
          "output_type": "execute_result"
        }
      ],
      "source": [
        "int32 = torch.tensor([3,6,9], dtype = torch.int32)\n",
        "int32\n"
      ]
    },
    {
      "cell_type": "code",
      "execution_count": null,
      "metadata": {
        "colab": {
          "base_uri": "https://localhost:8080/"
        },
        "id": "STEr3bzLvwG8",
        "outputId": "3586c60f-bae7-451e-f22a-736285b7d061"
      },
      "outputs": [
        {
          "data": {
            "text/plain": [
              "tensor([ 9., 36., 81.], dtype=torch.float16)"
            ]
          },
          "execution_count": 34,
          "metadata": {},
          "output_type": "execute_result"
        }
      ],
      "source": [
        "int32 * f16_Ten"
      ]
    },
    {
      "cell_type": "markdown",
      "metadata": {
        "id": "JfJ8GUByv1wS"
      },
      "source": [
        "### getting info from tensors"
      ]
    },
    {
      "cell_type": "markdown",
      "metadata": {
        "id": "qGBgGNEFwTd4"
      },
      "source": [
        "- data type check => to get data type: use tensor.dtype\n",
        "- shape check => tensor.shape\n",
        "- device => tensor.device\n"
      ]
    },
    {
      "cell_type": "code",
      "execution_count": null,
      "metadata": {
        "colab": {
          "base_uri": "https://localhost:8080/"
        },
        "id": "k9rw4xm9w_yQ",
        "outputId": "0dcfd504-03db-49c1-cf18-353eb6513540"
      },
      "outputs": [
        {
          "data": {
            "text/plain": [
              "tensor([[0.0177, 0.2061, 0.6062, 0.1163],\n",
              "        [0.0474, 0.4771, 0.0206, 0.7774],\n",
              "        [0.6899, 0.1488, 0.3387, 0.5676]])"
            ]
          },
          "execution_count": 35,
          "metadata": {},
          "output_type": "execute_result"
        }
      ],
      "source": [
        "some = torch.rand(3,4)\n",
        "some"
      ]
    },
    {
      "cell_type": "code",
      "execution_count": null,
      "metadata": {
        "colab": {
          "base_uri": "https://localhost:8080/"
        },
        "id": "eO8ZWRrIxdEx",
        "outputId": "30a2bf2d-c603-4bbf-b444-e8b3574ae31b"
      },
      "outputs": [
        {
          "name": "stdout",
          "output_type": "stream",
          "text": [
            "tensor([[0.0177, 0.2061, 0.6062, 0.1163],\n",
            "        [0.0474, 0.4771, 0.0206, 0.7774],\n",
            "        [0.6899, 0.1488, 0.3387, 0.5676]])\n",
            "data type: torch.float32\n",
            "torch.Size([3, 4])\n",
            "torch.Size([3, 4])\n",
            "cpu\n",
            "cpu\n"
          ]
        }
      ],
      "source": [
        "#fetch details\n",
        "print(some)\n",
        "print(f\"data type: {some.dtype}\")\n",
        "print(some.size())\n",
        "print(some.shape)\n",
        "print(some.device)\n",
        "some = some.to('cpu')\n",
        "print(some.device)\n"
      ]
    },
    {
      "cell_type": "markdown",
      "metadata": {
        "id": "oA7br6uiykPf"
      },
      "source": [
        "### manipulating tensors\n",
        "- addition\n",
        "- subtraction\n",
        "* multiplication\n",
        "- division\n",
        "- MATRIX MULTIP"
      ]
    },
    {
      "cell_type": "code",
      "execution_count": null,
      "metadata": {
        "id": "BFNMusbdA_hy"
      },
      "outputs": [],
      "source": [
        "# addition\n",
        "tensor = torch.tensor([1,2,3])\n",
        "#tensor + 10\n",
        "#tensor *10\n",
        "#tensor -10\n",
        "#tensor/10\n"
      ]
    },
    {
      "cell_type": "code",
      "execution_count": null,
      "metadata": {
        "colab": {
          "base_uri": "https://localhost:8080/"
        },
        "id": "PLgEiZarBoeN",
        "outputId": "7a2e78a5-b280-4bb7-bf7e-d2b6edfee4c5"
      },
      "outputs": [
        {
          "data": {
            "text/plain": [
              "tensor([10, 20, 30])"
            ]
          },
          "execution_count": 38,
          "metadata": {},
          "output_type": "execute_result"
        }
      ],
      "source": [
        "#there's built-in functions:\n",
        "torch.mul(tensor, 10)"
      ]
    },
    {
      "cell_type": "code",
      "execution_count": null,
      "metadata": {
        "colab": {
          "base_uri": "https://localhost:8080/"
        },
        "id": "SRDDB2HtKg4Y",
        "outputId": "593dcf7e-6e5c-4543-fa94-4365cc504d12"
      },
      "outputs": [
        {
          "name": "stdout",
          "output_type": "stream",
          "text": [
            "tensor([1, 4, 9])\n"
          ]
        }
      ],
      "source": [
        "#MATRIX MUL\n",
        "#1. element wiste\n",
        "print(tensor * tensor)\n"
      ]
    },
    {
      "cell_type": "code",
      "execution_count": null,
      "metadata": {
        "colab": {
          "base_uri": "https://localhost:8080/"
        },
        "id": "DKaqFrHGaRer",
        "outputId": "2be30659-e6ed-4751-f8ec-62dab1e8545b"
      },
      "outputs": [
        {
          "name": "stdout",
          "output_type": "stream",
          "text": [
            "CPU times: total: 0 ns\n",
            "Wall time: 26.2 μs\n"
          ]
        },
        {
          "data": {
            "text/plain": [
              "tensor(14)"
            ]
          },
          "execution_count": 40,
          "metadata": {},
          "output_type": "execute_result"
        }
      ],
      "source": [
        "#2. dot product\n",
        "%time\n",
        "\n",
        "torch.matmul(tensor, tensor)"
      ]
    },
    {
      "cell_type": "code",
      "execution_count": null,
      "metadata": {
        "colab": {
          "base_uri": "https://localhost:8080/"
        },
        "id": "Qfr5MnQgaX_M",
        "outputId": "a87cac61-0663-469d-d3a1-cfb22521aa4b"
      },
      "outputs": [
        {
          "name": "stdout",
          "output_type": "stream",
          "text": [
            "CPU times: total: 0 ns\n",
            "Wall time: 26.5 μs\n"
          ]
        },
        {
          "data": {
            "text/plain": [
              "tensor(14)"
            ]
          },
          "execution_count": 41,
          "metadata": {},
          "output_type": "execute_result"
        }
      ],
      "source": [
        "#MATRIX MUL by hand\n",
        "#1*1 + 2*2 + 3*3\n",
        "\n",
        "%time\n",
        "sum =0\n",
        "for i in tensor:\n",
        "  sum += i*i\n",
        "\n",
        "sum"
      ]
    },
    {
      "cell_type": "markdown",
      "metadata": {
        "id": "DwnMUHCZciLr"
      },
      "source": [
        "### one of the most common errors in matrix multiplication => shape error\n",
        "-- inner dimensions MUST match"
      ]
    },
    {
      "cell_type": "code",
      "execution_count": null,
      "metadata": {
        "collapsed": true,
        "id": "tDoy8JjKc2oC"
      },
      "outputs": [],
      "source": [
        "# shapes for mat mul\n",
        "tensor_a = torch.tensor([[1,2], [3,4],[5,6]])\n",
        "tensor_b = torch.tensor([[1,2], [3,4],[5,6]])\n",
        "\n",
        "#torch.mm(tensor_a, tensor_b) #alias for matmul\n",
        "#RuntimeError: mat1 and mat2 shapes cannot be multiplied (3x2 and 3x2)"
      ]
    },
    {
      "cell_type": "markdown",
      "metadata": {
        "id": "ytLMb5Zze1v9"
      },
      "source": [
        "### to fix the shape issues => **transpose**\n",
        "transpose -> switches axes or dimensions of a given tensor\n"
      ]
    },
    {
      "cell_type": "code",
      "execution_count": null,
      "metadata": {
        "colab": {
          "base_uri": "https://localhost:8080/"
        },
        "id": "yvkC7NbXfTQ-",
        "outputId": "c62d7054-1e16-4939-8d6a-cbb5976b7a28"
      },
      "outputs": [
        {
          "data": {
            "text/plain": [
              "(tensor([[1, 3, 5],\n",
              "         [2, 4, 6]]),\n",
              " torch.Size([2, 3]))"
            ]
          },
          "execution_count": 43,
          "metadata": {},
          "output_type": "execute_result"
        }
      ],
      "source": [
        "tensor_b.T, tensor_b.T.shape\n",
        "#makes a copy, doesn't change the original tensor_b"
      ]
    },
    {
      "cell_type": "code",
      "execution_count": null,
      "metadata": {
        "colab": {
          "base_uri": "https://localhost:8080/"
        },
        "id": "A_vymhMbflD4",
        "outputId": "cddec6eb-b9ab-41a3-d10e-2c8c1a3b9d82"
      },
      "outputs": [
        {
          "data": {
            "text/plain": [
              "tensor([[ 5, 11, 17],\n",
              "        [11, 25, 39],\n",
              "        [17, 39, 61]])"
            ]
          },
          "execution_count": 44,
          "metadata": {},
          "output_type": "execute_result"
        }
      ],
      "source": [
        "#works when b is transposed\n",
        "torch.mm(tensor_a, tensor_b.T)"
      ]
    },
    {
      "cell_type": "markdown",
      "metadata": {
        "id": "8FpoK6kJfs0T"
      },
      "source": [
        "## Tensor aggregation\n"
      ]
    },
    {
      "cell_type": "code",
      "execution_count": null,
      "metadata": {
        "colab": {
          "base_uri": "https://localhost:8080/"
        },
        "id": "FeR30IqFjnaf",
        "outputId": "31444e9a-51eb-4283-9303-540e7df4efb5"
      },
      "outputs": [
        {
          "data": {
            "text/plain": [
              "tensor([ 1, 11, 21, 31, 41, 51, 61, 71, 81, 91])"
            ]
          },
          "execution_count": 45,
          "metadata": {},
          "output_type": "execute_result"
        }
      ],
      "source": [
        "x = torch.arange(1,100,10)\n",
        "x\n"
      ]
    },
    {
      "cell_type": "code",
      "execution_count": null,
      "metadata": {
        "colab": {
          "base_uri": "https://localhost:8080/"
        },
        "id": "0rKXSmL_jwMR",
        "outputId": "c55bbb6e-a46d-48db-b64a-0699d5345d95"
      },
      "outputs": [
        {
          "data": {
            "text/plain": [
              "(tensor(1), tensor(1))"
            ]
          },
          "execution_count": 46,
          "metadata": {},
          "output_type": "execute_result"
        }
      ],
      "source": [
        "torch.min(x) , x.min()"
      ]
    },
    {
      "cell_type": "code",
      "execution_count": null,
      "metadata": {
        "colab": {
          "base_uri": "https://localhost:8080/"
        },
        "id": "0qKL6UYRj3C-",
        "outputId": "46265803-260a-4daf-8fd0-5865bc6ae967"
      },
      "outputs": [
        {
          "data": {
            "text/plain": [
              "(tensor(91), tensor(91))"
            ]
          },
          "execution_count": 47,
          "metadata": {},
          "output_type": "execute_result"
        }
      ],
      "source": [
        "torch.max(x),  x.max()"
      ]
    },
    {
      "cell_type": "code",
      "execution_count": null,
      "metadata": {
        "colab": {
          "base_uri": "https://localhost:8080/"
        },
        "collapsed": true,
        "id": "C-2RS0aJj7e_",
        "outputId": "894c5fd0-ec57-434a-9773-53237c8bf9d9"
      },
      "outputs": [
        {
          "data": {
            "text/plain": [
              "(tensor(46.), tensor(46.))"
            ]
          },
          "execution_count": 48,
          "metadata": {},
          "output_type": "execute_result"
        }
      ],
      "source": [
        "torch.mean(x.type(torch.float32)), x.type(torch.float32).mean()\n",
        "#RuntimeError: mean(): could not infer output dtype. Input dtype must be either a floating point or complex dtype. Got: Long\n",
        "#tensor NOT THE RIGHT DATA TYPE ==> HIDDEN"
      ]
    },
    {
      "cell_type": "code",
      "execution_count": null,
      "metadata": {
        "colab": {
          "base_uri": "https://localhost:8080/"
        },
        "id": "3exs1DakkKTB",
        "outputId": "39234bf1-6e2d-4316-9c9d-17d9f9715aeb"
      },
      "outputs": [
        {
          "data": {
            "text/plain": [
              "torch.int64"
            ]
          },
          "execution_count": 49,
          "metadata": {},
          "output_type": "execute_result"
        }
      ],
      "source": [
        "x.dtype\n",
        "#long = int"
      ]
    },
    {
      "cell_type": "code",
      "execution_count": null,
      "metadata": {
        "colab": {
          "base_uri": "https://localhost:8080/"
        },
        "id": "d4fQpUC2kNdn",
        "outputId": "fab0a186-3172-44ce-db9d-fd7f8f1fee0a"
      },
      "outputs": [
        {
          "data": {
            "text/plain": [
              "(tensor(460), tensor(460))"
            ]
          },
          "execution_count": 50,
          "metadata": {},
          "output_type": "execute_result"
        }
      ],
      "source": [
        "torch.sum(x), x.sum()"
      ]
    },
    {
      "cell_type": "markdown",
      "metadata": {
        "id": "xN-iTWMuk1M4"
      },
      "source": [
        "### positional min, max?\n",
        "- finding the position in tensor that has the min val with argmin, returns index position of target tensor when min val occures\n"
      ]
    },
    {
      "cell_type": "code",
      "execution_count": null,
      "metadata": {
        "colab": {
          "base_uri": "https://localhost:8080/"
        },
        "id": "ST-KCoEBmSm8",
        "outputId": "d5ccb2d2-d682-4708-b770-f63682743d71"
      },
      "outputs": [
        {
          "data": {
            "text/plain": [
              "tensor(0)"
            ]
          },
          "execution_count": 51,
          "metadata": {},
          "output_type": "execute_result"
        }
      ],
      "source": [
        "x.argmin() #for the min val's INDEX VALUE"
      ]
    },
    {
      "cell_type": "code",
      "execution_count": null,
      "metadata": {
        "colab": {
          "base_uri": "https://localhost:8080/"
        },
        "id": "0MN1V1wpUmUB",
        "outputId": "57bc3fab-c28d-4dca-faea-87036c61cb05"
      },
      "outputs": [
        {
          "data": {
            "text/plain": [
              "tensor(1)"
            ]
          },
          "execution_count": 52,
          "metadata": {},
          "output_type": "execute_result"
        }
      ],
      "source": [
        "x[0]"
      ]
    },
    {
      "cell_type": "code",
      "execution_count": null,
      "metadata": {
        "colab": {
          "base_uri": "https://localhost:8080/"
        },
        "id": "GY2_tREfVEKO",
        "outputId": "4fed2953-ec73-4c3d-9a0f-c77edfbd8407"
      },
      "outputs": [
        {
          "data": {
            "text/plain": [
              "tensor(9)"
            ]
          },
          "execution_count": 53,
          "metadata": {},
          "output_type": "execute_result"
        }
      ],
      "source": [
        "x.argmax()"
      ]
    },
    {
      "cell_type": "code",
      "execution_count": null,
      "metadata": {
        "colab": {
          "base_uri": "https://localhost:8080/"
        },
        "id": "4ltPzIytVJVx",
        "outputId": "2fff333f-ca39-43f3-9f3e-13451607bcd1"
      },
      "outputs": [
        {
          "data": {
            "text/plain": [
              "tensor(91)"
            ]
          },
          "execution_count": 54,
          "metadata": {},
          "output_type": "execute_result"
        }
      ],
      "source": [
        "x[9]"
      ]
    },
    {
      "cell_type": "markdown",
      "metadata": {
        "id": "CP4TbSgWVL4u"
      },
      "source": [
        "## reshaping, stacking, squeezing, unsqueezing\n",
        "\n",
        "- reshaping: -shape mismatch in MATRIX- => reshapes tensor in defined shape\n",
        "- view: return view of a tensor in some shape, but just a copy not the original one\n",
        "- stacking: combine multi tensors on top -vstack- or side by side -hstack-\n",
        "- squeeze: removes all `1` dimensions from tensor\n",
        "- unsqueeze: adds `1` dimension to a target tensor\n",
        "- permute: return view of input with dimensions (swapped) in a certain way"
      ]
    },
    {
      "cell_type": "code",
      "execution_count": null,
      "metadata": {
        "id": "XVUhRLI2ooQD",
        "outputId": "b3515cb6-3242-4add-a7b5-448a4309a3f4"
      },
      "outputs": [
        {
          "data": {
            "text/plain": [
              "(tensor([1., 2., 3., 4., 5., 6., 7., 8., 9.]), torch.Size([9]))"
            ]
          },
          "execution_count": 55,
          "metadata": {},
          "output_type": "execute_result"
        }
      ],
      "source": [
        "x = torch.arange(1., 10.)\n",
        "x, x.shape"
      ]
    },
    {
      "cell_type": "code",
      "execution_count": null,
      "metadata": {
        "id": "UIIyd2n3gvGx",
        "outputId": "624d0e02-f1a8-42ef-a7f0-f7df4b016c4a"
      },
      "outputs": [
        {
          "data": {
            "text/plain": [
              "(tensor([[1., 2., 3., 4., 5., 6., 7., 8., 9.]]), torch.Size([1, 9]))"
            ]
          },
          "execution_count": 56,
          "metadata": {},
          "output_type": "execute_result"
        }
      ],
      "source": [
        "#reshape: extra dim => gotta be compatible with original size\n",
        "x_reshaped = x.reshape(1,9)\n",
        "#(2,9) => 18 elements, 9/dim\n",
        "#(9,1) => 1 element, 9 dim\n",
        "x_reshaped, x_reshaped.shape"
      ]
    },
    {
      "cell_type": "code",
      "execution_count": null,
      "metadata": {
        "id": "rYEaFM29gvGx",
        "outputId": "eec494f9-9b1b-431e-b606-37414a4261e4"
      },
      "outputs": [
        {
          "data": {
            "text/plain": [
              "(tensor([[1., 2., 3., 4., 5., 6., 7., 8., 9.]]), torch.Size([1, 9]))"
            ]
          },
          "execution_count": 57,
          "metadata": {},
          "output_type": "execute_result"
        }
      ],
      "source": [
        "#view => shares memo with ORIGINAL tensor\n",
        "z = x.view(1,9)\n",
        "z, z.shape"
      ]
    },
    {
      "cell_type": "code",
      "execution_count": null,
      "metadata": {
        "id": "aIg-6knEgvGy",
        "outputId": "dd442d92-487f-4621-835b-1fc1b3530069"
      },
      "outputs": [
        {
          "data": {
            "text/plain": [
              "(tensor([[5., 2., 3., 4., 5., 6., 7., 8., 9.]]),\n",
              " tensor([5., 2., 3., 4., 5., 6., 7., 8., 9.]))"
            ]
          },
          "execution_count": 58,
          "metadata": {},
          "output_type": "execute_result"
        }
      ],
      "source": [
        "#changing z => changes x\n",
        "z[:,0] = 5\n",
        "z,x"
      ]
    },
    {
      "cell_type": "code",
      "execution_count": null,
      "metadata": {
        "id": "szLtczhDgvGz",
        "outputId": "2777cbf5-5fde-4454-b859-af35e8ea5389"
      },
      "outputs": [
        {
          "data": {
            "text/plain": [
              "tensor([[5., 2., 3., 4., 5., 6., 7., 8., 9.],\n",
              "        [5., 2., 3., 4., 5., 6., 7., 8., 9.],\n",
              "        [5., 2., 3., 4., 5., 6., 7., 8., 9.],\n",
              "        [5., 2., 3., 4., 5., 6., 7., 8., 9.]])"
            ]
          },
          "execution_count": 59,
          "metadata": {},
          "output_type": "execute_result"
        }
      ],
      "source": [
        "#stack => v:0, h:1\n",
        "x_stack = torch.stack([x,x,x,x], dim=0)\n",
        "x_stack"
      ]
    },
    {
      "cell_type": "code",
      "execution_count": null,
      "metadata": {
        "id": "EQt7Rry1gvG0",
        "outputId": "9a5c5cf3-8257-49fd-d90e-a0d1e825b526"
      },
      "outputs": [
        {
          "data": {
            "text/plain": [
              "tensor([[5., 2., 3., 4., 5., 6., 7., 8., 9.]])"
            ]
          },
          "execution_count": 60,
          "metadata": {},
          "output_type": "execute_result"
        }
      ],
      "source": [
        "#squeeze\n",
        "x_reshaped"
      ]
    },
    {
      "cell_type": "code",
      "execution_count": null,
      "metadata": {
        "id": "bzwOc6A6gvG0",
        "outputId": "2f7095c4-fae3-4900-8ae2-5508de53a942"
      },
      "outputs": [
        {
          "data": {
            "text/plain": [
              "tensor([5., 2., 3., 4., 5., 6., 7., 8., 9.])"
            ]
          },
          "execution_count": 61,
          "metadata": {},
          "output_type": "execute_result"
        }
      ],
      "source": [
        "x_squeezed = x_reshaped.squeeze()\n",
        "x_squeezed\n",
        "#shape=[9] => removes all 1 dimensions!"
      ]
    },
    {
      "cell_type": "code",
      "execution_count": null,
      "metadata": {
        "id": "ATES_kQqgvG1",
        "outputId": "4fcbbd13-d18f-4c6a-d03e-5f0524efc099"
      },
      "outputs": [
        {
          "data": {
            "text/plain": [
              "tensor([[5.],\n",
              "        [2.],\n",
              "        [3.],\n",
              "        [4.],\n",
              "        [5.],\n",
              "        [6.],\n",
              "        [7.],\n",
              "        [8.],\n",
              "        [9.]])"
            ]
          },
          "execution_count": 62,
          "metadata": {},
          "output_type": "execute_result"
        }
      ],
      "source": [
        "#unsqueeze\n",
        "x_unsqueezed = x_squeezed.unsqueeze(dim=1) #dim=0 aka adding the extra dimension to the zeroth index of the size/tensor or adding new dimension in new index => dim=1\n",
        "x_unsqueezed"
      ]
    },
    {
      "cell_type": "code",
      "execution_count": null,
      "metadata": {
        "id": "__CghNF7gvG2",
        "outputId": "ac0a1faa-254c-4491-fb08-9de262c51bac"
      },
      "outputs": [
        {
          "name": "stdout",
          "output_type": "stream",
          "text": [
            "prev shape: torch.Size([244, 244, 3])\n",
            "new shape: torch.Size([3, 244, 244])\n"
          ]
        }
      ],
      "source": [
        "#permute => rearrange dim of target tensor in specified order\n",
        "#try image example:\n",
        "x_original = torch.rand(size =(244,244,3) )\n",
        "\n",
        "#return view(shares original memo) => view that changes the SIZE DIM themselves\n",
        "x_perm = x_original.permute(2,0,1)\n",
        "\n",
        "print(f\"prev shape: {x_original.shape}\")\n",
        "print(f\"new shape: {x_perm.shape}\")\n",
        "#same data, different POV, share same memory even though diff shapes"
      ]
    },
    {
      "cell_type": "markdown",
      "metadata": {
        "id": "erTSeBmygvG2"
      },
      "source": [
        "## indexing"
      ]
    },
    {
      "cell_type": "code",
      "execution_count": null,
      "metadata": {
        "id": "cah_3mUngvG3",
        "outputId": "e6786135-157c-4ef4-923f-4f90450b52ea"
      },
      "outputs": [
        {
          "data": {
            "text/plain": [
              "(tensor([[[1, 2, 3],\n",
              "          [4, 5, 6],\n",
              "          [7, 8, 9]]]),\n",
              " torch.Size([1, 3, 3]))"
            ]
          },
          "execution_count": 64,
          "metadata": {},
          "output_type": "execute_result"
        }
      ],
      "source": [
        "import torch\n",
        "x = torch.arange(1, 10).reshape(1,3,3) #9 values, 1 dim, 3 in each 3\n",
        "x, x.shape"
      ]
    },
    {
      "cell_type": "code",
      "execution_count": null,
      "metadata": {
        "id": "Xf7n8XocgvG3",
        "outputId": "ad8c2578-c29c-48ed-d152-ee4bbd455c9c"
      },
      "outputs": [
        {
          "data": {
            "text/plain": [
              "tensor([[1, 2, 3],\n",
              "        [4, 5, 6],\n",
              "        [7, 8, 9]])"
            ]
          },
          "execution_count": 65,
          "metadata": {},
          "output_type": "execute_result"
        }
      ],
      "source": [
        "#indexes the first outer bracket/dimension\n",
        "x[0]"
      ]
    },
    {
      "cell_type": "code",
      "execution_count": null,
      "metadata": {
        "id": "cXJpaR8ygvG3",
        "outputId": "7608c98f-05b3-4a4f-dadc-13845e4f6e10"
      },
      "outputs": [
        {
          "data": {
            "text/plain": [
              "tensor([1, 2, 3])"
            ]
          },
          "execution_count": 66,
          "metadata": {},
          "output_type": "execute_result"
        }
      ],
      "source": [
        "#index the inner bracket/dimension=1\n",
        "x[0][0]"
      ]
    },
    {
      "cell_type": "code",
      "execution_count": null,
      "metadata": {
        "id": "1a6sH1hagvG4",
        "outputId": "58a4b7f9-b041-416f-b71e-68a4c60331d6"
      },
      "outputs": [
        {
          "data": {
            "text/plain": [
              "tensor(1)"
            ]
          },
          "execution_count": 67,
          "metadata": {},
          "output_type": "execute_result"
        }
      ],
      "source": [
        "#index most inner bracket dim=2\n",
        "x[0][0][0]"
      ]
    },
    {
      "cell_type": "code",
      "execution_count": null,
      "metadata": {
        "id": "XrTIaK_RgvG4",
        "outputId": "517fec6b-2020-48f8-b14e-f3d9ed069e43"
      },
      "outputs": [
        {
          "data": {
            "text/plain": [
              "tensor([[2, 5, 8]])"
            ]
          },
          "execution_count": 68,
          "metadata": {},
          "output_type": "execute_result"
        }
      ],
      "source": [
        "#index with range \":\"\n",
        "#get all 0th, 1st dim elements, but only the 1st or 2nd element of the 2nd dim\n",
        "x[:,:,1] #vertical line, 2nd column"
      ]
    },
    {
      "cell_type": "code",
      "execution_count": null,
      "metadata": {
        "id": "oSha1EWKgvG4",
        "outputId": "be7400cd-8b31-4534-9c87-245683fda5af"
      },
      "outputs": [
        {
          "data": {
            "text/plain": [
              "tensor([5])"
            ]
          },
          "execution_count": 70,
          "metadata": {},
          "output_type": "execute_result"
        }
      ],
      "source": [
        "#all values of 0th dim, only 2nd index from the 1st, 2nd dimensions\n",
        "# aka 1st row, 1st element => dim here are index, row, col.\n",
        "x[:, 1,1]"
      ]
    },
    {
      "cell_type": "code",
      "execution_count": null,
      "metadata": {
        "id": "BlFSo9AggvG5",
        "outputId": "8e0ba5b3-bb19-459c-db64-3c3de0f710ec"
      },
      "outputs": [
        {
          "data": {
            "text/plain": [
              "tensor([1, 2, 3])"
            ]
          },
          "execution_count": 72,
          "metadata": {},
          "output_type": "execute_result"
        }
      ],
      "source": [
        "x[0,0,:]"
      ]
    },
    {
      "cell_type": "code",
      "execution_count": null,
      "metadata": {
        "id": "Py0Uy1U8gvG5",
        "outputId": "9a4b3d63-b483-47fe-81af-63f2208e0da9"
      },
      "outputs": [
        {
          "data": {
            "text/plain": [
              "tensor(9)"
            ]
          },
          "execution_count": 80,
          "metadata": {},
          "output_type": "execute_result"
        }
      ],
      "source": [
        "x[0, 2, 2] #last element of the last row of the last dim"
      ]
    },
    {
      "cell_type": "code",
      "execution_count": null,
      "metadata": {
        "id": "ELs6s13_gvG6",
        "outputId": "7073812f-9369-450c-a00d-4e6f6761fe52"
      },
      "outputs": [
        {
          "data": {
            "text/plain": [
              "tensor([3, 6, 9])"
            ]
          },
          "execution_count": 84,
          "metadata": {},
          "output_type": "execute_result"
        }
      ],
      "source": [
        "x[0, :, 2]"
      ]
    },
    {
      "cell_type": "code",
      "execution_count": null,
      "metadata": {
        "id": "QoMS0LH7gvG7",
        "outputId": "afb65d7b-9236-4271-d642-9c31f4a2c0de"
      },
      "outputs": [
        {
          "data": {
            "text/plain": [
              "(torch.Size([9]), tensor([1, 2, 3, 4, 5, 6, 7, 8, 9]))"
            ]
          },
          "execution_count": 86,
          "metadata": {},
          "output_type": "execute_result"
        }
      ],
      "source": [
        "x = torch.arange(1,10)\n",
        "x.shape, x"
      ]
    },
    {
      "cell_type": "markdown",
      "metadata": {
        "id": "NujFSp4UgvG7"
      },
      "source": [
        "## NUMPY\n",
        "scientific numerical computing lib.\n",
        "- data in numpy, want in pytorch tensor `torch.from_numpy(ndarray)`\n",
        "- pytorch tensor to numpy `torch.Tensor.numpy()`"
      ]
    },
    {
      "cell_type": "code",
      "execution_count": null,
      "metadata": {
        "id": "7T6LzXIsgvG8",
        "outputId": "372b22e1-8608-411d-9323-dabd874f70f5"
      },
      "outputs": [
        {
          "data": {
            "text/plain": [
              "(array([1., 2., 3., 4., 5., 6., 7.]),\n",
              " tensor([1., 2., 3., 4., 5., 6., 7.], dtype=torch.float64))"
            ]
          },
          "execution_count": 88,
          "metadata": {},
          "output_type": "execute_result"
        }
      ],
      "source": [
        "import torch\n",
        "import numpy as np\n",
        "array = np.arange(1.0, 8.0)\n",
        "tensor = torch.from_numpy(array) #gets u new tensor in memory\n",
        "array, tensor\n",
        "#converting from np -> pytorch ==> reflecting numpy's default datatype float64\n",
        "#pytorch default is float32, so we need to convert it\n",
        "##### might run into dt issues in calc with float64\n"
      ]
    },
    {
      "cell_type": "code",
      "execution_count": null,
      "metadata": {
        "id": "6zuMzCFLgvG9",
        "outputId": "a04032fa-eaa2-43a0-8657-533423f96327"
      },
      "outputs": [
        {
          "data": {
            "text/plain": [
              "(array([3., 4., 5., 6., 7., 8., 9.]),\n",
              " tensor([1., 2., 3., 4., 5., 6., 7.], dtype=torch.float64))"
            ]
          },
          "execution_count": 90,
          "metadata": {},
          "output_type": "execute_result"
        }
      ],
      "source": [
        "#change array, change tensor?\n",
        "array = array+1\n",
        "array, tensor"
      ]
    },
    {
      "cell_type": "code",
      "execution_count": null,
      "metadata": {
        "id": "XPSv8CYlgvG-",
        "outputId": "2dad7ac9-c573-4506-dc93-95942c0983ac"
      },
      "outputs": [
        {
          "data": {
            "text/plain": [
              "(tensor([1., 1., 1., 1., 1., 1., 1.]),\n",
              " array([1., 1., 1., 1., 1., 1., 1.], dtype=float32))"
            ]
          },
          "execution_count": 94,
          "metadata": {},
          "output_type": "execute_result"
        }
      ],
      "source": [
        "#tensor to numpy array\n",
        "tensor = torch.ones(7)\n",
        "np_tensor = tensor.numpy()\n",
        "tensor, np_tensor\n",
        "#here gets the default of the tensor -> float32, so the numpy array is float32 as well\n",
        "#numpy array is float64 by default, so we need to convert it"
      ]
    },
    {
      "cell_type": "code",
      "execution_count": null,
      "metadata": {
        "id": "48-EnnqYgvG-",
        "outputId": "2756ac9d-0e68-4da0-adcf-732aa634e083"
      },
      "outputs": [
        {
          "data": {
            "text/plain": [
              "(tensor([3., 3., 3., 3., 3., 3., 3.]),\n",
              " array([1., 1., 1., 1., 1., 1., 1.], dtype=float32))"
            ]
          },
          "execution_count": 96,
          "metadata": {},
          "output_type": "execute_result"
        }
      ],
      "source": [
        "#changing tensor, changes arra? => no, don't share memory\n",
        "tensor = tensor+1\n",
        "tensor, np_tensor"
      ]
    },
    {
      "cell_type": "markdown",
      "metadata": {
        "id": "JhloWDCkgvG-"
      },
      "source": [
        "## reproducabitlity => taking random outta random\n",
        "how nn learns:\n",
        " - start with random numbers\n",
        " - perform tensor op\n",
        " - update random numbers\n",
        " - make better representation of the data\n",
        " - again, again, again\n",
        "\n",
        "to reduce randomness => **random seed**\n",
        "\n",
        "what random seed does? => flavour randomness\n",
        "=> pc is deterministic most of the time\n",
        "\n",
        "further search == psudo randomness, reducability"
      ]
    },
    {
      "cell_type": "code",
      "execution_count": null,
      "metadata": {
        "id": "NIHVy_e8gvG-",
        "outputId": "3ba1772e-4dbb-454a-dd70-915a4785c7fa"
      },
      "outputs": [
        {
          "name": "stdout",
          "output_type": "stream",
          "text": [
            "tensor([[0.8663, 0.0771, 0.1402, 0.8742, 0.5955],\n",
            "        [0.1204, 0.9312, 0.4532, 0.3918, 0.9689],\n",
            "        [0.7622, 0.1799, 0.9326, 0.9994, 0.7382],\n",
            "        [0.7422, 0.9139, 0.2864, 0.6953, 0.4722],\n",
            "        [0.1277, 0.9005, 0.5793, 0.4165, 0.3061]])\n",
            "tensor([[0.9759, 0.8161, 0.8603, 0.9719, 0.8566],\n",
            "        [0.0021, 0.8123, 0.1969, 0.6361, 0.3716],\n",
            "        [0.4937, 0.8734, 0.0478, 0.7698, 0.9310],\n",
            "        [0.0635, 0.1328, 0.6881, 0.4421, 0.3827],\n",
            "        [0.6671, 0.4095, 0.1492, 0.3477, 0.0391]])\n",
            "tensor([[False, False, False, False, False],\n",
            "        [False, False, False, False, False],\n",
            "        [False, False, False, False, False],\n",
            "        [False, False, False, False, False],\n",
            "        [False, False, False, False, False]])\n"
          ]
        }
      ],
      "source": [
        "rand_a = torch.rand(5,5)\n",
        "rand_b = torch.rand(5,5)\n",
        "\n",
        "print(rand_a)\n",
        "print(rand_b)\n",
        "print(rand_a == rand_b)"
      ]
    },
    {
      "cell_type": "code",
      "execution_count": null,
      "metadata": {
        "id": "I8MgQgJDgvG_"
      },
      "outputs": [],
      "source": [
        "import torch"
      ]
    },
    {
      "cell_type": "markdown",
      "metadata": {
        "id": "1E-AVOMUgvG_"
      },
      "source": [
        "## random reproducable tensors\n",
        "\n"
      ]
    },
    {
      "cell_type": "code",
      "execution_count": null,
      "metadata": {
        "id": "EOW_nQ2LgvG_",
        "outputId": "bdf48d69-2c72-4ac2-e552-811362b22a7b"
      },
      "outputs": [
        {
          "data": {
            "text/plain": [
              "(tensor([[0.8357, 0.9378, 0.7439, 0.5674],\n",
              "         [0.8682, 0.4765, 0.0858, 0.7740],\n",
              "         [0.9677, 0.1874, 0.0993, 0.0611]]),\n",
              " tensor([[0.8357, 0.9378, 0.7439, 0.5674],\n",
              "         [0.8682, 0.4765, 0.0858, 0.7740],\n",
              "         [0.9677, 0.1874, 0.0993, 0.0611]]),\n",
              " tensor([[True, True, True, True],\n",
              "         [True, True, True, True],\n",
              "         [True, True, True, True]]))"
            ]
          },
          "execution_count": 4,
          "metadata": {},
          "output_type": "execute_result"
        }
      ],
      "source": [
        "#set random seed\n",
        "random_seed = 55\n",
        "torch.manual_seed(random_seed)\n",
        "\n",
        "rand_tensor = torch.rand(3,4)\n",
        "\n",
        "torch.manual_seed(random_seed)\n",
        "rand_tensor2 = torch.rand(3,4)\n",
        "\n",
        "rand_tensor, rand_tensor2, rand_tensor == rand_tensor2"
      ]
    },
    {
      "cell_type": "markdown",
      "metadata": {
        "id": "iUlcC97bgvG_"
      },
      "source": [
        "## tensors and pytorch objeects on GPUs (making faster computations)\n"
      ]
    },
    {
      "cell_type": "code",
      "source": [],
      "metadata": {
        "id": "pD77HuEdgz22"
      },
      "execution_count": null,
      "outputs": []
    }
  ],
  "metadata": {
    "colab": {
      "gpuType": "T4",
      "provenance": [],
      "include_colab_link": true
    },
    "kernelspec": {
      "display_name": "Python 3",
      "name": "python3"
    },
    "language_info": {
      "codemirror_mode": {
        "name": "ipython",
        "version": 3
      },
      "file_extension": ".py",
      "mimetype": "text/x-python",
      "name": "python",
      "nbconvert_exporter": "python",
      "pygments_lexer": "ipython3",
      "version": "3.13.0"
    }
  },
  "nbformat": 4,
  "nbformat_minor": 0
}