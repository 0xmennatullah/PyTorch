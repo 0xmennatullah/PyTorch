{
  "cells": [
    {
      "cell_type": "markdown",
      "metadata": {
        "colab_type": "text",
        "id": "view-in-github"
      },
      "source": [
        "<a href=\"https://colab.research.google.com/github/lillfirefly/PyTorch/blob/main/colab2hrs.ipynb\" target=\"_parent\"><img src=\"https://colab.research.google.com/assets/colab-badge.svg\" alt=\"Open In Colab\"/></a>"
      ]
    },
    {
      "cell_type": "code",
      "execution_count": null,
      "metadata": {
        "colab": {
          "base_uri": "https://localhost:8080/"
        },
        "id": "akMOsC_K-P68",
        "outputId": "37f24524-5353-4167-a132-9e681e4f18a4"
      },
      "outputs": [
        {
          "ename": "ModuleNotFoundError",
          "evalue": "No module named 'numpy'",
          "output_type": "error",
          "traceback": [
            "\u001b[31m---------------------------------------------------------------------------\u001b[39m",
            "\u001b[31mModuleNotFoundError\u001b[39m                       Traceback (most recent call last)",
            "\u001b[36mCell\u001b[39m\u001b[36m \u001b[39m\u001b[32mIn[1]\u001b[39m\u001b[32m, line 1\u001b[39m\n\u001b[32m----> \u001b[39m\u001b[32m1\u001b[39m \u001b[38;5;28;01mimport\u001b[39;00m\u001b[38;5;250m \u001b[39m\u001b[34;01mnumpy\u001b[39;00m\u001b[38;5;250m \u001b[39m\u001b[38;5;28;01mas\u001b[39;00m\u001b[38;5;250m \u001b[39m\u001b[34;01mnp\u001b[39;00m\n\u001b[32m      2\u001b[39m \u001b[38;5;28;01mimport\u001b[39;00m\u001b[38;5;250m \u001b[39m\u001b[34;01mtorch\u001b[39;00m\n\u001b[32m      3\u001b[39m \u001b[38;5;28;01mimport\u001b[39;00m\u001b[38;5;250m \u001b[39m\u001b[34;01mpandas\u001b[39;00m\u001b[38;5;250m \u001b[39m\u001b[38;5;28;01mas\u001b[39;00m\u001b[38;5;250m \u001b[39m\u001b[34;01mpd\u001b[39;00m\n",
            "\u001b[31mModuleNotFoundError\u001b[39m: No module named 'numpy'"
          ]
        }
      ],
      "source": [
        "import numpy as np\n",
        "import torch\n",
        "import pandas as pd\n",
        "import matplotlib.pyplot as plt\n",
        "print(torch.__version__)"
      ]
    },
    {
      "cell_type": "markdown",
      "metadata": {
        "id": "i4n73orp_c63"
      },
      "source": [
        "#introduction to tensors\n"
      ]
    },
    {
      "cell_type": "markdown",
      "metadata": {
        "id": "N0uyrU_2M8Zh"
      },
      "source": []
    },
    {
      "cell_type": "code",
      "execution_count": null,
      "metadata": {
        "colab": {
          "base_uri": "https://localhost:8080/"
        },
        "id": "rmkNM_yy-92z",
        "outputId": "a2ba1b33-ad79-481c-c168-575242ce8b77"
      },
      "outputs": [
        {
          "data": {
            "text/plain": [
              "tensor(7)"
            ]
          },
          "execution_count": 4,
          "metadata": {},
          "output_type": "execute_result"
        }
      ],
      "source": [
        "#scalar\n",
        "scalar = torch.tensor(7)\n",
        "scalar\n"
      ]
    },
    {
      "cell_type": "markdown",
      "metadata": {
        "id": "Z4pVDDeFPsb2"
      },
      "source": [
        "pytorch tensors are created using torch.Tensors() => read assignment"
      ]
    },
    {
      "cell_type": "code",
      "execution_count": null,
      "metadata": {
        "colab": {
          "base_uri": "https://localhost:8080/"
        },
        "id": "LYB3ZgTSP4A4",
        "outputId": "7a821014-844d-4461-e145-7622ca95f1f9"
      },
      "outputs": [
        {
          "data": {
            "text/plain": [
              "0"
            ]
          },
          "execution_count": 5,
          "metadata": {},
          "output_type": "execute_result"
        }
      ],
      "source": [
        "scalar.ndim"
      ]
    },
    {
      "cell_type": "code",
      "execution_count": null,
      "metadata": {
        "colab": {
          "base_uri": "https://localhost:8080/"
        },
        "id": "mgOywg6MPSuy",
        "outputId": "1d443e83-2c15-4334-d15e-abb35f3d9e36"
      },
      "outputs": [
        {
          "data": {
            "text/plain": [
              "7"
            ]
          },
          "execution_count": 6,
          "metadata": {},
          "output_type": "execute_result"
        }
      ],
      "source": [
        "#get tensor back as python int\n",
        "scalar.item()"
      ]
    },
    {
      "cell_type": "code",
      "execution_count": null,
      "metadata": {
        "colab": {
          "base_uri": "https://localhost:8080/"
        },
        "id": "IX5m3McNQRkX",
        "outputId": "d6c292f6-b011-4efc-ca62-295b0bf0e7ab"
      },
      "outputs": [
        {
          "data": {
            "text/plain": [
              "tensor([7, 7])"
            ]
          },
          "execution_count": 7,
          "metadata": {},
          "output_type": "execute_result"
        }
      ],
      "source": [
        "#vector\n",
        "vector = torch.tensor([7,7])\n",
        "vector"
      ]
    },
    {
      "cell_type": "code",
      "execution_count": null,
      "metadata": {
        "colab": {
          "base_uri": "https://localhost:8080/"
        },
        "id": "j3BDD5zuQsRY",
        "outputId": "f2768015-b502-4f94-b1a7-6643af0c3efd"
      },
      "outputs": [
        {
          "data": {
            "text/plain": [
              "1"
            ]
          },
          "execution_count": 8,
          "metadata": {},
          "output_type": "execute_result"
        }
      ],
      "source": [
        "vector.ndim"
      ]
    },
    {
      "cell_type": "code",
      "execution_count": null,
      "metadata": {
        "colab": {
          "base_uri": "https://localhost:8080/"
        },
        "id": "KQ2gMh_5QwEm",
        "outputId": "0b8f33a4-e7e8-4592-9d31-0355a3bf55a3"
      },
      "outputs": [
        {
          "data": {
            "text/plain": [
              "torch.Size([2])"
            ]
          },
          "execution_count": 9,
          "metadata": {},
          "output_type": "execute_result"
        }
      ],
      "source": [
        "vector.shape"
      ]
    },
    {
      "cell_type": "code",
      "execution_count": null,
      "metadata": {
        "colab": {
          "base_uri": "https://localhost:8080/"
        },
        "id": "hq2b381sQ3uT",
        "outputId": "6d485f96-1459-4ffb-f5dc-4e58d2e2bc0c"
      },
      "outputs": [
        {
          "data": {
            "text/plain": [
              "tensor([[2, 3],\n",
              "        [6, 9]])"
            ]
          },
          "execution_count": 10,
          "metadata": {},
          "output_type": "execute_result"
        }
      ],
      "source": [
        "#matrix\n",
        "MATRIX = torch.tensor([[2,3],[6,9]])\n",
        "MATRIX"
      ]
    },
    {
      "cell_type": "code",
      "execution_count": null,
      "metadata": {
        "colab": {
          "base_uri": "https://localhost:8080/"
        },
        "id": "Qbpfbxi_RHow",
        "outputId": "d974f467-c316-47aa-dba5-3cc8f005099e"
      },
      "outputs": [
        {
          "data": {
            "text/plain": [
              "2"
            ]
          },
          "execution_count": 11,
          "metadata": {},
          "output_type": "execute_result"
        }
      ],
      "source": [
        "MATRIX.ndim"
      ]
    },
    {
      "cell_type": "code",
      "execution_count": null,
      "metadata": {
        "colab": {
          "base_uri": "https://localhost:8080/"
        },
        "id": "NcyKdCk9RSPO",
        "outputId": "1f959478-c669-4629-9728-5c3a6a17c2d1"
      },
      "outputs": [
        {
          "data": {
            "text/plain": [
              "torch.Size([2, 2])"
            ]
          },
          "execution_count": 12,
          "metadata": {},
          "output_type": "execute_result"
        }
      ],
      "source": [
        "MATRIX.shape"
      ]
    },
    {
      "cell_type": "code",
      "execution_count": null,
      "metadata": {
        "colab": {
          "base_uri": "https://localhost:8080/"
        },
        "id": "yy7nqzeuRX_Y",
        "outputId": "e62946cf-196f-466a-9e39-3e6f08e9cb15"
      },
      "outputs": [
        {
          "data": {
            "text/plain": [
              "tensor([[[[5, 5, 5],\n",
              "          [5, 5, 5]],\n",
              "\n",
              "         [[6, 6, 5],\n",
              "          [6, 6, 5]],\n",
              "\n",
              "         [[1, 1, 1],\n",
              "          [1, 1, 1]]]])"
            ]
          },
          "execution_count": 13,
          "metadata": {},
          "output_type": "execute_result"
        }
      ],
      "source": [
        "#tensor\n",
        "TENSOR = torch.tensor([[[[5,5,5],[5,5,5]], [[6,6,5], [6,6,5]], [[1,1,1], [1,1,1]]]])\n",
        "TENSOR"
      ]
    },
    {
      "cell_type": "code",
      "execution_count": null,
      "metadata": {
        "colab": {
          "base_uri": "https://localhost:8080/"
        },
        "id": "SQUhJDWwRoLk",
        "outputId": "02411dc7-a64f-4425-d3ec-6a29bd117f4c"
      },
      "outputs": [
        {
          "data": {
            "text/plain": [
              "4"
            ]
          },
          "execution_count": 14,
          "metadata": {},
          "output_type": "execute_result"
        }
      ],
      "source": [
        "TENSOR.ndim"
      ]
    },
    {
      "cell_type": "code",
      "execution_count": null,
      "metadata": {
        "colab": {
          "base_uri": "https://localhost:8080/"
        },
        "id": "snb4AneaRrK3",
        "outputId": "2725eb17-f5c2-44e3-91e0-8fb7ac30cbe3"
      },
      "outputs": [
        {
          "data": {
            "text/plain": [
              "torch.Size([1, 3, 2, 3])"
            ]
          },
          "execution_count": 15,
          "metadata": {},
          "output_type": "execute_result"
        }
      ],
      "source": [
        "TENSOR.shape"
      ]
    },
    {
      "cell_type": "markdown",
      "metadata": {
        "id": "BUEW5lGPYuPV"
      },
      "source": [
        "1 batch, 3 matrices, 2 rows, 3 columns. => 4D tensor.\n",
        "\n",
        "\n",
        "---\n",
        "\n"
      ]
    },
    {
      "cell_type": "markdown",
      "metadata": {
        "id": "Pplza31XZKPZ"
      },
      "source": [
        "###Random tensor\n",
        "\n",
        "\n",
        "- why random tensors?\n",
        "- cus the way many NN kearns => start of tensors of rands, adjust em th represent data\n",
        "\n",
        "steps?\n",
        "\n",
        "`start w rand => look @data => update rand => look @data => update rand`\n",
        "\n",
        "t2: ==> read randoms from documentation>>>"
      ]
    },
    {
      "cell_type": "code",
      "execution_count": null,
      "metadata": {
        "colab": {
          "base_uri": "https://localhost:8080/"
        },
        "id": "1vCOnCxkYshK",
        "outputId": "a4459e02-ed8d-4a03-ec51-d3920852a046"
      },
      "outputs": [
        {
          "data": {
            "text/plain": [
              "tensor([[0.6753, 0.3409, 0.6104, 0.2198],\n",
              "        [0.1061, 0.5329, 0.9720, 0.4717],\n",
              "        [0.8349, 0.8160, 0.7757, 0.8984]])"
            ]
          },
          "execution_count": 16,
          "metadata": {},
          "output_type": "execute_result"
        }
      ],
      "source": [
        "#random tensors => shape (3,4)\n",
        "\n",
        "random_ten = torch.rand(3,4)\n",
        "random_ten"
      ]
    },
    {
      "cell_type": "code",
      "execution_count": null,
      "metadata": {
        "colab": {
          "base_uri": "https://localhost:8080/"
        },
        "id": "UgMPQVfvauA-",
        "outputId": "712d2827-433b-4565-e8b3-436a5cfb4bfa"
      },
      "outputs": [
        {
          "data": {
            "text/plain": [
              "2"
            ]
          },
          "execution_count": 17,
          "metadata": {},
          "output_type": "execute_result"
        }
      ],
      "source": [
        "random_ten.ndim"
      ]
    },
    {
      "cell_type": "code",
      "execution_count": null,
      "metadata": {
        "colab": {
          "base_uri": "https://localhost:8080/"
        },
        "collapsed": true,
        "id": "B-9ZcOFwa1wM",
        "outputId": "8787f1b8-5ac5-4a5c-858a-778921615f07"
      },
      "outputs": [
        {
          "data": {
            "text/plain": [
              "tensor([[0.5031, 0.7512, 0.4637, 0.8829, 0.5628, 0.3021, 0.2606, 0.4792, 0.6143,\n",
              "         0.2470],\n",
              "        [0.2946, 0.0987, 0.3034, 0.7343, 0.2018, 0.5991, 0.8087, 0.8384, 0.9464,\n",
              "         0.2233],\n",
              "        [0.2197, 0.0482, 0.1554, 0.9353, 0.3337, 0.8112, 0.1441, 0.5604, 0.6472,\n",
              "         0.1572],\n",
              "        [0.3621, 0.7558, 0.0661, 0.7174, 0.7543, 0.1129, 0.0849, 0.0897, 0.1935,\n",
              "         0.1430],\n",
              "        [0.6156, 0.6200, 0.2007, 0.9066, 0.0701, 0.0105, 0.1317, 0.1702, 0.6254,\n",
              "         0.2155],\n",
              "        [0.0730, 0.7814, 0.6943, 0.4313, 0.6177, 0.3477, 0.6366, 0.8420, 0.9294,\n",
              "         0.4490],\n",
              "        [0.2769, 0.0251, 0.5247, 0.7140, 0.7242, 0.9517, 0.9996, 0.8436, 0.5716,\n",
              "         0.9816],\n",
              "        [0.1418, 0.3009, 0.1327, 0.8854, 0.5461, 0.4946, 0.6829, 0.6200, 0.4554,\n",
              "         0.6464],\n",
              "        [0.2196, 0.0294, 0.7486, 0.7586, 0.1330, 0.7858, 0.4656, 0.5682, 0.1992,\n",
              "         0.6365],\n",
              "        [0.7194, 0.4930, 0.0472, 0.9269, 0.6352, 0.6472, 0.3404, 0.0790, 0.8131,\n",
              "         0.9922]])"
            ]
          },
          "execution_count": 18,
          "metadata": {},
          "output_type": "execute_result"
        }
      ],
      "source": [
        "ran_ten = torch.rand(10,10)\n",
        "ran_ten"
      ]
    },
    {
      "cell_type": "code",
      "execution_count": null,
      "metadata": {
        "colab": {
          "base_uri": "https://localhost:8080/"
        },
        "id": "hl9G0tvYbBNb",
        "outputId": "b0f1da0f-91fd-45ed-eeb5-01f6435603b5"
      },
      "outputs": [
        {
          "data": {
            "text/plain": [
              "2"
            ]
          },
          "execution_count": 19,
          "metadata": {},
          "output_type": "execute_result"
        }
      ],
      "source": [
        "ran_ten.ndim"
      ]
    },
    {
      "cell_type": "code",
      "execution_count": null,
      "metadata": {
        "colab": {
          "base_uri": "https://localhost:8080/"
        },
        "id": "7Vc6w6XIbFnF",
        "outputId": "a18b9aee-5978-4459-b0be-1635b07deb36"
      },
      "outputs": [
        {
          "data": {
            "text/plain": [
              "3"
            ]
          },
          "execution_count": 20,
          "metadata": {},
          "output_type": "execute_result"
        }
      ],
      "source": [
        "ran_tenn = torch.rand(3,3,3)\n",
        "ran_tenn\n",
        "ran_tenn.ndim"
      ]
    },
    {
      "cell_type": "markdown",
      "metadata": {
        "id": "95F4NmJybfgq"
      },
      "source": [
        "### Random tensor similar shape as image tensor:"
      ]
    },
    {
      "cell_type": "code",
      "execution_count": null,
      "metadata": {
        "colab": {
          "base_uri": "https://localhost:8080/"
        },
        "id": "vwj-C9XPbYej",
        "outputId": "d174d628-3efb-4061-df21-bc99ae23dfbe"
      },
      "outputs": [
        {
          "data": {
            "text/plain": [
              "(torch.Size([244, 244, 3]), 3)"
            ]
          },
          "execution_count": 21,
          "metadata": {},
          "output_type": "execute_result"
        }
      ],
      "source": [
        "rand_img_tens = torch.rand(size=(244,244,3))\n",
        "#heigt, width, color channel(rgb)\n",
        "rand_img_tens.shape, rand_img_tens.ndim"
      ]
    },
    {
      "cell_type": "code",
      "execution_count": null,
      "metadata": {
        "colab": {
          "base_uri": "https://localhost:8080/"
        },
        "collapsed": true,
        "id": "ihlXcg5kpTNa",
        "outputId": "08ffbc78-3298-44ac-fcbe-18a85fc8ebf5"
      },
      "outputs": [
        {
          "data": {
            "text/plain": [
              "tensor([[[0.4767, 0.7293, 0.5082],\n",
              "         [0.3431, 0.9855, 0.4086],\n",
              "         [0.0793, 0.3063, 0.4514],\n",
              "         ...,\n",
              "         [0.9681, 0.5890, 0.8253],\n",
              "         [0.0531, 0.1784, 0.3071],\n",
              "         [0.2647, 0.0926, 0.5458]],\n",
              "\n",
              "        [[0.9035, 0.4913, 0.4406],\n",
              "         [0.1012, 0.9260, 0.6348],\n",
              "         [0.1210, 0.7605, 0.5247],\n",
              "         ...,\n",
              "         [0.2785, 0.8567, 0.4592],\n",
              "         [0.9167, 0.4419, 0.9577],\n",
              "         [0.4201, 0.2899, 0.3557]],\n",
              "\n",
              "        [[0.8119, 0.9226, 0.3812],\n",
              "         [0.8646, 0.2822, 0.0559],\n",
              "         [0.9103, 0.9750, 0.3308],\n",
              "         ...,\n",
              "         [0.2482, 0.7844, 0.9868],\n",
              "         [0.6551, 0.4107, 0.1634],\n",
              "         [0.4338, 0.2425, 0.7997]],\n",
              "\n",
              "        ...,\n",
              "\n",
              "        [[0.2878, 0.6691, 0.2409],\n",
              "         [0.8348, 0.7157, 0.5017],\n",
              "         [0.0795, 0.3264, 0.0105],\n",
              "         ...,\n",
              "         [0.8524, 0.6028, 0.7772],\n",
              "         [0.4484, 0.6395, 0.4089],\n",
              "         [0.3872, 0.4750, 0.3924]],\n",
              "\n",
              "        [[0.5036, 0.1196, 0.9676],\n",
              "         [0.3249, 0.5679, 0.1693],\n",
              "         [0.8309, 0.0646, 0.1536],\n",
              "         ...,\n",
              "         [0.1174, 0.0360, 0.8253],\n",
              "         [0.1110, 0.8094, 0.6041],\n",
              "         [0.2572, 0.9046, 0.2626]],\n",
              "\n",
              "        [[0.7396, 0.0420, 0.9483],\n",
              "         [0.7376, 0.9691, 0.6387],\n",
              "         [0.3553, 0.4660, 0.9525],\n",
              "         ...,\n",
              "         [0.0240, 0.2505, 0.4474],\n",
              "         [0.1622, 0.2548, 0.5386],\n",
              "         [0.2975, 0.5261, 0.7043]]])"
            ]
          },
          "execution_count": 22,
          "metadata": {},
          "output_type": "execute_result"
        }
      ],
      "source": [
        "rand_img_tens"
      ]
    },
    {
      "cell_type": "markdown",
      "metadata": {
        "id": "I7nc5rnMsaWj"
      },
      "source": [
        "Zeros and Ones\n"
      ]
    },
    {
      "cell_type": "code",
      "execution_count": null,
      "metadata": {
        "colab": {
          "base_uri": "https://localhost:8080/"
        },
        "id": "jMTjrZJKDnqL",
        "outputId": "40c1ec0e-5d0d-41a4-bfc5-95e526d026a1"
      },
      "outputs": [
        {
          "data": {
            "text/plain": [
              "tensor([[0., 0., 0., 0.],\n",
              "        [0., 0., 0., 0.],\n",
              "        [0., 0., 0., 0.]])"
            ]
          },
          "execution_count": 25,
          "metadata": {},
          "output_type": "execute_result"
        }
      ],
      "source": [
        "#tensor of zeros\n",
        "zero = torch.zeros(3,4)\n",
        "zero"
      ]
    },
    {
      "cell_type": "code",
      "execution_count": null,
      "metadata": {
        "colab": {
          "base_uri": "https://localhost:8080/"
        },
        "id": "Iq3llN-RD-vR",
        "outputId": "cba86e5d-0787-4270-c0b2-654077824450"
      },
      "outputs": [
        {
          "data": {
            "text/plain": [
              "tensor([[0., 0., 0., 0.],\n",
              "        [0., 0., 0., 0.],\n",
              "        [0., 0., 0., 0.]])"
            ]
          },
          "execution_count": 28,
          "metadata": {},
          "output_type": "execute_result"
        }
      ],
      "source": [
        "zero*random_ten"
      ]
    },
    {
      "cell_type": "code",
      "execution_count": null,
      "metadata": {
        "colab": {
          "base_uri": "https://localhost:8080/"
        },
        "id": "eXjKcz1gEQjw",
        "outputId": "8f11a436-597e-4da7-e8a1-cafea4b981fa"
      },
      "outputs": [
        {
          "data": {
            "text/plain": [
              "tensor([[1., 1., 1., 1.],\n",
              "        [1., 1., 1., 1.],\n",
              "        [1., 1., 1., 1.]])"
            ]
          },
          "execution_count": 34,
          "metadata": {},
          "output_type": "execute_result"
        }
      ],
      "source": [
        "#tensor of ones\n",
        "ones = torch.ones(3,4)\n",
        "ones"
      ]
    },
    {
      "cell_type": "code",
      "execution_count": null,
      "metadata": {
        "colab": {
          "base_uri": "https://localhost:8080/"
        },
        "id": "ZFUi4ztcEcb7",
        "outputId": "0f55dfe1-dda2-485b-dcec-1cc5498d02ca"
      },
      "outputs": [
        {
          "data": {
            "text/plain": [
              "torch.float32"
            ]
          },
          "execution_count": 35,
          "metadata": {},
          "output_type": "execute_result"
        }
      ],
      "source": [
        "ones.dtype"
      ]
    },
    {
      "cell_type": "code",
      "execution_count": null,
      "metadata": {
        "colab": {
          "base_uri": "https://localhost:8080/"
        },
        "id": "llDqT5vSEzJm",
        "outputId": "7c90da39-8e8a-4132-909c-3a4424bdc164"
      },
      "outputs": [
        {
          "data": {
            "text/plain": [
              "torch.float32"
            ]
          },
          "execution_count": 36,
          "metadata": {},
          "output_type": "execute_result"
        }
      ],
      "source": [
        "random_ten.dtype"
      ]
    },
    {
      "cell_type": "markdown",
      "metadata": {
        "id": "SwcTY28vE0XF"
      },
      "source": [
        "### creating range of tensors & tensors alike"
      ]
    },
    {
      "cell_type": "code",
      "execution_count": null,
      "metadata": {
        "colab": {
          "base_uri": "https://localhost:8080/"
        },
        "id": "CQDn77YNFYfe",
        "outputId": "f5d51a90-a8ec-41b4-8abe-e2491a118737"
      },
      "outputs": [
        {
          "data": {
            "text/plain": [
              "tensor([0, 2, 4, 6, 8])"
            ]
          },
          "execution_count": 42,
          "metadata": {},
          "output_type": "execute_result"
        }
      ],
      "source": [
        "#using torch.range/arange\n",
        "one_ten = torch.arange(0,10,2)\n",
        "one_ten"
      ]
    },
    {
      "cell_type": "code",
      "execution_count": null,
      "metadata": {
        "colab": {
          "base_uri": "https://localhost:8080/"
        },
        "id": "_37_KHrgFsyT",
        "outputId": "50bff71d-c6d4-4ebd-92ed-4a55dd21ae86"
      },
      "outputs": [
        {
          "data": {
            "text/plain": [
              "tensor([0, 0, 0, 0, 0])"
            ]
          },
          "execution_count": 44,
          "metadata": {},
          "output_type": "execute_result"
        }
      ],
      "source": [
        "#tensor like\n",
        "ten_zero = torch.zeros_like(one_ten)\n",
        "ten_zero"
      ]
    },
    {
      "cell_type": "code",
      "execution_count": null,
      "metadata": {
        "colab": {
          "base_uri": "https://localhost:8080/"
        },
        "id": "2tC3BG8eHOSP",
        "outputId": "b4acef93-132a-45b5-db16-b4318af2b553"
      },
      "outputs": [
        {
          "data": {
            "text/plain": [
              "tensor([[1.4643, 1.2866, 1.8787, 1.2830, 1.2082, 1.3882, 1.5399, 1.0947, 1.9727,\n",
              "         1.2912, 1.0649, 1.2600, 1.2369, 1.5780, 1.8827, 1.1771, 1.4109, 1.6027,\n",
              "         1.3848, 1.9000]])"
            ]
          },
          "execution_count": 52,
          "metadata": {},
          "output_type": "execute_result"
        }
      ],
      "source": [
        "ten_shape = torch.arange(1,100,5)\n",
        "#ten_shape\n",
        "ten1_shape = torch.ones_like(ten_shape)\n",
        "ten2_shape = torch.zeros_like(ten_shape)\n",
        "rten = torch.rand(1,20)\n",
        "ten1_shape + ten2_shape + rten"
      ]
    },
    {
      "cell_type": "markdown",
      "metadata": {
        "id": "h2xH_B7UIO_2"
      },
      "source": [
        "###Tensor datatypes"
      ]
    },
    {
      "cell_type": "code",
      "execution_count": null,
      "metadata": {
        "colab": {
          "base_uri": "https://localhost:8080/"
        },
        "id": "ErjE_yBNIYGh",
        "outputId": "8589e1d3-81e2-4582-c1a3-d88add714687"
      },
      "outputs": [
        {
          "data": {
            "text/plain": [
              "tensor([3., 6., 9.])"
            ]
          },
          "execution_count": 58,
          "metadata": {},
          "output_type": "execute_result"
        }
      ],
      "source": [
        "#float 32 tensor\n",
        "f32_ten = torch.tensor([3.0,6.0,9.0], #anything else is auto assigned, no need t add manually.\n",
        "                       dtype=None,\n",
        "                       device = None, #dev ur tensor on + track gradient w this op\n",
        "                       requires_grad = False) #\n",
        "f32_ten"
      ]
    },
    {
      "cell_type": "code",
      "execution_count": null,
      "metadata": {
        "colab": {
          "base_uri": "https://localhost:8080/"
        },
        "id": "AXKmx-jeI922",
        "outputId": "d5693a62-a1f5-468c-a3ee-d6a5a47c8287"
      },
      "outputs": [
        {
          "data": {
            "text/plain": [
              "torch.float32"
            ]
          },
          "execution_count": 59,
          "metadata": {},
          "output_type": "execute_result"
        }
      ],
      "source": [
        "f32_ten.dtype"
      ]
    },
    {
      "cell_type": "markdown",
      "metadata": {
        "id": "q_2Kss97JVtC"
      },
      "source": [
        "### problems with tensors:\n",
        "1. not right data type => f16 in f32\n",
        "2. not right shape => matrix mult\n",
        "3. not right device => device =\"cpu\" / \"cuda\" -> operations on tensors on diff devices."
      ]
    },
    {
      "cell_type": "code",
      "execution_count": null,
      "metadata": {
        "colab": {
          "base_uri": "https://localhost:8080/"
        },
        "id": "H2Xzh1Z9K3dR",
        "outputId": "6343b0ea-4041-4079-f18c-2bd86acf3d90"
      },
      "outputs": [
        {
          "data": {
            "text/plain": [
              "tensor([3., 6., 9.], dtype=torch.float16)"
            ]
          },
          "execution_count": 61,
          "metadata": {},
          "output_type": "execute_result"
        }
      ],
      "source": [
        "f16_Ten = f32_ten.type(torch.float16)\n",
        "f16_Ten #conversion to not run into \"not right shape\" problem."
      ]
    },
    {
      "cell_type": "markdown",
      "metadata": {},
      "source": []
    },
    {
      "cell_type": "code",
      "execution_count": null,
      "metadata": {},
      "outputs": [],
      "source": []
    }
  ],
  "metadata": {
    "colab": {
      "authorship_tag": "ABX9TyPkwSVkx56P+nr0odRPd/q6",
      "gpuType": "T4",
      "include_colab_link": true,
      "mount_file_id": "1yfNYw9pK4M5PYJwAU1rw21PV_Pk_69ZU",
      "provenance": []
    },
    "kernelspec": {
      "display_name": "Python 3",
      "name": "python3"
    },
    "language_info": {
      "codemirror_mode": {
        "name": "ipython",
        "version": 3
      },
      "file_extension": ".py",
      "mimetype": "text/x-python",
      "name": "python",
      "nbconvert_exporter": "python",
      "pygments_lexer": "ipython3",
      "version": "3.13.0"
    }
  },
  "nbformat": 4,
  "nbformat_minor": 0
}
