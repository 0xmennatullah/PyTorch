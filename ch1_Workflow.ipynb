{
  "nbformat": 4,
  "nbformat_minor": 0,
  "metadata": {
    "colab": {
      "provenance": [],
      "gpuType": "T4",
      "authorship_tag": "ABX9TyOJdHjP3puxTaUN9T5uT3Zj",
      "include_colab_link": true
    },
    "kernelspec": {
      "name": "python3",
      "display_name": "Python 3"
    },
    "language_info": {
      "name": "python"
    }
  },
  "cells": [
    {
      "cell_type": "markdown",
      "metadata": {
        "id": "view-in-github",
        "colab_type": "text"
      },
      "source": [
        "<a href=\"https://colab.research.google.com/github/0xmennatullah/PyTorch/blob/main/ch1_Workflow.ipynb\" target=\"_parent\"><img src=\"https://colab.research.google.com/assets/colab-badge.svg\" alt=\"Open In Colab\"/></a>"
      ]
    },
    {
      "cell_type": "markdown",
      "source": [
        "# Phase 1"
      ],
      "metadata": {
        "id": "M-X-Dbwu9CtV"
      }
    },
    {
      "cell_type": "code",
      "execution_count": 72,
      "metadata": {
        "colab": {
          "base_uri": "https://localhost:8080/"
        },
        "id": "5LxDP3QJfq6W",
        "outputId": "5d779d8e-e08d-47a3-f950-e72d0a4f9dd2"
      },
      "outputs": [
        {
          "output_type": "stream",
          "name": "stdout",
          "text": [
            "/bin/bash: line 1: nvidia-smi: command not found\n"
          ]
        }
      ],
      "source": [
        "!nvidia-smi"
      ]
    },
    {
      "cell_type": "code",
      "source": [
        "import torch\n",
        "torch.cuda.is_available()"
      ],
      "metadata": {
        "colab": {
          "base_uri": "https://localhost:8080/"
        },
        "id": "rCdud5MKf_rp",
        "outputId": "b0f6adaf-0854-4016-dadd-24ea5a2a3f7d"
      },
      "execution_count": 73,
      "outputs": [
        {
          "output_type": "execute_result",
          "data": {
            "text/plain": [
              "False"
            ]
          },
          "metadata": {},
          "execution_count": 73
        }
      ]
    },
    {
      "cell_type": "code",
      "source": [],
      "metadata": {
        "id": "u29yT5I3iB01"
      },
      "execution_count": 73,
      "outputs": []
    },
    {
      "cell_type": "code",
      "source": [
        "device= \"cuda\" if torch.cuda.is_available() else \"cpu\""
      ],
      "metadata": {
        "id": "mALXrISmggPS"
      },
      "execution_count": 74,
      "outputs": []
    },
    {
      "cell_type": "markdown",
      "source": [
        "## putting tensors and models on GPU\n",
        "- cuz using GPU results in faster communications"
      ],
      "metadata": {
        "id": "iZCPSpidgqML"
      }
    },
    {
      "cell_type": "code",
      "source": [
        "#create a tensor (def on cpu)\n",
        "tensor = torch.tensor([1,2,3])\n",
        "\n",
        "#not on GPU\n",
        "print(tensor, tensor.device)"
      ],
      "metadata": {
        "colab": {
          "base_uri": "https://localhost:8080/"
        },
        "id": "KmF4VNeViB4d",
        "outputId": "ae32ecf5-00eb-4ac3-fc47-2cd9abb643b9"
      },
      "execution_count": 75,
      "outputs": [
        {
          "output_type": "stream",
          "name": "stdout",
          "text": [
            "tensor([1, 2, 3]) cpu\n"
          ]
        }
      ]
    },
    {
      "cell_type": "code",
      "source": [
        "#movee to gpu\n",
        "tensor_on_gpu = tensor.to(device)\n",
        "tensor_on_gpu"
      ],
      "metadata": {
        "colab": {
          "base_uri": "https://localhost:8080/"
        },
        "id": "wrkS5h6TiNGz",
        "outputId": "bd7fea8a-1a8c-481c-d112-7ebbdbdf7b92"
      },
      "execution_count": 76,
      "outputs": [
        {
          "output_type": "execute_result",
          "data": {
            "text/plain": [
              "tensor([1, 2, 3])"
            ]
          },
          "metadata": {},
          "execution_count": 76
        }
      ]
    },
    {
      "cell_type": "markdown",
      "source": [
        "### moving tensors back to cpu\n",
        "- numpy only work on the cpu, so we might need to refer back"
      ],
      "metadata": {
        "id": "-TyxwX41l6yw"
      }
    },
    {
      "cell_type": "code",
      "source": [
        "# if on gpu -> can't trans to numpy\n",
        "tensor_on_gpu.numpy()"
      ],
      "metadata": {
        "colab": {
          "base_uri": "https://localhost:8080/"
        },
        "id": "BZQyiGCBmtFA",
        "outputId": "9549af5a-1fa9-4d7b-b520-0c052fb980b6"
      },
      "execution_count": 77,
      "outputs": [
        {
          "output_type": "execute_result",
          "data": {
            "text/plain": [
              "array([1, 2, 3])"
            ]
          },
          "metadata": {},
          "execution_count": 77
        }
      ]
    },
    {
      "cell_type": "code",
      "source": [
        "# to fix the gpu tensor + numpy issue, we first set it to cpu\n",
        "tensor_to_cpu = tensor_on_gpu.cpu().numpy()\n",
        "tensor_to_cpu"
      ],
      "metadata": {
        "colab": {
          "base_uri": "https://localhost:8080/"
        },
        "id": "DxybjZQBm1Lr",
        "outputId": "0c4484a4-8b44-4b46-f796-27ae9d5a6a39"
      },
      "execution_count": 78,
      "outputs": [
        {
          "output_type": "execute_result",
          "data": {
            "text/plain": [
              "array([1, 2, 3])"
            ]
          },
          "metadata": {},
          "execution_count": 78
        }
      ]
    },
    {
      "cell_type": "code",
      "source": [
        "tensor_on_gpu\n",
        "# we assigned the change to tensor_on_cpu, so on_gpu didn't change"
      ],
      "metadata": {
        "colab": {
          "base_uri": "https://localhost:8080/"
        },
        "id": "K4aiDNb5nEcq",
        "outputId": "a20611ff-af04-4a65-9ea6-12e3898b9452"
      },
      "execution_count": 79,
      "outputs": [
        {
          "output_type": "execute_result",
          "data": {
            "text/plain": [
              "tensor([1, 2, 3])"
            ]
          },
          "metadata": {},
          "execution_count": 79
        }
      ]
    },
    {
      "cell_type": "code",
      "source": [
        "what_were_covering = {1: \"data (prepare and load)\",\n",
        "                      2: \"build model\",\n",
        "                      3: \"fitting model to data\",\n",
        "                      4: \"making predictions (inference)\",\n",
        "                      5: \"saving and loading the model\",\n",
        "                      6: \"bringing it all together\"}\n",
        "\n",
        "what_were_covering"
      ],
      "metadata": {
        "id": "_nv7Ub6-nYh9",
        "colab": {
          "base_uri": "https://localhost:8080/"
        },
        "outputId": "7bad15e7-4233-4a3a-ec44-cfc4bfea99c5"
      },
      "execution_count": 80,
      "outputs": [
        {
          "output_type": "execute_result",
          "data": {
            "text/plain": [
              "{1: 'data (prepare and load)',\n",
              " 2: 'build model',\n",
              " 3: 'fitting model to data',\n",
              " 4: 'making predictions (inference)',\n",
              " 5: 'saving and loading the model',\n",
              " 6: 'bringing it all together'}"
            ]
          },
          "metadata": {},
          "execution_count": 80
        }
      ]
    },
    {
      "cell_type": "code",
      "source": [
        "import torch\n",
        "from torch import nn #basic building blocks for a graph aka neural net.\n",
        "import matplotlib.pyplot as plt\n",
        "\n",
        "torch.__version__"
      ],
      "metadata": {
        "id": "hQKmSKOW0IqM",
        "colab": {
          "base_uri": "https://localhost:8080/",
          "height": 35
        },
        "outputId": "c3cd7fe7-dc43-48b1-e1d9-e59f0a504b73"
      },
      "execution_count": 81,
      "outputs": [
        {
          "output_type": "execute_result",
          "data": {
            "text/plain": [
              "'2.6.0+cu124'"
            ],
            "application/vnd.google.colaboratory.intrinsic+json": {
              "type": "string"
            }
          },
          "metadata": {},
          "execution_count": 81
        }
      ]
    },
    {
      "cell_type": "markdown",
      "source": [
        "## 1. data (preparing and loading)\n",
        " - can be almost ANYTHING => excel sheet, vidios, audio, photo, etc, DNA, txt\n",
        " - ML is a game => get data into neumericals + build model t learn patterns in this representation\n",
        " - same goes for DL => u need some numberic representation\n",
        " -using the linear regression formula t make straight line w known *parameters* => (sth model learns)"
      ],
      "metadata": {
        "id": "iP1RO08XSmrG"
      }
    },
    {
      "cell_type": "code",
      "source": [
        "# create known parameteres\n",
        "\n",
        "weight = 0.8\n",
        "bias = 0.2\n",
        "\n",
        "# create data\n",
        "\n",
        "start = 0\n",
        "end = 1\n",
        "step= 0.02\n",
        "X = torch.arange(start, end, step).unsqueeze(dim=1)\n",
        "Y = weight *X + bias\n",
        "\n",
        "X[:10], Y[:10] #why not x[:, 10]?"
      ],
      "metadata": {
        "colab": {
          "base_uri": "https://localhost:8080/"
        },
        "id": "D10DDytZSrzp",
        "outputId": "9f255d08-dce3-4ca5-f2d5-ebad8c675f5c"
      },
      "execution_count": 82,
      "outputs": [
        {
          "output_type": "execute_result",
          "data": {
            "text/plain": [
              "(tensor([[0.0000],\n",
              "         [0.0200],\n",
              "         [0.0400],\n",
              "         [0.0600],\n",
              "         [0.0800],\n",
              "         [0.1000],\n",
              "         [0.1200],\n",
              "         [0.1400],\n",
              "         [0.1600],\n",
              "         [0.1800]]),\n",
              " tensor([[0.2000],\n",
              "         [0.2160],\n",
              "         [0.2320],\n",
              "         [0.2480],\n",
              "         [0.2640],\n",
              "         [0.2800],\n",
              "         [0.2960],\n",
              "         [0.3120],\n",
              "         [0.3280],\n",
              "         [0.3440]]))"
            ]
          },
          "metadata": {},
          "execution_count": 82
        }
      ]
    },
    {
      "cell_type": "code",
      "source": [
        "len(X), len(Y)"
      ],
      "metadata": {
        "colab": {
          "base_uri": "https://localhost:8080/"
        },
        "id": "9hM7D6ahUzso",
        "outputId": "d916921d-599b-41c9-c5be-434d122edf9d"
      },
      "execution_count": 83,
      "outputs": [
        {
          "output_type": "execute_result",
          "data": {
            "text/plain": [
              "(50, 50)"
            ]
          },
          "metadata": {},
          "execution_count": 83
        }
      ]
    },
    {
      "cell_type": "code",
      "source": [
        "#splitting our data set => train test\n",
        "train_split = int(0.8 * len(X))\n",
        "X_train, Y_train = X[:train_split], Y[:train_split]\n",
        "X_test, Y_test = X[train_split:], Y[train_split:]\n",
        "\n",
        "len(X_train), len(Y_train), len(X_test), len(Y_test)\n",
        "#can use sckikit to randomly split itttt"
      ],
      "metadata": {
        "colab": {
          "base_uri": "https://localhost:8080/"
        },
        "id": "RRmHjkpEUaz7",
        "outputId": "9a53a519-683e-4459-d496-ac9e50e2e3bf"
      },
      "execution_count": 84,
      "outputs": [
        {
          "output_type": "execute_result",
          "data": {
            "text/plain": [
              "(40, 40, 10, 10)"
            ]
          },
          "metadata": {},
          "execution_count": 84
        }
      ]
    },
    {
      "cell_type": "code",
      "source": [
        "X_train, Y_train"
      ],
      "metadata": {
        "colab": {
          "base_uri": "https://localhost:8080/"
        },
        "id": "NQbbA12WWkxQ",
        "outputId": "403c3c53-f23a-4ece-a781-4bff5a290800"
      },
      "execution_count": 85,
      "outputs": [
        {
          "output_type": "execute_result",
          "data": {
            "text/plain": [
              "(tensor([[0.0000],\n",
              "         [0.0200],\n",
              "         [0.0400],\n",
              "         [0.0600],\n",
              "         [0.0800],\n",
              "         [0.1000],\n",
              "         [0.1200],\n",
              "         [0.1400],\n",
              "         [0.1600],\n",
              "         [0.1800],\n",
              "         [0.2000],\n",
              "         [0.2200],\n",
              "         [0.2400],\n",
              "         [0.2600],\n",
              "         [0.2800],\n",
              "         [0.3000],\n",
              "         [0.3200],\n",
              "         [0.3400],\n",
              "         [0.3600],\n",
              "         [0.3800],\n",
              "         [0.4000],\n",
              "         [0.4200],\n",
              "         [0.4400],\n",
              "         [0.4600],\n",
              "         [0.4800],\n",
              "         [0.5000],\n",
              "         [0.5200],\n",
              "         [0.5400],\n",
              "         [0.5600],\n",
              "         [0.5800],\n",
              "         [0.6000],\n",
              "         [0.6200],\n",
              "         [0.6400],\n",
              "         [0.6600],\n",
              "         [0.6800],\n",
              "         [0.7000],\n",
              "         [0.7200],\n",
              "         [0.7400],\n",
              "         [0.7600],\n",
              "         [0.7800]]),\n",
              " tensor([[0.2000],\n",
              "         [0.2160],\n",
              "         [0.2320],\n",
              "         [0.2480],\n",
              "         [0.2640],\n",
              "         [0.2800],\n",
              "         [0.2960],\n",
              "         [0.3120],\n",
              "         [0.3280],\n",
              "         [0.3440],\n",
              "         [0.3600],\n",
              "         [0.3760],\n",
              "         [0.3920],\n",
              "         [0.4080],\n",
              "         [0.4240],\n",
              "         [0.4400],\n",
              "         [0.4560],\n",
              "         [0.4720],\n",
              "         [0.4880],\n",
              "         [0.5040],\n",
              "         [0.5200],\n",
              "         [0.5360],\n",
              "         [0.5520],\n",
              "         [0.5680],\n",
              "         [0.5840],\n",
              "         [0.6000],\n",
              "         [0.6160],\n",
              "         [0.6320],\n",
              "         [0.6480],\n",
              "         [0.6640],\n",
              "         [0.6800],\n",
              "         [0.6960],\n",
              "         [0.7120],\n",
              "         [0.7280],\n",
              "         [0.7440],\n",
              "         [0.7600],\n",
              "         [0.7760],\n",
              "         [0.7920],\n",
              "         [0.8080],\n",
              "         [0.8240]]))"
            ]
          },
          "metadata": {},
          "execution_count": 85
        }
      ]
    },
    {
      "cell_type": "markdown",
      "source": [
        "how to better visualize our data?\n",
        "-> data explorer's motto => VISUALIZEEEE"
      ],
      "metadata": {
        "id": "R1FBGfslXzdl"
      }
    },
    {
      "cell_type": "code",
      "source": [
        "def plot_prediction(train_data= X_train,\n",
        "                    train_labels = Y_train,\n",
        "                    test_data = X_test,\n",
        "                    test_labels = Y_test,\n",
        "                    predictions = None):\n",
        "\n",
        "  plt.figure(figsize = (10,7))\n",
        "\n",
        "  #plot training data in blue\n",
        "  plt.scatter(train_data, train_labels, c=\"b\", s=4, label = \"training data\")\n",
        "\n",
        "  #plot test data\n",
        "  plt.scatter(test_data, test_labels, c=\"r\", s=4, label = \"testing data\")\n",
        "\n",
        "  if predictions is not None:\n",
        "    plt.scatter(test_data, predictions, c = \"g\", label = \"predictions\")\n",
        "\n",
        "\n",
        "  #show the legend\n",
        "  plt.legend(prop = {\"size\":14})"
      ],
      "metadata": {
        "id": "gsuefs2dX8je"
      },
      "execution_count": 86,
      "outputs": []
    },
    {
      "cell_type": "code",
      "source": [
        "plot_prediction();"
      ],
      "metadata": {
        "colab": {
          "base_uri": "https://localhost:8080/",
          "height": 460
        },
        "id": "ejZxGZhQY8e5",
        "outputId": "0a99d86a-e567-4d59-a155-389e3037e03d"
      },
      "execution_count": 87,
      "outputs": [
        {
          "output_type": "display_data",
          "data": {
            "text/plain": [
              "<Figure size 1000x700 with 1 Axes>"
            ],
            "image/png": "[encoded data removed]"
          },
          "metadata": {}
        }
      ]
    },
    {
      "cell_type": "code",
      "source": [],
      "metadata": {
        "id": "fv6-GiGlZTqD"
      },
      "execution_count": 87,
      "outputs": []
    },
    {
      "cell_type": "markdown",
      "source": [
        "### building a model\n",
        "\n",
        "what our model does:\n",
        "- start w random values\n",
        "- look @training data\n",
        "- adjast rv to get closer to ideal values (weight n bias values we used t create the data)\n",
        "\n",
        "how?\n",
        " - gradient decient\n",
        " - back probagation"
      ],
      "metadata": {
        "id": "hnUhflbsaV72"
      }
    },
    {
      "cell_type": "code",
      "source": [
        "#create linear regression model\n",
        "from torch import nn\n",
        "class LinearRegressionModel(nn.Module): #nn.module = almost everything's father in pytorch\n",
        "  def __init__(self):\n",
        "    super().__init__()\n",
        "    self.weights = nn.Parameter(torch.randn(1, # changed from randint to randn\n",
        "                                              requires_grad = True, #requires gradient\n",
        "                                              dtype = torch.float))\n",
        "    self.bias = nn.Parameter(torch.randn(1, # changed from randint to randn\n",
        "                                          requires_grad = True,\n",
        "                                          dtype = torch.float))\n",
        "  #forward method\n",
        "  def forward(self, x: torch.Tensor) -> torch.Tensor: #x=>inout data\n",
        "    return self.weights * x + self.bias\n",
        "\n",
        "      #should update this method to suit ur model"
      ],
      "metadata": {
        "id": "50mE2WcAaYEj"
      },
      "execution_count": 88,
      "outputs": []
    },
    {
      "cell_type": "markdown",
      "source": [
        "### pytorch model building essentials\n",
        "- torch.nn: all building blocks/computaional graphs(nn)\n",
        "- nn can be considered as computational graph\n",
        "- torch.nn.Parameter: parameters our model should learn\n",
        "- torch.nn.module: base class for all nn modules => if sub classed => u should overwrite the forward method\n",
        "- torch.optim => helps with gradient decent\n",
        "- def forward() -> all nn subs REQUIRE TO OVERWRITE THIS METH\n"
      ],
      "metadata": {
        "id": "57L_cuyAflL1"
      }
    },
    {
      "cell_type": "markdown",
      "source": [
        "### checking the content of our pytorch model\n",
        "- check parameters => using .Parameters"
      ],
      "metadata": {
        "id": "1MmvdDfAgOW2"
      }
    },
    {
      "cell_type": "code",
      "source": [
        "# create a random seed\n",
        "torch.manual_seed(42)\n",
        "\n",
        "#create an instance of the model\n",
        "model_0 = LinearRegressionModel()\n",
        "\n",
        "# check parameter\n",
        "list(model_0.parameters())"
      ],
      "metadata": {
        "colab": {
          "base_uri": "https://localhost:8080/"
        },
        "id": "I2Cc_PN80udz",
        "outputId": "a41dbac8-1e77-4c7d-b450-5bc0cbc1c074"
      },
      "execution_count": 89,
      "outputs": [
        {
          "output_type": "execute_result",
          "data": {
            "text/plain": [
              "[Parameter containing:\n",
              " tensor([0.3367], requires_grad=True),\n",
              " Parameter containing:\n",
              " tensor([0.1288], requires_grad=True)]"
            ]
          },
          "metadata": {},
          "execution_count": 89
        }
      ]
    },
    {
      "cell_type": "code",
      "source": [
        "#list named parameters\n",
        "model_0.state_dict()\n",
        "#dictionary of the parameters names"
      ],
      "metadata": {
        "colab": {
          "base_uri": "https://localhost:8080/"
        },
        "id": "pHPXrD8j2Fl7",
        "outputId": "0b17bb71-c2d3-43ab-dbbd-95421c2e280f"
      },
      "execution_count": 90,
      "outputs": [
        {
          "output_type": "execute_result",
          "data": {
            "text/plain": [
              "OrderedDict([('weights', tensor([0.3367])), ('bias', tensor([0.1288]))])"
            ]
          },
          "metadata": {},
          "execution_count": 90
        }
      ]
    },
    {
      "cell_type": "code",
      "source": [
        "weight, bias"
      ],
      "metadata": {
        "colab": {
          "base_uri": "https://localhost:8080/"
        },
        "id": "oyEXBbsx0_lH",
        "outputId": "d02bc83e-926a-42ba-d62c-9ad975331a47"
      },
      "execution_count": 91,
      "outputs": [
        {
          "output_type": "execute_result",
          "data": {
            "text/plain": [
              "(0.8, 0.2)"
            ]
          },
          "metadata": {},
          "execution_count": 91
        }
      ]
    },
    {
      "cell_type": "markdown",
      "source": [
        "### making predictions using torch.inference_mode\n",
        "\n",
        "- to check out model's productive power, let's see how well it predicts y for each x\n",
        "- passing data to model => run it throught forward function\n",
        "\n"
      ],
      "metadata": {
        "id": "Bnv7u1Zx2Xua"
      }
    },
    {
      "cell_type": "code",
      "source": [
        "#make oredictions\n",
        "\n",
        "with torch.inference_mode():\n",
        "  y_preds = model_0(X_test)\n",
        "\n",
        "y_preds\n",
        "# doesn't keep track of gradient values or any values really to improve our model, it just makes predictions which make it a lot faster\n",
        "#we can do the same using torch.no_grad(), but inference model is preferred"
      ],
      "metadata": {
        "colab": {
          "base_uri": "https://localhost:8080/"
        },
        "id": "6VFYEkIv3OMD",
        "outputId": "f8e30a97-d21a-4de3-8b94-b5447418fc94"
      },
      "execution_count": 92,
      "outputs": [
        {
          "output_type": "execute_result",
          "data": {
            "text/plain": [
              "tensor([[0.3982],\n",
              "        [0.4049],\n",
              "        [0.4116],\n",
              "        [0.4184],\n",
              "        [0.4251],\n",
              "        [0.4318],\n",
              "        [0.4386],\n",
              "        [0.4453],\n",
              "        [0.4520],\n",
              "        [0.4588]])"
            ]
          },
          "metadata": {},
          "execution_count": 92
        }
      ]
    },
    {
      "cell_type": "code",
      "source": [
        "plot_prediction(predictions = y_preds)"
      ],
      "metadata": {
        "colab": {
          "base_uri": "https://localhost:8080/",
          "height": 460
        },
        "id": "kMTKfvPu5FXc",
        "outputId": "4f4c1a0b-dc44-41a2-a7e2-0a178acf6f55"
      },
      "execution_count": 93,
      "outputs": [
        {
          "output_type": "display_data",
          "data": {
            "text/plain": [
              "<Figure size 1000x700 with 1 Axes>"
            ],
            "image/png": "[encoded data removed]"
          },
          "metadata": {}
        }
      ]
    },
    {
      "cell_type": "markdown",
      "source": [
        "## 3. train model\n",
        "- training: model move from some unknown parameters(random) to known ones\n",
        "                        from poor representation of data to better one\n",
        "\n",
        "- one way to measure how poor ur representation is => using loss function\n",
        "- cost function: loss function / criterion\n",
        "\n",
        "things we need to try:\n",
        "\n",
        "**loss function:** function to measure how wrong ur model predictions to the real data**optemizer:** takes into account loss functions & adjuct model's parameters to improve the loss function\n",
        "\n",
        "specifically in pytorch we might need:\n",
        "- trainning loop\n",
        "- testing loop\n",
        "\n",
        "\n",
        "\n",
        "loss functions\n",
        "  - L1loss=> Mean absolute error\n",
        "  - MSEloss => L2\n",
        "  - cross entropy loss\n"
      ],
      "metadata": {
        "id": "htbPzE8m5LTa"
      }
    },
    {
      "cell_type": "code",
      "source": [
        "model_0.parameters()"
      ],
      "metadata": {
        "id": "7UfkcA7Q_YA7",
        "colab": {
          "base_uri": "https://localhost:8080/"
        },
        "outputId": "b35780c8-31c7-49c7-de06-60e65c05e32b"
      },
      "execution_count": 94,
      "outputs": [
        {
          "output_type": "execute_result",
          "data": {
            "text/plain": [
              "<generator object Module.parameters at 0x7deed1d10ba0>"
            ]
          },
          "metadata": {},
          "execution_count": 94
        }
      ]
    },
    {
      "cell_type": "code",
      "source": [
        "model_0.state_dict()"
      ],
      "metadata": {
        "colab": {
          "base_uri": "https://localhost:8080/"
        },
        "id": "_OFstZR2_X5y",
        "outputId": "7540b45e-5b1a-460c-ec43-117ff9f6f567"
      },
      "execution_count": 95,
      "outputs": [
        {
          "output_type": "execute_result",
          "data": {
            "text/plain": [
              "OrderedDict([('weights', tensor([0.3367])), ('bias', tensor([0.1288]))])"
            ]
          },
          "metadata": {},
          "execution_count": 95
        }
      ]
    },
    {
      "cell_type": "code",
      "source": [
        "#set up a loss function\n",
        "loss_fn = nn.L1Loss()\n",
        "\n",
        "#setup optimizer\n",
        "optimizer = torch.optim.SGD(params = model_0.parameters(),\n",
        "                            lr = 0.01, #learning rate\n",
        "\n",
        "                            )"
      ],
      "metadata": {
        "id": "Epw733JWBXo5"
      },
      "execution_count": 96,
      "outputs": []
    },
    {
      "cell_type": "code",
      "source": [
        "loss_fn"
      ],
      "metadata": {
        "colab": {
          "base_uri": "https://localhost:8080/"
        },
        "id": "ZPQr3P92DXZ_",
        "outputId": "bd900f44-33f4-4477-fbf2-54689d01880a"
      },
      "execution_count": 97,
      "outputs": [
        {
          "output_type": "execute_result",
          "data": {
            "text/plain": [
              "L1Loss()"
            ]
          },
          "metadata": {},
          "execution_count": 97
        }
      ]
    },
    {
      "cell_type": "markdown",
      "source": [
        "### building a trainingn loop (and testing) in pytorch\n",
        "\n",
        "0. loop through data\n",
        "1. forward pass(propagation) (data moving through model's `forward()` function) to make predictions on data\n",
        "2. calculate the loss (compare forward pass prediiction to grounf truth labels)\n",
        "3. optimizer zero grad\n",
        "4. loss backward(back probagation) - move backwards through the network to calculate the gradients of each of parameters of model w respect to the loss\n",
        "5. optimizer step: use optim to adjust our model's parameter to try improve the loss (gradient descent)"
      ],
      "metadata": {
        "id": "MyYmeo1TDZB3"
      }
    },
    {
      "cell_type": "code",
      "source": [
        "torch.manual_seed(55)\n",
        "# an epoch is one loop through the data\n",
        "epochs = 1000 #hyper parameter cuz we set it ourselves\n",
        "\n",
        "# track different values\n",
        "epoch_count = []\n",
        "loss_values = []\n",
        "test_loss_values = []\n",
        "\n",
        "# 0. loop throught the data\n",
        "for epoch in range(epochs):\n",
        "  # set model to train mode\n",
        "  model_0.train() #train mode sets all parameters that require gradient to => require gradient\n",
        "\n",
        "  #1. forward pass\n",
        "  Y_pred = model_0(X_train)\n",
        "\n",
        "  #2. calculate the loss\n",
        "  loss = loss_fn(Y_pred, Y_train)\n",
        "  #3. optim zero grad\n",
        "  optimizer.zero_grad()\n",
        "\n",
        "  #4. perform back probagation on the loss\n",
        "  loss.backward()\n",
        "\n",
        "  #5. step the optimizer\n",
        "  optimizer.step()\n",
        "\n",
        "# testing code\n",
        "  model_0.eval() #turns off gradient decent\n",
        "  with torch.inference_mode(): #turns off gradient tracking &couple more things\n",
        "    # 1. forward pass\n",
        "    test_pred = model_0(X_test)\n",
        "\n",
        "    #2. calc the loss\n",
        "    test_loss = loss_fn(test_pred, Y_test)\n",
        "  if epoch%10 == 0:\n",
        "    epoch_count.append(epoch)\n",
        "    loss_values.append(loss.detach().numpy()) # Append scalar loss value\n",
        "    test_loss_values.append(test_loss.detach().numpy()) # Append scalar test loss value\n",
        "    print(f\"epoch: {epoch} | loss: {loss} | loss: {test_loss}\")\n",
        "    print(model_0.state_dict())"
      ],
      "metadata": {
        "colab": {
          "base_uri": "https://localhost:8080/"
        },
        "collapsed": true,
        "id": "OMY4pHW_VhOt",
        "outputId": "bb3152f2-69db-4adf-b930-d0bc794c2ec8"
      },
      "execution_count": 98,
      "outputs": [
        {
          "output_type": "stream",
          "name": "stdout",
          "text": [
            "epoch: 0 | loss: 0.25188133120536804 | loss: 0.470065176486969\n",
            "OrderedDict([('weights', tensor([0.3406])), ('bias', tensor([0.1388]))])\n",
            "epoch: 10 | loss: 0.14190271496772766 | loss: 0.33994418382644653\n",
            "OrderedDict([('weights', tensor([0.3795])), ('bias', tensor([0.2343]))])\n",
            "epoch: 20 | loss: 0.09042375534772873 | loss: 0.2502245604991913\n",
            "OrderedDict([('weights', tensor([0.4151])), ('bias', tensor([0.2923]))])\n",
            "epoch: 30 | loss: 0.07359591871500015 | loss: 0.19869937002658844\n",
            "OrderedDict([('weights', tensor([0.4438])), ('bias', tensor([0.3183]))])\n",
            "epoch: 40 | loss: 0.06710202991962433 | loss: 0.1696048378944397\n",
            "OrderedDict([('weights', tensor([0.4670])), ('bias', tensor([0.3268]))])\n",
            "epoch: 50 | loss: 0.06304941326379776 | loss: 0.152482807636261\n",
            "OrderedDict([('weights', tensor([0.4868])), ('bias', tensor([0.3263]))])\n",
            "epoch: 60 | loss: 0.059559416025877 | loss: 0.14146271347999573\n",
            "OrderedDict([('weights', tensor([0.5048])), ('bias', tensor([0.3213]))])\n",
            "epoch: 70 | loss: 0.05606941506266594 | loss: 0.13044264912605286\n",
            "OrderedDict([('weights', tensor([0.5228])), ('bias', tensor([0.3163]))])\n",
            "epoch: 80 | loss: 0.05263061448931694 | loss: 0.1221701130270958\n",
            "OrderedDict([('weights', tensor([0.5399])), ('bias', tensor([0.3093]))])\n",
            "epoch: 90 | loss: 0.04919297620654106 | loss: 0.11458444595336914\n",
            "OrderedDict([('weights', tensor([0.5569])), ('bias', tensor([0.3018]))])\n",
            "epoch: 100 | loss: 0.04576453939080238 | loss: 0.10631190240383148\n",
            "OrderedDict([('weights', tensor([0.5740])), ('bias', tensor([0.2948]))])\n",
            "epoch: 110 | loss: 0.042326997965574265 | loss: 0.09803937375545502\n",
            "OrderedDict([('weights', tensor([0.5912])), ('bias', tensor([0.2878]))])\n",
            "epoch: 120 | loss: 0.03889104351401329 | loss: 0.09045370668172836\n",
            "OrderedDict([('weights', tensor([0.6081])), ('bias', tensor([0.2803]))])\n",
            "epoch: 130 | loss: 0.03546217828989029 | loss: 0.0821811705827713\n",
            "OrderedDict([('weights', tensor([0.6253])), ('bias', tensor([0.2733]))])\n",
            "epoch: 140 | loss: 0.03202337771654129 | loss: 0.07390861958265305\n",
            "OrderedDict([('weights', tensor([0.6425])), ('bias', tensor([0.2663]))])\n",
            "epoch: 150 | loss: 0.02858910895884037 | loss: 0.06632295995950699\n",
            "OrderedDict([('weights', tensor([0.6594])), ('bias', tensor([0.2588]))])\n",
            "epoch: 160 | loss: 0.025158559903502464 | loss: 0.058050431311130524\n",
            "OrderedDict([('weights', tensor([0.6766])), ('bias', tensor([0.2518]))])\n",
            "epoch: 170 | loss: 0.021719757467508316 | loss: 0.04977790638804436\n",
            "OrderedDict([('weights', tensor([0.6937])), ('bias', tensor([0.2448]))])\n",
            "epoch: 180 | loss: 0.018287168815732002 | loss: 0.04219233989715576\n",
            "OrderedDict([('weights', tensor([0.7107])), ('bias', tensor([0.2373]))])\n",
            "epoch: 190 | loss: 0.014854934997856617 | loss: 0.03391985222697258\n",
            "OrderedDict([('weights', tensor([0.7278])), ('bias', tensor([0.2303]))])\n",
            "epoch: 200 | loss: 0.011416126973927021 | loss: 0.025647372007369995\n",
            "OrderedDict([('weights', tensor([0.7450])), ('bias', tensor([0.2233]))])\n",
            "epoch: 210 | loss: 0.00798521377146244 | loss: 0.018061798065900803\n",
            "OrderedDict([('weights', tensor([0.7619])), ('bias', tensor([0.2158]))])\n",
            "epoch: 220 | loss: 0.004551304038614035 | loss: 0.009789329953491688\n",
            "OrderedDict([('weights', tensor([0.7791])), ('bias', tensor([0.2088]))])\n",
            "epoch: 230 | loss: 0.001191918971017003 | loss: 0.005093771032989025\n",
            "OrderedDict([('weights', tensor([0.7951])), ('bias', tensor([0.1993]))])\n",
            "epoch: 240 | loss: 0.008901594206690788 | loss: 0.005093771032989025\n",
            "OrderedDict([('weights', tensor([0.7951])), ('bias', tensor([0.1993]))])\n",
            "epoch: 250 | loss: 0.008901594206690788 | loss: 0.005093771032989025\n",
            "OrderedDict([('weights', tensor([0.7951])), ('bias', tensor([0.1993]))])\n",
            "epoch: 260 | loss: 0.008901594206690788 | loss: 0.005093771032989025\n",
            "OrderedDict([('weights', tensor([0.7951])), ('bias', tensor([0.1993]))])\n",
            "epoch: 270 | loss: 0.008901594206690788 | loss: 0.005093771032989025\n",
            "OrderedDict([('weights', tensor([0.7951])), ('bias', tensor([0.1993]))])\n",
            "epoch: 280 | loss: 0.008901594206690788 | loss: 0.005093771032989025\n",
            "OrderedDict([('weights', tensor([0.7951])), ('bias', tensor([0.1993]))])\n",
            "epoch: 290 | loss: 0.008901594206690788 | loss: 0.005093771032989025\n",
            "OrderedDict([('weights', tensor([0.7951])), ('bias', tensor([0.1993]))])\n",
            "epoch: 300 | loss: 0.008901594206690788 | loss: 0.005093771032989025\n",
            "OrderedDict([('weights', tensor([0.7951])), ('bias', tensor([0.1993]))])\n",
            "epoch: 310 | loss: 0.008901594206690788 | loss: 0.005093771032989025\n",
            "OrderedDict([('weights', tensor([0.7951])), ('bias', tensor([0.1993]))])\n",
            "epoch: 320 | loss: 0.008901594206690788 | loss: 0.005093771032989025\n",
            "OrderedDict([('weights', tensor([0.7951])), ('bias', tensor([0.1993]))])\n",
            "epoch: 330 | loss: 0.008901594206690788 | loss: 0.005093771032989025\n",
            "OrderedDict([('weights', tensor([0.7951])), ('bias', tensor([0.1993]))])\n",
            "epoch: 340 | loss: 0.008901594206690788 | loss: 0.005093771032989025\n",
            "OrderedDict([('weights', tensor([0.7951])), ('bias', tensor([0.1993]))])\n",
            "epoch: 350 | loss: 0.008901594206690788 | loss: 0.005093771032989025\n",
            "OrderedDict([('weights', tensor([0.7951])), ('bias', tensor([0.1993]))])\n",
            "epoch: 360 | loss: 0.008901594206690788 | loss: 0.005093771032989025\n",
            "OrderedDict([('weights', tensor([0.7951])), ('bias', tensor([0.1993]))])\n",
            "epoch: 370 | loss: 0.008901594206690788 | loss: 0.005093771032989025\n",
            "OrderedDict([('weights', tensor([0.7951])), ('bias', tensor([0.1993]))])\n",
            "epoch: 380 | loss: 0.008901594206690788 | loss: 0.005093771032989025\n",
            "OrderedDict([('weights', tensor([0.7951])), ('bias', tensor([0.1993]))])\n",
            "epoch: 390 | loss: 0.008901594206690788 | loss: 0.005093771032989025\n",
            "OrderedDict([('weights', tensor([0.7951])), ('bias', tensor([0.1993]))])\n",
            "epoch: 400 | loss: 0.008901594206690788 | loss: 0.005093771032989025\n",
            "OrderedDict([('weights', tensor([0.7951])), ('bias', tensor([0.1993]))])\n",
            "epoch: 410 | loss: 0.008901594206690788 | loss: 0.005093771032989025\n",
            "OrderedDict([('weights', tensor([0.7951])), ('bias', tensor([0.1993]))])\n",
            "epoch: 420 | loss: 0.008901594206690788 | loss: 0.005093771032989025\n",
            "OrderedDict([('weights', tensor([0.7951])), ('bias', tensor([0.1993]))])\n",
            "epoch: 430 | loss: 0.008901594206690788 | loss: 0.005093771032989025\n",
            "OrderedDict([('weights', tensor([0.7951])), ('bias', tensor([0.1993]))])\n",
            "epoch: 440 | loss: 0.008901594206690788 | loss: 0.005093771032989025\n",
            "OrderedDict([('weights', tensor([0.7951])), ('bias', tensor([0.1993]))])\n",
            "epoch: 450 | loss: 0.008901594206690788 | loss: 0.005093771032989025\n",
            "OrderedDict([('weights', tensor([0.7951])), ('bias', tensor([0.1993]))])\n",
            "epoch: 460 | loss: 0.008901594206690788 | loss: 0.005093771032989025\n",
            "OrderedDict([('weights', tensor([0.7951])), ('bias', tensor([0.1993]))])\n",
            "epoch: 470 | loss: 0.008901594206690788 | loss: 0.005093771032989025\n",
            "OrderedDict([('weights', tensor([0.7951])), ('bias', tensor([0.1993]))])\n",
            "epoch: 480 | loss: 0.008901594206690788 | loss: 0.005093771032989025\n",
            "OrderedDict([('weights', tensor([0.7951])), ('bias', tensor([0.1993]))])\n",
            "epoch: 490 | loss: 0.008901594206690788 | loss: 0.005093771032989025\n",
            "OrderedDict([('weights', tensor([0.7951])), ('bias', tensor([0.1993]))])\n",
            "epoch: 500 | loss: 0.008901594206690788 | loss: 0.005093771032989025\n",
            "OrderedDict([('weights', tensor([0.7951])), ('bias', tensor([0.1993]))])\n",
            "epoch: 510 | loss: 0.008901594206690788 | loss: 0.005093771032989025\n",
            "OrderedDict([('weights', tensor([0.7951])), ('bias', tensor([0.1993]))])\n",
            "epoch: 520 | loss: 0.008901594206690788 | loss: 0.005093771032989025\n",
            "OrderedDict([('weights', tensor([0.7951])), ('bias', tensor([0.1993]))])\n",
            "epoch: 530 | loss: 0.008901594206690788 | loss: 0.005093771032989025\n",
            "OrderedDict([('weights', tensor([0.7951])), ('bias', tensor([0.1993]))])\n",
            "epoch: 540 | loss: 0.008901594206690788 | loss: 0.005093771032989025\n",
            "OrderedDict([('weights', tensor([0.7951])), ('bias', tensor([0.1993]))])\n",
            "epoch: 550 | loss: 0.008901594206690788 | loss: 0.005093771032989025\n",
            "OrderedDict([('weights', tensor([0.7951])), ('bias', tensor([0.1993]))])\n",
            "epoch: 560 | loss: 0.008901594206690788 | loss: 0.005093771032989025\n",
            "OrderedDict([('weights', tensor([0.7951])), ('bias', tensor([0.1993]))])\n",
            "epoch: 570 | loss: 0.008901594206690788 | loss: 0.005093771032989025\n",
            "OrderedDict([('weights', tensor([0.7951])), ('bias', tensor([0.1993]))])\n",
            "epoch: 580 | loss: 0.008901594206690788 | loss: 0.005093771032989025\n",
            "OrderedDict([('weights', tensor([0.7951])), ('bias', tensor([0.1993]))])\n",
            "epoch: 590 | loss: 0.008901594206690788 | loss: 0.005093771032989025\n",
            "OrderedDict([('weights', tensor([0.7951])), ('bias', tensor([0.1993]))])\n",
            "epoch: 600 | loss: 0.008901594206690788 | loss: 0.005093771032989025\n",
            "OrderedDict([('weights', tensor([0.7951])), ('bias', tensor([0.1993]))])\n",
            "epoch: 610 | loss: 0.008901594206690788 | loss: 0.005093771032989025\n",
            "OrderedDict([('weights', tensor([0.7951])), ('bias', tensor([0.1993]))])\n",
            "epoch: 620 | loss: 0.008901594206690788 | loss: 0.005093771032989025\n",
            "OrderedDict([('weights', tensor([0.7951])), ('bias', tensor([0.1993]))])\n",
            "epoch: 630 | loss: 0.008901594206690788 | loss: 0.005093771032989025\n",
            "OrderedDict([('weights', tensor([0.7951])), ('bias', tensor([0.1993]))])\n",
            "epoch: 640 | loss: 0.008901594206690788 | loss: 0.005093771032989025\n",
            "OrderedDict([('weights', tensor([0.7951])), ('bias', tensor([0.1993]))])\n",
            "epoch: 650 | loss: 0.008901594206690788 | loss: 0.005093771032989025\n",
            "OrderedDict([('weights', tensor([0.7951])), ('bias', tensor([0.1993]))])\n",
            "epoch: 660 | loss: 0.008901594206690788 | loss: 0.005093771032989025\n",
            "OrderedDict([('weights', tensor([0.7951])), ('bias', tensor([0.1993]))])\n",
            "epoch: 670 | loss: 0.008901594206690788 | loss: 0.005093771032989025\n",
            "OrderedDict([('weights', tensor([0.7951])), ('bias', tensor([0.1993]))])\n",
            "epoch: 680 | loss: 0.008901594206690788 | loss: 0.005093771032989025\n",
            "OrderedDict([('weights', tensor([0.7951])), ('bias', tensor([0.1993]))])\n",
            "epoch: 690 | loss: 0.008901594206690788 | loss: 0.005093771032989025\n",
            "OrderedDict([('weights', tensor([0.7951])), ('bias', tensor([0.1993]))])\n",
            "epoch: 700 | loss: 0.008901594206690788 | loss: 0.005093771032989025\n",
            "OrderedDict([('weights', tensor([0.7951])), ('bias', tensor([0.1993]))])\n",
            "epoch: 710 | loss: 0.008901594206690788 | loss: 0.005093771032989025\n",
            "OrderedDict([('weights', tensor([0.7951])), ('bias', tensor([0.1993]))])\n",
            "epoch: 720 | loss: 0.008901594206690788 | loss: 0.005093771032989025\n",
            "OrderedDict([('weights', tensor([0.7951])), ('bias', tensor([0.1993]))])\n",
            "epoch: 730 | loss: 0.008901594206690788 | loss: 0.005093771032989025\n",
            "OrderedDict([('weights', tensor([0.7951])), ('bias', tensor([0.1993]))])\n",
            "epoch: 740 | loss: 0.008901594206690788 | loss: 0.005093771032989025\n",
            "OrderedDict([('weights', tensor([0.7951])), ('bias', tensor([0.1993]))])\n",
            "epoch: 750 | loss: 0.008901594206690788 | loss: 0.005093771032989025\n",
            "OrderedDict([('weights', tensor([0.7951])), ('bias', tensor([0.1993]))])\n",
            "epoch: 760 | loss: 0.008901594206690788 | loss: 0.005093771032989025\n",
            "OrderedDict([('weights', tensor([0.7951])), ('bias', tensor([0.1993]))])\n",
            "epoch: 770 | loss: 0.008901594206690788 | loss: 0.005093771032989025\n",
            "OrderedDict([('weights', tensor([0.7951])), ('bias', tensor([0.1993]))])\n",
            "epoch: 780 | loss: 0.008901594206690788 | loss: 0.005093771032989025\n",
            "OrderedDict([('weights', tensor([0.7951])), ('bias', tensor([0.1993]))])\n",
            "epoch: 790 | loss: 0.008901594206690788 | loss: 0.005093771032989025\n",
            "OrderedDict([('weights', tensor([0.7951])), ('bias', tensor([0.1993]))])\n",
            "epoch: 800 | loss: 0.008901594206690788 | loss: 0.005093771032989025\n",
            "OrderedDict([('weights', tensor([0.7951])), ('bias', tensor([0.1993]))])\n",
            "epoch: 810 | loss: 0.008901594206690788 | loss: 0.005093771032989025\n",
            "OrderedDict([('weights', tensor([0.7951])), ('bias', tensor([0.1993]))])\n",
            "epoch: 820 | loss: 0.008901594206690788 | loss: 0.005093771032989025\n",
            "OrderedDict([('weights', tensor([0.7951])), ('bias', tensor([0.1993]))])\n",
            "epoch: 830 | loss: 0.008901594206690788 | loss: 0.005093771032989025\n",
            "OrderedDict([('weights', tensor([0.7951])), ('bias', tensor([0.1993]))])\n",
            "epoch: 840 | loss: 0.008901594206690788 | loss: 0.005093771032989025\n",
            "OrderedDict([('weights', tensor([0.7951])), ('bias', tensor([0.1993]))])\n",
            "epoch: 850 | loss: 0.008901594206690788 | loss: 0.005093771032989025\n",
            "OrderedDict([('weights', tensor([0.7951])), ('bias', tensor([0.1993]))])\n",
            "epoch: 860 | loss: 0.008901594206690788 | loss: 0.005093771032989025\n",
            "OrderedDict([('weights', tensor([0.7951])), ('bias', tensor([0.1993]))])\n",
            "epoch: 870 | loss: 0.008901594206690788 | loss: 0.005093771032989025\n",
            "OrderedDict([('weights', tensor([0.7951])), ('bias', tensor([0.1993]))])\n",
            "epoch: 880 | loss: 0.008901594206690788 | loss: 0.005093771032989025\n",
            "OrderedDict([('weights', tensor([0.7951])), ('bias', tensor([0.1993]))])\n",
            "epoch: 890 | loss: 0.008901594206690788 | loss: 0.005093771032989025\n",
            "OrderedDict([('weights', tensor([0.7951])), ('bias', tensor([0.1993]))])\n",
            "epoch: 900 | loss: 0.008901594206690788 | loss: 0.005093771032989025\n",
            "OrderedDict([('weights', tensor([0.7951])), ('bias', tensor([0.1993]))])\n",
            "epoch: 910 | loss: 0.008901594206690788 | loss: 0.005093771032989025\n",
            "OrderedDict([('weights', tensor([0.7951])), ('bias', tensor([0.1993]))])\n",
            "epoch: 920 | loss: 0.008901594206690788 | loss: 0.005093771032989025\n",
            "OrderedDict([('weights', tensor([0.7951])), ('bias', tensor([0.1993]))])\n",
            "epoch: 930 | loss: 0.008901594206690788 | loss: 0.005093771032989025\n",
            "OrderedDict([('weights', tensor([0.7951])), ('bias', tensor([0.1993]))])\n",
            "epoch: 940 | loss: 0.008901594206690788 | loss: 0.005093771032989025\n",
            "OrderedDict([('weights', tensor([0.7951])), ('bias', tensor([0.1993]))])\n",
            "epoch: 950 | loss: 0.008901594206690788 | loss: 0.005093771032989025\n",
            "OrderedDict([('weights', tensor([0.7951])), ('bias', tensor([0.1993]))])\n",
            "epoch: 960 | loss: 0.008901594206690788 | loss: 0.005093771032989025\n",
            "OrderedDict([('weights', tensor([0.7951])), ('bias', tensor([0.1993]))])\n",
            "epoch: 970 | loss: 0.008901594206690788 | loss: 0.005093771032989025\n",
            "OrderedDict([('weights', tensor([0.7951])), ('bias', tensor([0.1993]))])\n",
            "epoch: 980 | loss: 0.008901594206690788 | loss: 0.005093771032989025\n",
            "OrderedDict([('weights', tensor([0.7951])), ('bias', tensor([0.1993]))])\n",
            "epoch: 990 | loss: 0.008901594206690788 | loss: 0.005093771032989025\n",
            "OrderedDict([('weights', tensor([0.7951])), ('bias', tensor([0.1993]))])\n"
          ]
        }
      ]
    },
    {
      "cell_type": "code",
      "source": [
        "model_0.state_dict()"
      ],
      "metadata": {
        "colab": {
          "base_uri": "https://localhost:8080/"
        },
        "id": "9kBnSWb3WBkZ",
        "outputId": "ff482496-45cb-4bf2-cca8-19e539048103"
      },
      "execution_count": 99,
      "outputs": [
        {
          "output_type": "execute_result",
          "data": {
            "text/plain": [
              "OrderedDict([('weights', tensor([0.7990])), ('bias', tensor([0.2093]))])"
            ]
          },
          "metadata": {},
          "execution_count": 99
        }
      ]
    },
    {
      "cell_type": "code",
      "source": [
        "with torch.inference_mode():\n",
        "  Y_preds_new = model_0(X_test)"
      ],
      "metadata": {
        "id": "6bNp0NpDsFbz"
      },
      "execution_count": 100,
      "outputs": []
    },
    {
      "cell_type": "code",
      "source": [
        "plot_prediction(predictions = Y_preds_new);"
      ],
      "metadata": {
        "colab": {
          "base_uri": "https://localhost:8080/",
          "height": 460
        },
        "id": "4hNL3JZ_uDEA",
        "outputId": "45e94c8c-3d21-416c-ffea-66fe26a45b38"
      },
      "execution_count": 101,
      "outputs": [
        {
          "output_type": "display_data",
          "data": {
            "text/plain": [
              "<Figure size 1000x700 with 1 Axes>"
            ],
            "image/png": "[encoded data removed]"
          },
          "metadata": {}
        }
      ]
    },
    {
      "cell_type": "markdown",
      "source": [],
      "metadata": {
        "id": "siRzkuSbwdWq"
      }
    },
    {
      "cell_type": "code",
      "source": [
        "import numpy as np\n",
        "import matplotlib.pyplot as plt\n",
        "\n",
        "plt.plot(epoch_count, np.array(loss_values), label = \"train loss\")\n",
        "plt.plot(epoch_count, np.array(test_loss_values), label = \"test loss\")\n",
        "plt.ylabel(\"loss\")\n",
        "plt.xlabel(\"epochs\")\n",
        "plt.legend();"
      ],
      "metadata": {
        "colab": {
          "base_uri": "https://localhost:8080/",
          "height": 449
        },
        "id": "qQd6nTsxuJl1",
        "outputId": "a36c8957-f71a-4225-a814-0e9602008071"
      },
      "execution_count": 102,
      "outputs": [
        {
          "output_type": "display_data",
          "data": {
            "text/plain": [
              "<Figure size 640x480 with 1 Axes>"
            ],
            "image/png": "[encoded data removed]"
          },
          "metadata": {}
        }
      ]
    },
    {
      "cell_type": "markdown",
      "source": [
        "### saving a model in pytorch\n",
        "\n",
        "\n",
        "1. `torch.save()`: allows u to save pytorch obj in python's pickle format\n",
        "2. `torch.load()`: load saved pytorch obj\n",
        "3. `torch.nn.load_state_dict()`: saved state dictionary\n"
      ],
      "metadata": {
        "id": "7KW5Vb3WAH54"
      }
    },
    {
      "cell_type": "code",
      "source": [
        "model_0.state_dict()"
      ],
      "metadata": {
        "colab": {
          "base_uri": "https://localhost:8080/"
        },
        "id": "ds6pRNPcCtZD",
        "outputId": "715cbbc2-73cf-4bcf-8748-c4e1da219c69"
      },
      "execution_count": 103,
      "outputs": [
        {
          "output_type": "execute_result",
          "data": {
            "text/plain": [
              "OrderedDict([('weights', tensor([0.7990])), ('bias', tensor([0.2093]))])"
            ]
          },
          "metadata": {},
          "execution_count": 103
        }
      ]
    },
    {
      "cell_type": "code",
      "source": [
        "from pathlib import Path\n",
        "# 1. create model dir\n",
        "MODEL_PATH = Path(\"models\")\n",
        "MODEL_PATH.mkdir(parents = True, exist_ok=True)\n",
        "\n",
        "#2. create model save path(name)\n",
        "MODEL_NAME = \"ava_V0.pth\"\n",
        "MODEL_SAVE_PATH = MODEL_PATH / MODEL_NAME\n",
        "MODEL_SAVE_PATH\n",
        "\n",
        "#3. save the model state\n",
        "torch.save(obj= model_0.state_dict(),\n",
        "           f = MODEL_SAVE_PATH)\n"
      ],
      "metadata": {
        "id": "LC4W5TGZDVum"
      },
      "execution_count": 104,
      "outputs": []
    },
    {
      "cell_type": "code",
      "source": [
        "!ls -l models"
      ],
      "metadata": {
        "colab": {
          "base_uri": "https://localhost:8080/"
        },
        "id": "aXeAV5g8EwTC",
        "outputId": "965814d9-d420-4bb8-ac9f-6fd6813b6088"
      },
      "execution_count": 105,
      "outputs": [
        {
          "output_type": "stream",
          "name": "stdout",
          "text": [
            "total 4\n",
            "-rw-r--r-- 1 root root 1490 Jul  8 21:26 ava_V0.pth\n"
          ]
        }
      ]
    },
    {
      "cell_type": "code",
      "source": [
        "## loading pytorch model\n",
        "model_0.state_dict()"
      ],
      "metadata": {
        "colab": {
          "base_uri": "https://localhost:8080/"
        },
        "id": "rZ414rjcFr4C",
        "outputId": "5a6c1c21-6c72-44ea-a6ed-e37738d7835c"
      },
      "execution_count": 106,
      "outputs": [
        {
          "output_type": "execute_result",
          "data": {
            "text/plain": [
              "OrderedDict([('weights', tensor([0.7990])), ('bias', tensor([0.2093]))])"
            ]
          },
          "metadata": {},
          "execution_count": 106
        }
      ]
    },
    {
      "cell_type": "code",
      "source": [
        "#to load it, we gotta instanciate new instance of our model class\n",
        "loaded_ava0 = LinearRegressionModel()\n",
        "\n",
        "loaded_ava0.load_state_dict(torch.load(f= MODEL_SAVE_PATH))"
      ],
      "metadata": {
        "colab": {
          "base_uri": "https://localhost:8080/"
        },
        "id": "hLyU1tFaGYDs",
        "outputId": "faffc0e5-c7ee-4b2b-f92e-23671b6e07d3"
      },
      "execution_count": 107,
      "outputs": [
        {
          "output_type": "execute_result",
          "data": {
            "text/plain": [
              "<All keys matched successfully>"
            ]
          },
          "metadata": {},
          "execution_count": 107
        }
      ]
    },
    {
      "cell_type": "code",
      "source": [
        "loaded_ava0.state_dict()"
      ],
      "metadata": {
        "colab": {
          "base_uri": "https://localhost:8080/"
        },
        "id": "KsPdR2itHADn",
        "outputId": "3cb048cd-5c11-427e-abad-d74bfc4ca05b"
      },
      "execution_count": 108,
      "outputs": [
        {
          "output_type": "execute_result",
          "data": {
            "text/plain": [
              "OrderedDict([('weights', tensor([0.7990])), ('bias', tensor([0.2093]))])"
            ]
          },
          "metadata": {},
          "execution_count": 108
        }
      ]
    },
    {
      "cell_type": "code",
      "source": [
        "#make some predictions as test\n",
        "loaded_ava0.eval()\n",
        "with torch.inference_mode():\n",
        "  loaded_model_preds = loaded_ava0(X_test)\n",
        "\n",
        "loaded_model_preds"
      ],
      "metadata": {
        "colab": {
          "base_uri": "https://localhost:8080/"
        },
        "id": "XXP6QenDHFIN",
        "outputId": "dff8fa17-73b2-4d85-c11d-cd7e6e531242"
      },
      "execution_count": 109,
      "outputs": [
        {
          "output_type": "execute_result",
          "data": {
            "text/plain": [
              "tensor([[0.8485],\n",
              "        [0.8645],\n",
              "        [0.8804],\n",
              "        [0.8964],\n",
              "        [0.9124],\n",
              "        [0.9284],\n",
              "        [0.9443],\n",
              "        [0.9603],\n",
              "        [0.9763],\n",
              "        [0.9923]])"
            ]
          },
          "metadata": {},
          "execution_count": 109
        }
      ]
    },
    {
      "cell_type": "code",
      "source": [
        "# compare oreds\n",
        "y_preds == loaded_model_preds"
      ],
      "metadata": {
        "colab": {
          "base_uri": "https://localhost:8080/"
        },
        "id": "hF7BPwE1HXMj",
        "outputId": "3bf2eb3d-43ee-40bd-f25c-de4493182d33"
      },
      "execution_count": 110,
      "outputs": [
        {
          "output_type": "execute_result",
          "data": {
            "text/plain": [
              "tensor([[False],\n",
              "        [False],\n",
              "        [False],\n",
              "        [False],\n",
              "        [False],\n",
              "        [False],\n",
              "        [False],\n",
              "        [False],\n",
              "        [False],\n",
              "        [False]])"
            ]
          },
          "metadata": {},
          "execution_count": 110
        }
      ]
    },
    {
      "cell_type": "code",
      "source": [
        "model_0.eval()\n",
        "with torch.inference_mode():\n",
        "  y_preds = model_0(X_test)\n",
        "\n",
        "y_preds"
      ],
      "metadata": {
        "colab": {
          "base_uri": "https://localhost:8080/"
        },
        "id": "-jPWXJJ9HdMP",
        "outputId": "55132a89-efa8-4a42-8ea3-636defa087c7"
      },
      "execution_count": 111,
      "outputs": [
        {
          "output_type": "execute_result",
          "data": {
            "text/plain": [
              "tensor([[0.8485],\n",
              "        [0.8645],\n",
              "        [0.8804],\n",
              "        [0.8964],\n",
              "        [0.9124],\n",
              "        [0.9284],\n",
              "        [0.9443],\n",
              "        [0.9603],\n",
              "        [0.9763],\n",
              "        [0.9923]])"
            ]
          },
          "metadata": {},
          "execution_count": 111
        }
      ]
    },
    {
      "cell_type": "markdown",
      "source": [
        "# Phase 2"
      ],
      "metadata": {
        "id": "lhDD6Voe9G_d"
      }
    },
    {
      "cell_type": "markdown",
      "source": [
        "## getting it all together!\n",
        "\n",
        "- going back through the steps above!\n",
        "\n"
      ],
      "metadata": {
        "id": "5jxVU9yGHrLC"
      }
    },
    {
      "cell_type": "markdown",
      "source": [
        "### 6.1 data"
      ],
      "metadata": {
        "id": "9KzH-kvTHCcx"
      }
    },
    {
      "cell_type": "code",
      "source": [
        "import torch\n",
        "from torch import nn\n",
        "import matplotlib.pyplot as plt\n"
      ],
      "metadata": {
        "id": "W4wXQ5NDHFgO"
      },
      "execution_count": 112,
      "outputs": []
    },
    {
      "cell_type": "code",
      "source": [
        "#known parameters\n",
        "weight = 0.9\n",
        "bias = 0.1\n",
        "\n",
        "# data\n",
        "\n",
        "start = 0\n",
        "end = 1\n",
        "step = 0.03\n",
        "\n",
        "X = torch.arange(start, end, step).unsqueeze(dim=1)\n",
        "y = (weight * X + bias)"
      ],
      "metadata": {
        "id": "hdgnI7FwHTPY"
      },
      "execution_count": 113,
      "outputs": []
    },
    {
      "cell_type": "code",
      "source": [
        "#splitting data\n",
        "train_split = int(0.8 *len(X))\n",
        "X_train, y_train = X[:train_split], y[:train_split]\n",
        "X_test, y_test = X[train_split:], y[train_split:]\n"
      ],
      "metadata": {
        "id": "EfS0mZeNICnh"
      },
      "execution_count": 114,
      "outputs": []
    },
    {
      "cell_type": "code",
      "source": [
        "def plot_predictions( train_data = X_train,\n",
        "                      train_labels = y_train,\n",
        "                      test_data = X_test,\n",
        "                      test_labels = y_test,\n",
        "                      predictions = None):\n",
        "  plt.figure(figsize=(10,10))\n",
        "\n",
        "  plt.scatter(train_data, train_labels, c=\"b\", s=4, label =\"training data\")\n",
        "  plt.scatter(test_data, test_labels, c=\"r\", s=4, label = \"test data\")\n",
        "\n",
        "  if predictions is not None:\n",
        "    plt.scatter(test_data, predictions, c=\"g\", s=4, label = \"predictions\")\n",
        "\n",
        "  plt.legend(prop={\"size\": 14});"
      ],
      "metadata": {
        "id": "xziqopQTIsK6"
      },
      "execution_count": 115,
      "outputs": []
    },
    {
      "cell_type": "code",
      "source": [
        "plot_predictions()"
      ],
      "metadata": {
        "colab": {
          "base_uri": "https://localhost:8080/",
          "height": 0
        },
        "id": "6N4IwuGJk3QW",
        "outputId": "d2dbc1f9-d7b6-402d-e8b7-b0db87959ec9"
      },
      "execution_count": 116,
      "outputs": [
        {
          "output_type": "display_data",
          "data": {
            "text/plain": [
              "<Figure size 1000x1000 with 1 Axes>"
            ],
            "image/png": "[encoded data removed]"
          },
          "metadata": {}
        }
      ]
    },
    {
      "cell_type": "code",
      "source": [],
      "metadata": {
        "id": "ZH9YOs2uk6FV"
      },
      "execution_count": 116,
      "outputs": []
    },
    {
      "cell_type": "markdown",
      "source": [
        "### 6.2 build model"
      ],
      "metadata": {
        "id": "a-eA1Nz-lBzE"
      }
    },
    {
      "cell_type": "code",
      "source": [
        "class LinearRegressionModelV2(nn.Module):\n",
        "  def __init__(self):\n",
        "    super().__init__()\n",
        "    self.linear_layer = nn.Linear(in_features=1,\n",
        "                                  out_features=1)\n",
        "  def forward(self, x:torch.Tensor) -> torch.Tensor:\n",
        "      return self.linear_layer(x)\n",
        "\n",
        "  torch.manual_seed(44)\n",
        "model_1 = LinearRegressionModelV2()\n",
        "model_1, model_1.state_dict()"
      ],
      "metadata": {
        "colab": {
          "base_uri": "https://localhost:8080/"
        },
        "id": "XomidnE1rzpk",
        "outputId": "48006436-6d4f-4da8-c985-2e8947b8f6b9"
      },
      "execution_count": 117,
      "outputs": [
        {
          "output_type": "execute_result",
          "data": {
            "text/plain": [
              "(LinearRegressionModelV2(\n",
              "   (linear_layer): Linear(in_features=1, out_features=1, bias=True)\n",
              " ),\n",
              " OrderedDict([('linear_layer.weight', tensor([[0.4392]])),\n",
              "              ('linear_layer.bias', tensor([0.4614]))]))"
            ]
          },
          "metadata": {},
          "execution_count": 117
        }
      ]
    },
    {
      "cell_type": "code",
      "source": [
        "next(model_1.parameters()).device"
      ],
      "metadata": {
        "colab": {
          "base_uri": "https://localhost:8080/"
        },
        "id": "XUDC7OYewAXL",
        "outputId": "d412f502-ff8c-425d-8a27-054f87a75dda"
      },
      "execution_count": 118,
      "outputs": [
        {
          "output_type": "execute_result",
          "data": {
            "text/plain": [
              "device(type='cpu')"
            ]
          },
          "metadata": {},
          "execution_count": 118
        }
      ]
    },
    {
      "cell_type": "code",
      "source": [
        "device = \"cuda\" if torch.cuda.is_available() else \"cpu\"\n",
        "print(f\"using deviced: {device}\")"
      ],
      "metadata": {
        "colab": {
          "base_uri": "https://localhost:8080/"
        },
        "id": "pA9Js94DwzhA",
        "outputId": "85622610-4046-4af8-d362-4def537972f0"
      },
      "execution_count": 119,
      "outputs": [
        {
          "output_type": "stream",
          "name": "stdout",
          "text": [
            "using deviced: cpu\n"
          ]
        }
      ]
    },
    {
      "cell_type": "code",
      "source": [
        "model_1.to(device)\n",
        "next(model_1.parameters()).device"
      ],
      "metadata": {
        "colab": {
          "base_uri": "https://localhost:8080/"
        },
        "id": "PDCUY8Xnwk2B",
        "outputId": "e6a94539-dbf9-46a1-e234-c4ba2cfb2ca5"
      },
      "execution_count": 120,
      "outputs": [
        {
          "output_type": "execute_result",
          "data": {
            "text/plain": [
              "device(type='cpu')"
            ]
          },
          "metadata": {},
          "execution_count": 120
        }
      ]
    },
    {
      "cell_type": "markdown",
      "source": [
        "### 6.3 Training"
      ],
      "metadata": {
        "id": "kcJTdt8OwucH"
      }
    },
    {
      "cell_type": "code",
      "source": [
        "#to make training loop and testing loop => we'll need optimizer and loss function\n",
        "\n",
        "loss_fn1 = nn.L1Loss()\n",
        "optimizer1 = torch.optim.SGD(params=model_1.parameters(),\n",
        "                            lr = 0.01)\n"
      ],
      "metadata": {
        "id": "fGQ3-oC6xTF9"
      },
      "execution_count": 121,
      "outputs": []
    },
    {
      "cell_type": "code",
      "source": [
        "torch.manual_seed(44)\n",
        "\n",
        "epochs = 1000\n",
        "\n",
        "X_train = X_train.to(device)\n",
        "X_test = X_test.to(device)\n",
        "y_train = y_train.to(device)\n",
        "y_test = y_test.to(device)\n",
        "\n",
        "for epoch in range(epochs):\n",
        "\n",
        "  model_1.train()\n",
        "\n",
        "  y_pred = model_1(X_train)\n",
        "  loss = loss_fn1(y_pred, y_train)\n",
        "  optimizer1.zero_grad()\n",
        "  loss.backward()\n",
        "  optimizer.step()\n",
        "  model_1.eval()\n",
        "\n",
        "  with torch.inference_mode():\n",
        "    test_pred = model_1(X_test)\n",
        "\n",
        "    test_loss = loss_fn(test_pred, y_test)\n",
        "\n",
        "  if epoch %100 == 0:\n",
        "    print(f\"epoch: {epoch} | train loss: {loss} | test loss: {test_loss}\")"
      ],
      "metadata": {
        "colab": {
          "base_uri": "https://localhost:8080/"
        },
        "id": "U-zjWiuyyBGz",
        "outputId": "fe049d7f-c623-4e51-d18a-7a54df0431fe"
      },
      "execution_count": 127,
      "outputs": [
        {
          "output_type": "stream",
          "name": "stdout",
          "text": [
            "epoch: 0 | train loss: 0.18163420259952545 | test loss: 0.05338358134031296\n",
            "epoch: 100 | train loss: 0.18163420259952545 | test loss: 0.05338358134031296\n",
            "epoch: 200 | train loss: 0.18163420259952545 | test loss: 0.05338358134031296\n",
            "epoch: 300 | train loss: 0.18163420259952545 | test loss: 0.05338358134031296\n",
            "epoch: 400 | train loss: 0.18163420259952545 | test loss: 0.05338358134031296\n",
            "epoch: 500 | train loss: 0.18163420259952545 | test loss: 0.05338358134031296\n",
            "epoch: 600 | train loss: 0.18163420259952545 | test loss: 0.05338358134031296\n",
            "epoch: 700 | train loss: 0.18163420259952545 | test loss: 0.05338358134031296\n",
            "epoch: 800 | train loss: 0.18163420259952545 | test loss: 0.05338358134031296\n",
            "epoch: 900 | train loss: 0.18163420259952545 | test loss: 0.05338358134031296\n"
          ]
        }
      ]
    },
    {
      "cell_type": "code",
      "source": [
        "from pprint import pprint\n",
        "pprint(model_1.state_dict())\n",
        "print(f\" weight: {weight}, bias: {bias}\")"
      ],
      "metadata": {
        "colab": {
          "base_uri": "https://localhost:8080/"
        },
        "id": "GAw0Xj6j7H_M",
        "outputId": "7328a37b-9349-4652-e85a-be3fa1f6375e"
      },
      "execution_count": 128,
      "outputs": [
        {
          "output_type": "stream",
          "name": "stdout",
          "text": [
            "OrderedDict([('linear_layer.weight', tensor([[0.4392]])),\n",
            "             ('linear_layer.bias', tensor([0.4614]))])\n",
            " weight: 0.9, bias: 0.1\n"
          ]
        }
      ]
    },
    {
      "cell_type": "markdown",
      "source": [
        "### 6.4 making predictions"
      ],
      "metadata": {
        "id": "9DbtY5Nr8D4J"
      }
    },
    {
      "cell_type": "code",
      "source": [
        "model_1.eval()\n",
        "with torch.inference_mode():\n",
        "  y_preds = model_1(X_test)\n",
        "y_preds"
      ],
      "metadata": {
        "colab": {
          "base_uri": "https://localhost:8080/"
        },
        "id": "jrKv7K_Q8Y5l",
        "outputId": "029035b7-1316-4aee-e191-f2c4d3e03510"
      },
      "execution_count": 129,
      "outputs": [
        {
          "output_type": "execute_result",
          "data": {
            "text/plain": [
              "tensor([[0.8171],\n",
              "        [0.8303],\n",
              "        [0.8434],\n",
              "        [0.8566],\n",
              "        [0.8698],\n",
              "        [0.8830],\n",
              "        [0.8961]])"
            ]
          },
          "metadata": {},
          "execution_count": 129
        }
      ]
    },
    {
      "cell_type": "code",
      "source": [
        "plot_predictions(predictions = y_preds.cpu())"
      ],
      "metadata": {
        "colab": {
          "base_uri": "https://localhost:8080/",
          "height": 636
        },
        "id": "M8qheZRe8mOt",
        "outputId": "9ef97615-9cd5-4bf3-bdaa-4c1f3319e9e2"
      },
      "execution_count": 130,
      "outputs": [
        {
          "output_type": "display_data",
          "data": {
            "text/plain": [
              "<Figure size 1000x1000 with 1 Axes>"
            ],
            "image/png": "[encoded data removed]"
          },
          "metadata": {}
        }
      ]
    },
    {
      "cell_type": "code",
      "source": [],
      "metadata": {
        "id": "Clb9LmI58xbs"
      },
      "execution_count": null,
      "outputs": []
    },
    {
      "cell_type": "markdown",
      "source": [
        "### 6.5 saving & loading models"
      ],
      "metadata": {
        "id": "4ZpvVk0G9QGG"
      }
    },
    {
      "cell_type": "code",
      "source": [
        "from pathlib import Path\n",
        "\n",
        "# creating dir\n",
        "MODEL_PATH = Path(\"models\")\n",
        "MODEL_PATH.mkdir(parents = True, exist_ok = True)\n",
        "\n",
        "# creating save path\n",
        "MODEL_NAME = \"ava_V1.pth\"\n",
        "MODEL_SAVE_PATH = MODEL_PATH / MODEL_NAME\n",
        "\n",
        "#saving state dict\n",
        "torch.save(obj = model_1.state_dict(),\n",
        "           f = MODEL_SAVE_PATH)"
      ],
      "metadata": {
        "id": "7tup4F4Z9UI9"
      },
      "execution_count": 131,
      "outputs": []
    },
    {
      "cell_type": "code",
      "source": [
        "loaded_model_1 = LinearRegressionModelV2()\n",
        "loaded_model_1.load_state_dict(torch.load(MODEL_SAVE_PATH))\n",
        "loaded_model_1.to(device)\n",
        "\n",
        "print(f\"loaded model:\\n{loaded_model_1}\")\n",
        "print(f\"model on device:\\n{next(loaded_model_1.parameters()).device}\")"
      ],
      "metadata": {
        "colab": {
          "base_uri": "https://localhost:8080/"
        },
        "id": "NvrIj88F-Isy",
        "outputId": "cb960ca1-3d4c-4d4e-d427-5c3270d0595a"
      },
      "execution_count": 134,
      "outputs": [
        {
          "output_type": "stream",
          "name": "stdout",
          "text": [
            "loaded model:\n",
            "LinearRegressionModelV2(\n",
            "  (linear_layer): Linear(in_features=1, out_features=1, bias=True)\n",
            ")\n",
            "model on device:\n",
            "cpu\n"
          ]
        }
      ]
    },
    {
      "cell_type": "code",
      "source": [
        "loaded_model_1.eval()\n",
        "with torch.inference_mode():\n",
        "  loaded_model_pred = loaded_model_1(X_test)\n",
        "\n",
        "y_preds == loaded_model_pred"
      ],
      "metadata": {
        "colab": {
          "base_uri": "https://localhost:8080/"
        },
        "id": "NbgAvkL6-1WJ",
        "outputId": "08ec47ce-1857-4dbf-fe20-b9efe3161955"
      },
      "execution_count": 138,
      "outputs": [
        {
          "output_type": "execute_result",
          "data": {
            "text/plain": [
              "tensor([[True],\n",
              "        [True],\n",
              "        [True],\n",
              "        [True],\n",
              "        [True],\n",
              "        [True],\n",
              "        [True]])"
            ]
          },
          "metadata": {},
          "execution_count": 138
        }
      ]
    }
  ]
}